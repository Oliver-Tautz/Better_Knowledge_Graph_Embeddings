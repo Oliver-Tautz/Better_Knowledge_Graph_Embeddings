{
 "cells": [
  {
   "cell_type": "code",
   "execution_count": 7,
   "id": "bb8f38e9-b7bf-4029-aafc-8c9d4d2ab6fd",
   "metadata": {},
   "outputs": [],
   "source": [
    "from rdflib import Graph, URIRef\n",
    "from rdflib.extras.external_graph_libs import rdflib_to_networkx_multidigraph\n",
    "import networkx as nx\n",
    "\n",
    "import numpy as np\n",
    "\n",
    "g_train = Graph()\n",
    "g_val = Graph()\n",
    "g_test = Graph()\n",
    "\n",
    "g_train = g_train.parse('FB15k-237/train.nt', format='nt')\n",
    "g_val   = g_val.parse('FB15k-237/valid.nt', format='nt')\n",
    "g_test  = g_test.parse('FB15k-237/test.nt', format='nt')"
   ]
  },
  {
   "cell_type": "code",
   "execution_count": 8,
   "id": "bd857d15-ac1b-46d7-926b-c73ff6dcf22d",
   "metadata": {},
   "outputs": [],
   "source": [
    "def get_smaller_graph(graph,number_of_triples):\n",
    "    smaller = Graph()\n",
    "    ix = np.random.choice(range(len(graph)),number_of_triples)\n",
    "    chosen = np.array(list(graph))[ix]\n",
    "\n",
    "    \n",
    "    for s,p,o in chosen:\n",
    "        smaller.add((URIRef(s),URIRef(p),URIRef(o)))\n",
    "    return smaller"
   ]
  },
  {
   "cell_type": "code",
   "execution_count": 17,
   "id": "5e0ae29d-d32a-415d-bbad-63dba146e41b",
   "metadata": {},
   "outputs": [],
   "source": [
    "graphs = [g_train,g_val,g_test]\n",
    "size = [1000,1000,1000]\n",
    "names = [f'FB15k-237/train_{size[0]}.nt',f'FB15k-237/test_{size[0]}.nt',f'FB15k-237/valid_{size[0]}.nt']\n"
   ]
  },
  {
   "cell_type": "code",
   "execution_count": 18,
   "id": "6fa77b0c-bef7-40db-b855-4343523bf1fe",
   "metadata": {
    "tags": []
   },
   "outputs": [],
   "source": [
    "for g,name,size in zip(graphs,names,size):\n",
    "    smaller = get_smaller_graph(g,size)\n",
    "    smaller.serialize(name,format='nt')\n",
    "    "
   ]
  }
 ],
 "metadata": {
  "kernelspec": {
   "display_name": "std-env",
   "language": "python",
   "name": "std-env"
  },
  "language_info": {
   "codemirror_mode": {
    "name": "ipython",
    "version": 3
   },
   "file_extension": ".py",
   "mimetype": "text/x-python",
   "name": "python",
   "nbconvert_exporter": "python",
   "pygments_lexer": "ipython3",
   "version": "3.10.8"
  }
 },
 "nbformat": 4,
 "nbformat_minor": 5
}
