{
 "cells": [
  {
   "cell_type": "code",
   "execution_count": 1,
   "id": "10c316ff-3679-4e37-bdc2-2742349ead62",
   "metadata": {},
   "outputs": [],
   "source": [
    "from rdflib import Graph\n",
    "import sys\n",
    "g_train = Graph()\n",
    "g_val = Graph()\n",
    "\n",
    "g_train = g_train.parse('FB15k-237/train.nt', format='nt')\n",
    "g_val   = g_val.parse('FB15k-237/valid.nt', format='nt')\n"
   ]
  },
  {
   "cell_type": "code",
   "execution_count": 2,
   "id": "d208d08f-a6cb-4f50-a305-31ac0a4ab75e",
   "metadata": {},
   "outputs": [],
   "source": [
    "sys.path.append('../code')\n",
    "\n",
    "from settings import VECTOR_SIZE,BERT_SIMPLE_MAXLEN,BERT_EPOCHS"
   ]
  },
  {
   "cell_type": "markdown",
   "id": "db30ad24-be71-4881-84cc-46166f67e333",
   "metadata": {},
   "source": [
    "#### Use objectives from T5 https://arxiv.org/abs/1910.10683\n",
    "\n",
    "Also look at Bert paper: https://arxiv.org/abs/1810.04805\n",
    "\n",
    "First is 'Bert Style' masked language modeling. (MLM)\n",
    "\n",
    "* Corrupt 15% of input tokens. \n",
    "* 90% of the corrupted tokens are replaced with out-of-alphabet masking token\n",
    "* 10% of corrupted tokens are replaced with random tokens\n",
    "\n",
    "#### Other Sources\n",
    "\n",
    "* https://towardsdatascience.com/how-to-train-a-bert-model-from-scratch-72cfce554fc6 as example of Bert training\n",
    "* https://huggingface.co/blog/how-to-train\n",
    "* tiny bert https://arxiv.org/abs/2110.01518\n",
    "\n",
    "#### Notes\n",
    "\n",
    "* Bert: \"In contrast to denoising auto-encoders (Vincent et al., 2008), we only predict the masked words rather than reconstructing the entire input.\"\n",
    "* Which tokenizer?! BPE useful? I think not. Look at https://huggingface.co/docs/transformers/main/en/tokenizer_summary"
   ]
  },
  {
   "cell_type": "markdown",
   "id": "c39096cd-5caf-43c7-8449-d1752c72275d",
   "metadata": {},
   "source": [
    "## Construct Dataset of 'Sentences'"
   ]
  },
  {
   "cell_type": "code",
   "execution_count": 3,
   "id": "fcbf83c9-9588-40dd-8e20-596021b80da1",
   "metadata": {},
   "outputs": [
    {
     "name": "stderr",
     "output_type": "stream",
     "text": [
      "/home/otautz/miniconda3/lib/python3.9/site-packages/tqdm/auto.py:22: TqdmWarning: IProgress not found. Please update jupyter and ipywidgets. See https://ipywidgets.readthedocs.io/en/stable/user_install.html\n",
      "  from .autonotebook import tqdm as notebook_tqdm\n"
     ]
    }
   ],
   "source": [
    "import torch\n",
    "import numpy as np"
   ]
  },
  {
   "cell_type": "code",
   "execution_count": 4,
   "id": "256f5636-e9cc-4209-9e1b-abb54d3abce1",
   "metadata": {},
   "outputs": [],
   "source": [
    "# Just use each triple as a sentence ...\n",
    "dataset_most_simple = [' '.join(x) for x in g_train]\n",
    "dataset_most_simple_eval = [' '.join(x) for x in g_val]"
   ]
  },
  {
   "cell_type": "code",
   "execution_count": 5,
   "id": "33cfc1c8-1ce9-4dae-b32e-461101ee4407",
   "metadata": {},
   "outputs": [
    {
     "data": {
      "text/plain": [
       "['http://example.org/m/03hl6lc http://example.org/award/award_category/nominees./award/award_nomination/nominated_for http://example.org/m/0404j37',\n",
       " 'http://example.org/m/05qgd9 http://example.org/education/university/domestic_tuition./measurement_unit/dated_money_value/currency http://example.org/m/09nqf',\n",
       " 'http://example.org/m/07kc_ http://example.org/music/performance_role/regular_performances./music/group_membership/role http://example.org/m/02sgy',\n",
       " 'http://example.org/m/04kd5d http://example.org/soccer/football_team/current_roster./soccer/football_roster_position/position http://example.org/m/02nzb8',\n",
       " 'http://example.org/m/02w7gg http://example.org/people/ethnicity/people http://example.org/m/01l2fn',\n",
       " 'http://example.org/m/0cgbf http://example.org/base/popstra/celebrity/friendship./base/popstra/friendship/participant http://example.org/m/018417',\n",
       " 'http://example.org/m/02x3lt7 http://example.org/film/film/music http://example.org/m/01mkn_d',\n",
       " 'http://example.org/m/0gs9p http://example.org/award/award_category/winners./award/award_honor/ceremony http://example.org/m/02jp5r',\n",
       " 'http://example.org/m/01gsvp http://example.org/government/legislative_session/members./government/government_position_held/legislative_sessions http://example.org/m/01gstn',\n",
       " 'http://example.org/m/0nlg4 http://example.org/location/location/adjoin_s./location/adjoining_relationship/adjoins http://example.org/m/0d2kt']"
      ]
     },
     "execution_count": 5,
     "metadata": {},
     "output_type": "execute_result"
    }
   ],
   "source": [
    "dataset_most_simple[0:10]"
   ]
  },
  {
   "cell_type": "markdown",
   "id": "012589a7-a947-44b0-8441-24982659bdea",
   "metadata": {},
   "source": [
    "# Define and Train Tokenizer\n",
    "It is unclear which tokenizer works. I will start with a really simple example."
   ]
  },
  {
   "cell_type": "code",
   "execution_count": 6,
   "id": "5438ed05-3cbb-490a-8d8c-5a1edc247e38",
   "metadata": {},
   "outputs": [],
   "source": [
    "import transformers"
   ]
  },
  {
   "cell_type": "code",
   "execution_count": 7,
   "id": "4600f102-bdad-4038-9f7b-8fc2194e263c",
   "metadata": {},
   "outputs": [],
   "source": [
    "from tokenizers.models import WordLevel\n",
    "from tokenizers import Tokenizer\n",
    "from transformers import BertTokenizer, EncoderDecoderModel, BertForTokenClassification\n",
    "from tokenizers.pre_tokenizers import WhitespaceSplit\n",
    "from tokenizers.trainers import WordLevelTrainer\n",
    "from tokenizers.processors import BertProcessing\n",
    "from transformers import BertConfig, BertModel, AutoModel\n",
    "import copy\n",
    "from collections import defaultdict\n",
    "import torchmetrics\n",
    "\n",
    "from tqdm import tqdm, trange"
   ]
  },
  {
   "cell_type": "code",
   "execution_count": 8,
   "id": "fdd0a5b5-e096-4fa6-86c3-ea0156a9d5f8",
   "metadata": {},
   "outputs": [
    {
     "data": {
      "text/plain": [
       "{'unk_token': '[UNK]',\n",
       " 'sep_token': '[SEP]',\n",
       " 'pad_token': '[PAD]',\n",
       " 'cls_token': '[CLS]',\n",
       " 'mask_token': '[MASK]'}"
      ]
     },
     "execution_count": 8,
     "metadata": {},
     "output_type": "execute_result"
    }
   ],
   "source": [
    "tz = BertTokenizer.from_pretrained(\"bert-base-cased\")\n",
    "special_tokens_map = tz.special_tokens_map_extended\n",
    "special_tokens_map"
   ]
  },
  {
   "cell_type": "code",
   "execution_count": 9,
   "id": "94e8e41a-cbac-4a58-8520-a14b22123946",
   "metadata": {},
   "outputs": [],
   "source": [
    "from torch.utils.data import Dataset, DataLoader\n",
    "\n",
    "\n",
    "def random_mask(token,mask_token,vocab_size,mask_chance = 0.15, mask_token_chance=0.9):\n",
    "    mask_roll = torch.rand(())\n",
    "    if mask_roll < mask_chance:\n",
    "        mask_token_roll = torch.rand(())\n",
    "        if mask_token_roll < mask_token_chance:\n",
    "            return mask_token, 1\n",
    "        else:\n",
    "            return torch.randint(high=vocab_size,size=()), 2\n",
    "        \n",
    "    else:\n",
    "        return token, 0\n",
    "\n",
    "def mask_list_of_lists(l, mask_token,vocab_size,special_token_ids):\n",
    "\n",
    "    # get random mask for each token, but not for special tokens\n",
    "    return torch.tensor([[random_mask(y,mask_token,vocab_size) if y not in special_token_ids else y for y in x ] for x in l])\n",
    "\n",
    "def mask_list(l, mask_token,vocab_size,special_token_ids):\n",
    "\n",
    "    # get random mask for each token, but not for special tokens\n",
    "    return torch.tensor([random_mask(y,mask_token,vocab_size) if y not in special_token_ids else (y,0) for y in l])\n",
    "\n",
    "class dataseSimpleTriple(Dataset):\n",
    "    def __init__(self, triples,special_tokens_map,max_length=128):\n",
    "        \n",
    "        word_level_tokenizer = Tokenizer(WordLevel(unk_token=special_tokens_map['unk_token']))\n",
    "        word_level_trainer = WordLevelTrainer(special_tokens=list(special_tokens_map.values()))\n",
    "        # Pretokenizer. This is important and could lead to better/worse results!\n",
    "        word_level_tokenizer.pre_tokenizer = WhitespaceSplit()\n",
    "        \n",
    "        word_level_tokenizer.train_from_iterator(dataset_most_simple,word_level_trainer)\n",
    "        \n",
    "        word_level_tokenizer.post_processor = BertProcessing(\n",
    "            (\"[SEP]\", word_level_tokenizer.token_to_id(\"[SEP]\")),\n",
    "            ('[CLS]', word_level_tokenizer.token_to_id('[CLS]')),\n",
    "        )\n",
    "        \n",
    "        mask_token = word_level_tokenizer.token_to_id(special_tokens_map['mask_token'])\n",
    "        word_level_tokenizer.enable_truncation(max_length=max_length)\n",
    "        self.labels = torch.tensor([x.ids for x in word_level_tokenizer.encode_batch(triples)])\n",
    "        \n",
    "\n",
    "        self.special_token_ids = [word_level_tokenizer.token_to_id(x) for x in special_tokens_map.values()]\n",
    "        \n",
    "        \n",
    "        \n",
    "        self.attention_masks = torch.stack([torch.ones(len(x)) for x in self.labels])\n",
    "        self.word_level_tokenizer = word_level_tokenizer\n",
    "    def __len__(self):\n",
    "        return len(self.labels)\n",
    "\n",
    "    def __getitem__(self, i):\n",
    "        return mask_list(self.labels[i],self.word_level_tokenizer.token_to_id(special_tokens_map['mask_token']),self.word_level_tokenizer.get_vocab_size(),self.special_token_ids), self.attention_masks[i], self.labels[i]\n",
    "    \n",
    "    def get_tokenizer(self):\n",
    "        return self.word_level_tokenizer"
   ]
  },
  {
   "cell_type": "code",
   "execution_count": 10,
   "id": "18b6494d-262d-4e1d-9072-147eeab95368",
   "metadata": {},
   "outputs": [],
   "source": [
    "dataset_simple = dataseSimpleTriple(dataset_most_simple,special_tokens_map)\n",
    "dataset_simple_eval = dataseSimpleTriple(dataset_most_simple_eval,special_tokens_map)\n",
    "tz = dataset_simple.get_tokenizer()\n",
    "\n",
    "\n"
   ]
  },
  {
   "cell_type": "code",
   "execution_count": 11,
   "id": "746f764f-9522-4e56-9fa4-3e6583fe3483",
   "metadata": {},
   "outputs": [
    {
     "data": {
      "text/plain": [
       "(tensor([[   3,    0],\n",
       "         [ 399,    0],\n",
       "         [  10,    0],\n",
       "         [1148,    0],\n",
       "         [   1,    0]]),\n",
       " tensor([1., 1., 1., 1., 1.]),\n",
       " tensor([   3,  399,   10, 1148,    1]))"
      ]
     },
     "execution_count": 11,
     "metadata": {},
     "output_type": "execute_result"
    }
   ],
   "source": [
    "dataset_simple[0]"
   ]
  },
  {
   "cell_type": "markdown",
   "id": "187eff82-054d-4586-81a7-9e38d766d551",
   "metadata": {},
   "source": [
    "# Setup Model"
   ]
  },
  {
   "cell_type": "code",
   "execution_count": 12,
   "id": "50ca609f-229b-45df-8908-c2c0ed636c10",
   "metadata": {},
   "outputs": [
    {
     "name": "stderr",
     "output_type": "stream",
     "text": [
      "Some weights of the model checkpoint at prajjwal1/bert-tiny were not used when initializing BertModel: ['cls.predictions.transform.LayerNorm.weight', 'cls.predictions.transform.LayerNorm.bias', 'cls.seq_relationship.weight', 'cls.seq_relationship.bias', 'cls.predictions.transform.dense.bias', 'cls.predictions.transform.dense.weight', 'cls.predictions.decoder.bias', 'cls.predictions.bias', 'cls.predictions.decoder.weight']\n",
      "- This IS expected if you are initializing BertModel from the checkpoint of a model trained on another task or with another architecture (e.g. initializing a BertForSequenceClassification model from a BertForPreTraining model).\n",
      "- This IS NOT expected if you are initializing BertModel from the checkpoint of a model that you expect to be exactly identical (initializing a BertForSequenceClassification model from a BertForSequenceClassification model).\n"
     ]
    }
   ],
   "source": [
    "tiny_pretrained = AutoModel.from_pretrained('prajjwal1/bert-tiny')\n",
    "tiny_config = tiny_pretrained.config\n",
    "tiny_config._name_or_path=\"otautz/tiny\"\n",
    "\n",
    "encoder_config = copy.copy(tiny_config)\n",
    "encoder_config.is_decoder = False\n",
    "encoder_config.add_cross_attention = False\n",
    "encoder_config.num_labels=tz.get_vocab_size()\n",
    "encoder_config.hidden_size = VECTOR_SIZE\n",
    "encoder_config.max_position_embeddings = BERT_SIMPLE_MAXLEN\n",
    "del tiny_pretrained"
   ]
  },
  {
   "cell_type": "code",
   "execution_count": 14,
   "id": "952ccc35-e47c-4ba0-a1c4-b5fb920efc30",
   "metadata": {},
   "outputs": [],
   "source": [
    "device = torch.device('cuda' if torch.cuda.is_available() else 'cpu')\n",
    "tiny_encoder  = BertForTokenClassification(encoder_config)\n",
    "tiny_encoder  = tiny_encoder.to(device)\n",
    "lossF = torch.nn.CrossEntropyLoss()\n",
    "dl = DataLoader(dataset_simple,batch_size=5000,shuffle=True,pin_memory=True)\n",
    "dl_eval =  DataLoader(dataset_simple_eval, batch_size=5000, shuffle=False, pin_memory=True)\n",
    "optimizer = torch.optim.Adam(tiny_encoder.parameters())"
   ]
  },
  {
   "cell_type": "code",
   "execution_count": 20,
   "id": "796742dc-d633-464e-85f0-f6e8cd6b6a16",
   "metadata": {
    "tags": []
   },
   "outputs": [
    {
     "name": "stderr",
     "output_type": "stream",
     "text": [
      "100%|██████████| 100/100 [1:41:41<00:00, 61.01s/it] \n"
     ]
    }
   ],
   "source": [
    "loss_metric = torchmetrics.aggregation.MeanMetric().to(device)\n",
    "batchloss_metric = torchmetrics.aggregation.CatMetric().to(device)\n",
    "batchloss_metric_eval = torchmetrics.aggregation.CatMetric().to(device)\n",
    "history = defaultdict(list)\n",
    "\n",
    "#for epochs in trange(BERT_EPOCHS):\n",
    "for epochs in trange(100):\n",
    "    for inputs, batch_mask, batch_labels in dl:\n",
    "        tiny_encoder.train()\n",
    "        optimizer.zero_grad()\n",
    "        batch_id = inputs[:,:,0]\n",
    "        \n",
    "        out = tiny_encoder.forward(batch_id.to(device), batch_mask.to(device))\n",
    "        logits = out.logits\n",
    "\n",
    "        # (batchsize, sequence_len, no_labels)\n",
    "        logits_shape = logits.shape\n",
    "\n",
    "        # (batchsize * sequence_len, no_labels)\n",
    "        logits_no_sequence =  logits.reshape(logits_shape[0]*logits_shape[1],logits_shape[2])\n",
    "\n",
    "        # (batchsize)\n",
    "        batch_labels_no_sequence = batch_labels.flatten().to(device)\n",
    "        \n",
    "        batch_mask = (inputs[:,:,1]>0).flatten().to(device)\n",
    "\n",
    "        loss= lossF(logits_no_sequence[batch_mask],batch_labels_no_sequence[batch_mask])\n",
    "\n",
    "        loss.backward()\n",
    "        optimizer.step()\n",
    "        \n",
    "        loss_metric(loss)\n",
    "        batchloss_metric(loss)\n",
    "    \n",
    "    history['loss'].append(loss_metric.compute().item())\n",
    "    loss_metric.reset()\n",
    "    with torch.no_grad():\n",
    "        tiny_encoder.eval()\n",
    "        for inputs, batch_mask, batch_labels in dl_eval:\n",
    "                        optimizer.zero_grad()\n",
    "                        batch_id = inputs[:, :, 0]\n",
    "\n",
    "                        out = tiny_encoder.forward(batch_id.to(device), batch_mask.to(device))\n",
    "                        logits = out.logits\n",
    "\n",
    "                        # (batchsize, sequence_len, no_labels)\n",
    "                        logits_shape = logits.shape\n",
    "\n",
    "                        # (batchsize * sequence_len, no_labels)\n",
    "                        logits_no_sequence = logits.reshape(logits_shape[0] * logits_shape[1], logits_shape[2])\n",
    "\n",
    "                        # (batchsize)\n",
    "                        batch_labels_no_sequence = batch_labels.flatten().to(device)\n",
    "\n",
    "                        batch_mask = (inputs[:, :, 1] > 0).flatten().to(device)\n",
    "\n",
    "                        loss = lossF(logits_no_sequence[batch_mask], batch_labels_no_sequence[batch_mask])\n",
    "\n",
    "                        loss_metric(loss)\n",
    "                        batchloss_metric_eval(loss)\n",
    "\n",
    "        history['loss_eval'].append(loss_metric.compute().item())\n",
    "        loss_metric.reset()    \n",
    "    "
   ]
  },
  {
   "cell_type": "code",
   "execution_count": 21,
   "id": "a7e6c550-9fc7-466b-a554-0aac8a175d89",
   "metadata": {},
   "outputs": [
    {
     "data": {
      "text/plain": [
       "<AxesSubplot:>"
      ]
     },
     "execution_count": 21,
     "metadata": {},
     "output_type": "execute_result"
    },
    {
     "data": {
      "image/png": "[encoded data removed]",
      "text/plain": [
       "<Figure size 432x288 with 1 Axes>"
      ]
     },
     "metadata": {
      "needs_background": "light"
     },
     "output_type": "display_data"
    }
   ],
   "source": [
    "import pandas as pd\n",
    "pd.DataFrame(history).to_csv('bert_loss_eval.csv')\n",
    "pd.DataFrame(history).plot()"
   ]
  },
  {
   "cell_type": "code",
   "execution_count": 38,
   "id": "0dbbff9f-b0b8-4052-b839-d0bc3a9abedb",
   "metadata": {},
   "outputs": [
    {
     "data": {
      "text/plain": [
       "<AxesSubplot:>"
      ]
     },
     "execution_count": 38,
     "metadata": {},
     "output_type": "execute_result"
    },
    {
     "data": {
      "image/png": "[encoded data removed]",
      "text/plain": [
       "<Figure size 432x288 with 1 Axes>"
      ]
     },
     "metadata": {
      "needs_background": "light"
     },
     "output_type": "display_data"
    }
   ],
   "source": [
    "pd.DataFrame(batchloss_metric.compute().detach().cpu()).to_csv('bert_batchloss.csv')\n",
    "pd.DataFrame(batchloss_metric.compute().detach().cpu()).plot()"
   ]
  },
  {
   "cell_type": "code",
   "execution_count": 39,
   "id": "36af7df5-3422-460b-a4a4-63d329ccdcb9",
   "metadata": {},
   "outputs": [
    {
     "data": {
      "text/plain": [
       "<AxesSubplot:>"
      ]
     },
     "execution_count": 39,
     "metadata": {},
     "output_type": "execute_result"
    },
    {
     "data": {
      "image/png": "[encoded data removed]",
      "text/plain": [
       "<Figure size 432x288 with 1 Axes>"
      ]
     },
     "metadata": {
      "needs_background": "light"
     },
     "output_type": "display_data"
    }
   ],
   "source": [
    "pd.DataFrame(batchloss_metric_eval.compute().detach().cpu()).to_csv('bert_batchloss_eval.csv')\n",
    "pd.DataFrame(batchloss_metric_eval.compute().detach().cpu()).plot()"
   ]
  },
  {
   "cell_type": "markdown",
   "id": "8207b893-95d4-45c2-b374-b4c22adaf093",
   "metadata": {},
   "source": [
    "# Save pretrained"
   ]
  },
  {
   "cell_type": "code",
   "execution_count": 40,
   "id": "d8496164-3f74-419e-8d15-ddb115aaa874",
   "metadata": {},
   "outputs": [],
   "source": [
    "tiny_encoder.save_pretrained(\"tiny_bert_from_scratch_simple_eval\")\n",
    "tz.save('tiny_bert_from_scratch_simple_tokenizer_eval.json')"
   ]
  },
  {
   "cell_type": "markdown",
   "id": "8fa58de1-609e-4387-9793-7ce79a2339e3",
   "metadata": {},
   "source": [
    "# Test Loading"
   ]
  },
  {
   "cell_type": "code",
   "execution_count": 41,
   "id": "0ed1af77-d7c2-4a6b-b08f-f077a088732d",
   "metadata": {
    "tags": []
   },
   "outputs": [
    {
     "name": "stderr",
     "output_type": "stream",
     "text": [
      "Some weights of the model checkpoint at tiny_bert_from_scratch_simple_eval were not used when initializing BertModel: ['classifier.bias', 'classifier.weight']\n",
      "- This IS expected if you are initializing BertModel from the checkpoint of a model trained on another task or with another architecture (e.g. initializing a BertForSequenceClassification model from a BertForPreTraining model).\n",
      "- This IS NOT expected if you are initializing BertModel from the checkpoint of a model that you expect to be exactly identical (initializing a BertForSequenceClassification model from a BertForSequenceClassification model).\n",
      "Some weights of BertModel were not initialized from the model checkpoint at tiny_bert_from_scratch_simple_eval and are newly initialized: ['bert.pooler.dense.weight', 'bert.pooler.dense.bias']\n",
      "You should probably TRAIN this model on a down-stream task to be able to use it for predictions and inference.\n"
     ]
    }
   ],
   "source": [
    "model = AutoModel.from_pretrained('tiny_bert_from_scratch_simple_eval')\n",
    "tz = Tokenizer(WordLevel(unk_token=special_tokens_map['unk_token']))"
   ]
  },
  {
   "cell_type": "code",
   "execution_count": 42,
   "id": "9cdc376a-0594-48dc-aabb-6eea8b9f703d",
   "metadata": {},
   "outputs": [],
   "source": [
    "from transformers import PreTrainedTokenizerFast"
   ]
  },
  {
   "cell_type": "code",
   "execution_count": 43,
   "id": "ce550ac9-4b39-4997-89f9-6215e059c128",
   "metadata": {},
   "outputs": [],
   "source": [
    "tz = PreTrainedTokenizerFast(tokenizer_file='tiny_bert_from_scratch_simple_tokenizer_eval.json')"
   ]
  },
  {
   "cell_type": "code",
   "execution_count": 44,
   "id": "0c4af4da-3282-47d1-9591-5039b7049300",
   "metadata": {},
   "outputs": [],
   "source": [
    "test = dataset_most_simple[0]\n",
    "test = tz.encode(test)"
   ]
  },
  {
   "cell_type": "code",
   "execution_count": 45,
   "id": "ae2bdefc-873e-43c9-8403-4d54efc61435",
   "metadata": {},
   "outputs": [
    {
     "data": {
      "text/plain": [
       "tensor([   3,  399,   10, 1148,    1])"
      ]
     },
     "execution_count": 45,
     "metadata": {},
     "output_type": "execute_result"
    }
   ],
   "source": [
    "torch.tensor(test)"
   ]
  },
  {
   "cell_type": "code",
   "execution_count": 46,
   "id": "c5a89556-38d0-492f-a969-75583cfc566b",
   "metadata": {},
   "outputs": [
    {
     "data": {
      "text/plain": [
       "torch.Size([5, 100])"
      ]
     },
     "execution_count": 46,
     "metadata": {},
     "output_type": "execute_result"
    }
   ],
   "source": [
    "model(torch.tensor(test).unsqueeze(0))['last_hidden_state'].squeeze().shape"
   ]
  },
  {
   "cell_type": "code",
   "execution_count": 47,
   "id": "74e1e8bc-7699-40c3-bfbf-60c656e96f8f",
   "metadata": {},
   "outputs": [],
   "source": [
    "from utils_graph import get_entities"
   ]
  },
  {
   "cell_type": "code",
   "execution_count": 50,
   "id": "f25237e3-236c-4429-8be4-82b9626b11c8",
   "metadata": {},
   "outputs": [],
   "source": [
    "def get_embeddings(entities,bert_model,tokenizer):\n",
    "    entities = [tokenizer.encode(x) for x in np.array(entities)]\n",
    "    embeddings = model(torch.tensor(entities))\n",
    "    embeddings = embeddings['last_hidden_state'][:,1]\n",
    "    return embeddings"
   ]
  },
  {
   "cell_type": "code",
   "execution_count": 51,
   "id": "5aa26831-b95d-4124-8894-5c02dffeacdd",
   "metadata": {},
   "outputs": [],
   "source": [
    "entities = get_entities([g_train])"
   ]
  },
  {
   "cell_type": "code",
   "execution_count": 52,
   "id": "c3ce3a79-31e5-4ed3-9d05-eb1d09c6f585",
   "metadata": {
    "tags": []
   },
   "outputs": [],
   "source": [
    "embs = get_embeddings(entities,model,tz)"
   ]
  },
  {
   "cell_type": "code",
   "execution_count": 53,
   "id": "44826028-6ef2-47da-9afd-d92d28dcde5c",
   "metadata": {},
   "outputs": [
    {
     "data": {
      "text/plain": [
       "torch.Size([14505, 100])"
      ]
     },
     "execution_count": 53,
     "metadata": {},
     "output_type": "execute_result"
    }
   ],
   "source": [
    "embs.shape"
   ]
  }
 ],
 "metadata": {
  "kernelspec": {
   "display_name": "Python 3",
   "language": "python",
   "name": "python3"
  },
  "language_info": {
   "codemirror_mode": {
    "name": "ipython",
    "version": 3
   },
   "file_extension": ".py",
   "mimetype": "text/x-python",
   "name": "python",
   "nbconvert_exporter": "python",
   "pygments_lexer": "ipython3",
   "version": "3.9.12"
  }
 },
 "nbformat": 4,
 "nbformat_minor": 5
}
