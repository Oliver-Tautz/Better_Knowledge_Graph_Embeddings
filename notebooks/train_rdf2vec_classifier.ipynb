{
 "cells": [
  {
   "cell_type": "markdown",
   "id": "b868c6eb",
   "metadata": {},
   "source": [
    "## Download and check rdf2vec"
   ]
  },
  {
   "cell_type": "code",
   "execution_count": 1,
   "id": "edae41f5-8379-478a-80b4-8703c94916fa",
   "metadata": {},
   "outputs": [],
   "source": [
    "training = 0\n",
    "VECTOR_SIZE=100\n",
    "test_classic_ml = False\n",
    "CLASSIFIER_EPOCHS = 50"
   ]
  },
  {
   "cell_type": "code",
   "execution_count": 2,
   "id": "f252b4c2",
   "metadata": {},
   "outputs": [
    {
     "name": "stdout",
     "output_type": "stream",
     "text": [
      "File ‘jrdf2vec-1.3-SNAPSHOT.jar’ already there; not retrieving.\n",
      "\n"
     ]
    }
   ],
   "source": [
    "# download jrdf2vec\n",
    "! wget -nc https://raw.githubusercontent.com/dwslab/jRDF2Vec/jars/jars/jrdf2vec-1.3-SNAPSHOT.jar"
   ]
  },
  {
   "cell_type": "code",
   "execution_count": 3,
   "id": "108c9ee7",
   "metadata": {},
   "outputs": [],
   "source": [
    "# Check jrdf2vec installation. Should print \"=> Everything is installed. You are good to go!\" somewhere\n",
    "if training:\n",
    "    ! java -jar jrdf2vec-1.3-SNAPSHOT.jar -checkInstallation"
   ]
  },
  {
   "cell_type": "markdown",
   "id": "913f4da3",
   "metadata": {},
   "source": [
    "## Download Dataset\n"
   ]
  },
  {
   "cell_type": "code",
   "execution_count": 4,
   "id": "7a6a4166-a9ac-41ca-8c70-df8812e17253",
   "metadata": {},
   "outputs": [
    {
     "name": "stdout",
     "output_type": "stream",
     "text": [
      "Archive:  fb15k-237_nt.zip\n"
     ]
    }
   ],
   "source": [
    "# download .nt dataset from my drive\n",
    "! wget -q -nc --no-check-certificate 'https://docs.google.com/uc?export=download&id=1pBnn8bjI2VkVvBR33DnvpeyocfDhMCFA' -O fb15k-237_nt.zip\n",
    "\n",
    "! unzip -n fb15k-237_nt.zip"
   ]
  },
  {
   "cell_type": "markdown",
   "id": "f5a09bcf",
   "metadata": {},
   "source": [
    "## Generate walks and train rdf2vec"
   ]
  },
  {
   "cell_type": "code",
   "execution_count": 5,
   "id": "a781daf9",
   "metadata": {
    "tags": []
   },
   "outputs": [],
   "source": [
    "# generate walks and train rdf2vec on train set with default parameters\n",
    "if training:\n",
    "    ! rm -rf walks\n",
    "    ! java -jar jrdf2vec-1.3-SNAPSHOT.jar -walkDirectory walks -graph FB15k-237/train.nt -threads 10 -dimension 100"
   ]
  },
  {
   "cell_type": "code",
   "execution_count": 6,
   "id": "4c9e650f",
   "metadata": {},
   "outputs": [],
   "source": [
    "import numpy as np\n",
    "import gc\n",
    "\n",
    "def get_entities(graphs):\n",
    "    # get subjects and objects\n",
    "    entities = []\n",
    "    \n",
    "    for g in graphs:\n",
    "        entities = entities + list(g.subjects(unique=True)) + list(g.objects(unique=True))\n",
    "\n",
    "    # pythons stupid version of nub\n",
    "    entities = list(dict.fromkeys(entities))\n",
    "    return entities\n",
    "\n",
    "def get_all_corrupted_triples_fast(triple,entities,position = 'object'):\n",
    "    # not faster ...\n",
    "\n",
    "    s,p,o = triple\n",
    "\n",
    "    object_augmented = [(x,y,z) for  (x,y), z in itertools.product([triple[0:2]],entities)]\n",
    "    subject_augmented =[(x,y,z) for  x, (y,z) in itertools.product(entities,[triple[1:3]])]\n",
    "    \n",
    "    \n",
    "    return itertools.chain(object_augmented , subject_augmented)\n",
    "\n",
    "def get_all_corrupted_triples(triple,entities):\n",
    "    #too slow ....\n",
    "    \n",
    "    s,p,o = triple\n",
    "    subject_corrupted = [(s_corr,p,o) for s_corr in entities if s_corr != s]\n",
    "    object_corrupted = [(s,p,o_corr)   for o_corr in entities if o_corr != o]\n",
    "\n",
    "    return subject_corrupted + object_corrupted\n",
    "\n",
    "\n",
    "    \n",
    "\n",
    "def choose_many_multiple(arrs,n):\n",
    "    l = len(arrs[0])\n",
    "    for a in arrs:\n",
    "        assert len(a) == l, 'Arres not of same length ! :('\n",
    "        \n",
    "    \n",
    "    ix = np.random.choice(range(len(a)),n)\n",
    "    \n",
    "    return [np.array(a)[ix] for a in arrs]\n",
    "    \n",
    "def choose_many(a,n):\n",
    "    ix = np.random.choice(range(len(a)),n)\n",
    "    return np.array(a)[ix]\n",
    "    \n",
    "def choose(a):\n",
    "\n",
    "    L = len(a)\n",
    "\n",
    "    i = np.random.randint(0,L)\n",
    "\n",
    "    return a[i]\n",
    "\n",
    "def get_random_corrupted_triple(triple,entities, corrupt='object'):\n",
    "    \"\"\"\n",
    "    corrupt = one of 'subject', 'object', 'both'\n",
    "    \n",
    "    return corrupted triple with random entity\n",
    "    \"\"\"\n",
    "\n",
    "    s,p,o = triple\n",
    "    \n",
    "    # set up as the same\n",
    "    s_corr = s\n",
    "    o_corr = o\n",
    "    \n",
    "    if corrupt == 'subject':  \n",
    "        # corrupt only the subject\n",
    "        while s_corr == s:\n",
    "            s_corr = choose(entities)  \n",
    "    elif corrupt == 'object':\n",
    "        # corrupt only the object\n",
    "        while o_corr == o:\n",
    "            o_corr = choose(entities)  \n",
    "    elif corrupt == 'random':\n",
    "        # corrupt one or both randomly\n",
    "        ch = np.random.randint(3)\n",
    "        \n",
    "        if ch == 0:\n",
    "            while s_corr == s:\n",
    "                s_corr = choose(entities)  \n",
    "        if ch == 1 :\n",
    "            while o_corr == o:\n",
    "                o_corr = choose(entities)  \n",
    "        if ch == 2:\n",
    "            while s_corr == s or o_corr == o:\n",
    "                s_corr = choose(entities)  \n",
    "                o_corr = choose(entities) \n",
    "    else:\n",
    "        while s_corr == s or o_corr == o:\n",
    "            s_corr = choose(entities)  \n",
    "            o_corr = choose(entities) \n",
    "            \n",
    "    \n",
    "    return (s_corr,p,o_corr)\n",
    "    \n",
    "def merge_historires(history_list):\n",
    "    h = {}\n",
    "    for key in history_list[0].history.keys():\n",
    "        h[key] = [h.history[key][0] for h in histories]\n",
    "    return h    \n",
    "\n",
    "\n",
    "def clean_graph(graph,wv):\n",
    "    \"\"\"\n",
    "    clean graph such that all triples have word vectors present in wv\n",
    "    \n",
    "    \"\"\"\n",
    "    no_removed = 0 \n",
    "    for t in graph:\n",
    "        s,p,o = t\n",
    "        if not str(s) in wv.key_to_index.keys() or not str(p) in wv.key_to_index.keys() or not str(o) in wv.key_to_index.keys():\n",
    "            graph.remove(t)\n",
    "            no_removed+=1\n",
    "    return no_removed\n",
    "    \n",
    "    \n",
    "def get_vectors_fast(triples,entity_vec_mapping,vector_size=VECTOR_SIZE):\n",
    "    # ~20-30% faster\n",
    "    X = np.array(triples)\n",
    "    X = word_vectors[X.flatten()].reshape(len(triples),vector_size*3)\n",
    "    \n",
    "    return X    \n",
    "\n",
    "def get_vectors(triples,entity_vec_mapping,vector_size=200):\n",
    "    X = np.array(triples)\n",
    "    X = [(entity_vec_mapping(x[0]), entity_vec_mapping(x[1]),entity_vec_mapping(x[2])) for x in X]\n",
    "    X = [np.concatenate(x) for x in X]\n",
    "    X = np.vstack(X).astype(np.float64)\n",
    "    \n",
    "    return X\n",
    "\n",
    "def get_1_1_dataset(graph, entities,entity_vec_mapping,corrupt='random'):\n",
    "    \n",
    "    original_triple_len = len(graph)\n",
    "    # get triples\n",
    "    X = list(graph)\n",
    "    no_t = len(X)\n",
    "    \n",
    "\n",
    "    \n",
    "    corrupted_triples = [get_random_corrupted_triple(x,entities,corrupt=corrupt) for x in X]\n",
    "    X = X + corrupted_triples\n",
    "    \n",
    "    \n",
    "\n",
    "    # convert uris to strings\n",
    "    \n",
    "    X = get_vectors_fast(X,entity_vec_mapping)\n",
    "    \n",
    "    # stack them\n",
    "\n",
    "    Y = np.concatenate((np.ones(no_t),np.zeros(no_t))).astype(np.uint8)\n",
    "    \n",
    "    return X, Y\n",
    "\n",
    "def test_sklearn_model(model,X,Y,x_test,y_test,subset=10000):\n",
    "    \n",
    "\n",
    "  \n",
    "    \n",
    "    ix = np.random.choice(range(len(X)),size=subset)\n",
    "    \n",
    "    scaler = preprocessing.StandardScaler().fit(X)\n",
    "    \n",
    "    X_scaled = scaler.transform(X[ix])\n",
    "    model.fit(X_scaled,Y[ix])\n",
    "\n",
    "    print(f'train_score ={model.score(scaler.transform(X),Y)}')    \n",
    "    print(f'test_score ={model.score(scaler.transform(x_test),y_test)}')\n",
    "\n",
    "def scale_and_predict(model,x):\n",
    "    x = preprocessing.StandardScaler().fit_transform(x)\n",
    "    return model.predict(x)"
   ]
  },
  {
   "cell_type": "markdown",
   "id": "6d06e7fd",
   "metadata": {},
   "source": [
    "## Parse Graph"
   ]
  },
  {
   "cell_type": "code",
   "execution_count": 7,
   "id": "2e64f1c7",
   "metadata": {},
   "outputs": [],
   "source": [
    "from rdflib import Graph, URIRef\n",
    "from rdflib.extras.external_graph_libs import rdflib_to_networkx_multidigraph\n",
    "import networkx as nx\n",
    "\n",
    "\n",
    "\n",
    "g_train = Graph()\n",
    "g_val = Graph()\n",
    "g_test = Graph()\n",
    "\n",
    "g_train = g_train.parse('FB15k-237/train.nt', format='nt')\n",
    "g_val   = g_val.parse('FB15k-237/valid.nt', format='nt')\n",
    "g_test  = g_test.parse('FB15k-237/test.nt', format='nt')\n"
   ]
  },
  {
   "cell_type": "code",
   "execution_count": 8,
   "id": "c3b0c84e-0cfd-4133-8c17-49742ccef8b6",
   "metadata": {},
   "outputs": [
    {
     "data": {
      "text/plain": [
       "237"
      ]
     },
     "execution_count": 8,
     "metadata": {},
     "output_type": "execute_result"
    }
   ],
   "source": [
    "len(set(np.array(list(g_train.predicates()))))"
   ]
  },
  {
   "cell_type": "markdown",
   "id": "a82f1346",
   "metadata": {},
   "source": [
    "## Plot Graph (not working)"
   ]
  },
  {
   "cell_type": "code",
   "execution_count": 9,
   "id": "4c538a7e",
   "metadata": {},
   "outputs": [],
   "source": [
    "# taken from https://stackoverflow.com/questions/39274216/visualize-an-rdflib-graph-in-python\n",
    "# takes way too long ... use subgraph?!\n",
    "import matplotlib.pyplot as plt\n",
    "plot = False\n",
    "if plot:\n",
    "    G = rdflib_to_networkx_multidigraph(g_train[0:100])\n",
    "\n",
    "\n",
    "    pos = nx.spring_layout(G, scale=2)\n",
    "    edge_labels = nx.get_edge_attributes(G, 'r')\n",
    "    nx.draw_networkx_edge_labels(G, pos, edge_labels=edge_labels)\n",
    "    nx.draw(G, with_labels=True)\n",
    "\n",
    "    #if not in interactive mode for \n",
    "    plt.show()\n",
    "    "
   ]
  },
  {
   "cell_type": "code",
   "execution_count": 10,
   "id": "f97199e0-c550-49f1-a095-5ef70d0497d2",
   "metadata": {},
   "outputs": [],
   "source": [
    "from gensim.models import Word2Vec\n",
    "\n",
    "\n",
    "word_vectors = Word2Vec.load('walks/model').wv"
   ]
  },
  {
   "cell_type": "code",
   "execution_count": 11,
   "id": "187391ce-a626-47f8-8f9f-104f3f2a5e29",
   "metadata": {},
   "outputs": [],
   "source": [
    "def map_keyed_vectors(word_vectors, iterable):\n",
    "    \"\"\"\n",
    "    for some reason faster than native call :O\n",
    "    \"\"\"\n",
    "    return np.array(list(word_vectors.get_vector(x) for x in iterable))"
   ]
  },
  {
   "cell_type": "code",
   "execution_count": 12,
   "id": "8a40410a-9f37-4b6a-97b7-343741815a1e",
   "metadata": {},
   "outputs": [
    {
     "name": "stdout",
     "output_type": "stream",
     "text": [
      "removed 259 triples from training set\n",
      "removed 37 triples from validation set\n",
      "removed 59 triples from test set\n"
     ]
    }
   ],
   "source": [
    "# clean graphs \n",
    "# number of triples removed should be low, a few hundred\n",
    "print(f\"removed {clean_graph(g_train,word_vectors)} triples from training set\")\n",
    "print(f\"removed {clean_graph(g_val,word_vectors)} triples from validation set\")\n",
    "print(f\"removed {clean_graph(g_test,word_vectors)} triples from test set\")\n",
    "\n",
    "entities = get_entities((g_train,g_val,g_test))"
   ]
  },
  {
   "cell_type": "code",
   "execution_count": 13,
   "id": "87c169a4-dfb0-4937-bcb4-567ed2a74cee",
   "metadata": {},
   "outputs": [
    {
     "data": {
      "text/plain": [
       "'http://example.org/m/057hz'"
      ]
     },
     "execution_count": 13,
     "metadata": {},
     "output_type": "execute_result"
    }
   ],
   "source": [
    "'http://example.org/m/057hz'"
   ]
  },
  {
   "cell_type": "code",
   "execution_count": 14,
   "id": "c53f5767-7b00-40d1-99a2-effab1810498",
   "metadata": {},
   "outputs": [],
   "source": [
    "ent_vecs = word_vectors[np.array(entities)]"
   ]
  },
  {
   "cell_type": "code",
   "execution_count": 15,
   "id": "84f4d9fe-b9b3-4fc9-9d56-782da104f938",
   "metadata": {},
   "outputs": [
    {
     "data": {
      "text/plain": [
       "rdflib.term.URIRef('http://example.org/m/04kxsb')"
      ]
     },
     "execution_count": 15,
     "metadata": {},
     "output_type": "execute_result"
    }
   ],
   "source": [
    "entities[0]"
   ]
  },
  {
   "cell_type": "code",
   "execution_count": 16,
   "id": "6cc90e67-dfb0-4187-84ce-096fd5208b74",
   "metadata": {},
   "outputs": [
    {
     "name": "stdout",
     "output_type": "stream",
     "text": [
      "training datapoints = 543712\n",
      "validation datapoints = 34996\n",
      "test datapoints = 40814\n"
     ]
    }
   ],
   "source": [
    "X, Y = get_1_1_dataset(g_train,entities,lambda x : word_vectors[x])\n",
    "x_val , y_val= get_1_1_dataset(g_val,entities,lambda x : word_vectors[x])\n",
    "x_test , y_test= get_1_1_dataset(g_test,entities,lambda x : word_vectors[x])\n",
    "\n",
    "print(f\"training datapoints = {len(X)}\")\n",
    "print(f\"validation datapoints = {len(x_val)}\")\n",
    "print(f\"test datapoints = {len(x_test)}\")"
   ]
  },
  {
   "cell_type": "code",
   "execution_count": 17,
   "id": "01240b70-aebb-4a99-8be5-3b9be3f3068d",
   "metadata": {},
   "outputs": [],
   "source": [
    "# test some simple baselines\\\n",
    "import sklearn.linear_model\n",
    "import sklearn.ensemble\n",
    "from sklearn import preprocessing\n",
    "\n"
   ]
  },
  {
   "cell_type": "code",
   "execution_count": 18,
   "id": "ded6c5bf-f5f3-4d17-a371-964bdeb391b0",
   "metadata": {},
   "outputs": [],
   "source": [
    "if test_classic_ml:\n",
    "    # 0.6 is pretty bad\n",
    "    LR = sklearn.linear_model.LogisticRegression(max_iter=1000)\n",
    "    test_sklearn_model(LR,X,Y,x_test,y_test,10000)\n"
   ]
  },
  {
   "cell_type": "code",
   "execution_count": 19,
   "id": "3b4befa0-03f2-456d-aa7c-3cacf0d59c8d",
   "metadata": {},
   "outputs": [],
   "source": [
    "if test_classic_ml:\n",
    "    # this works pretty well out of the box\n",
    "    randomforest = sklearn.ensemble.RandomForestClassifier()\n",
    "    test_sklearn_model(randomforest,X,Y,x_test,y_test,10000)"
   ]
  },
  {
   "cell_type": "code",
   "execution_count": 20,
   "id": "c93d06f2-d2d5-4029-821e-3b14aa2ac64e",
   "metadata": {},
   "outputs": [],
   "source": [
    "def get_1_1_dataset(graph, entities,entity_vec_mapping,corrupt='random'):\n",
    "    \n",
    "    original_triple_len = len(graph)\n",
    "    # get triples\n",
    "    X = list(graph)\n",
    "    no_t = len(X)\n",
    "    \n",
    "\n",
    "    \n",
    "    corrupted_triples = [get_random_corrupted_triple(x,entities,corrupt=corrupt) for x in X]\n",
    "    X = X + corrupted_triples\n",
    "    \n",
    "    \n",
    "\n",
    "    # convert uris to strings\n",
    "    \n",
    "    X = get_vectors_fast(X,entity_vec_mapping)\n",
    "    \n",
    "    # stack them\n",
    "\n",
    "    Y = np.concatenate((np.ones(no_t),np.zeros(no_t))).astype(np.uint8)\n",
    "    \n",
    "    return X, Y"
   ]
  },
  {
   "cell_type": "code",
   "execution_count": 21,
   "id": "fc530634-4104-4a1f-ad74-4fc216a51337",
   "metadata": {},
   "outputs": [],
   "source": [
    "def get_random_corrupted_triple_embedded(triple,entities, corrupt='object',vector_size=VECTOR_SIZE):\n",
    "    \"\"\"\n",
    "    corrupt = one of 'subject', 'object', 'both'\n",
    "    \n",
    "    return corrupted triple with random entity\n",
    "    \"\"\"\n",
    "\n",
    "    \n",
    "    s = triple[0:VECTOR_SIZE]\n",
    "    p = triple[VECTOR_SIZE:VECTOR_SIZE*2]\n",
    "    o = triple[VECTOR_SIZE*2:]\n",
    "    \n",
    "    # set up as the same\n",
    "    s_corr = s[:]\n",
    "    o_corr = o[:]\n",
    "\n",
    "    if corrupt == 'subject':  \n",
    "   \n",
    "        # corrupt only the subject\n",
    "        while (s_corr == s).all():\n",
    "            s_corr = choose(entities)  \n",
    "    elif corrupt == 'object':\n",
    "        # corrupt only the object\n",
    "        while (o_corr == o).all():\n",
    "            o_corr = choose(entities)  \n",
    "    elif corrupt == 'random':\n",
    "        # corrupt one or both randomly\n",
    "        ch = np.random.randint(3)\n",
    "        \n",
    "        if ch == 0:\n",
    "            while (s_corr== s).all():\n",
    "                s_corr = choose(entities)  \n",
    "        if ch == 1 :\n",
    "            while (o_corr == o).all():\n",
    "                o_corr = choose(entities)  \n",
    "        if ch == 2:\n",
    "\n",
    "            while (s_corr == s).all() or (o_corr == o).all():\n",
    "                s_corr = choose(entities)  \n",
    "                o_corr = choose(entities) \n",
    "    else:\n",
    "\n",
    "        while (s_corr == s).all() or (o_corr == o).all():\n",
    "            s_corr = choose(entities)  \n",
    "            o_corr = choose(entities) \n",
    "            \n",
    "    \n",
    "    return np.concatenate((s_corr,p,o_corr),axis=0)\n",
    "\n",
    "def get_1_1_dataset_embedded(graph, entities,corrupt='random', vector_size=VECTOR_SIZE):\n",
    "    \"\"\"\n",
    "    graph: numpy array of shape (samples,3*\n",
    "    \"\"\"\n",
    "  \n",
    "    if len(graph.shape) == 1:\n",
    "        graph = np.expand_dims(graph,0)\n",
    "    #print(graph.shape)\n",
    "    no_t = len(graph)\n",
    "    corrupted_triples = [get_random_corrupted_triple_embedded(x,entities,corrupt=corrupt,vector_size=vector_size) for x in graph]\n",
    "    X = np.concatenate((graph,corrupted_triples),axis=0)\n",
    "\n",
    "    Y = np.concatenate((np.ones(no_t),np.zeros(no_t))).astype(np.uint8)\n",
    "    \n",
    "    return X, Y\n",
    "import torch\n",
    "class Dataset11(torch.utils.data.Dataset):\n",
    "    def __init__(self,graph,vec_mapping,entities,corrupt='random',vector_size=VECTOR_SIZE):\n",
    "        \"\"\"\n",
    "        graph: graph to train on\n",
    "        vec_mapping: function that returns vectos from URIs\n",
    "        entities: iterable of all entities to build fake triples\n",
    "        \"\"\"\n",
    "        \n",
    "        \n",
    "        self.entities = vec_mapping(np.array(entities))        \n",
    "        self.graph = get_vectors_fast(graph,vec_mapping)\n",
    "        self.len = len(graph)\n",
    "        self.vec_mapping = vec_mapping\n",
    "        self.corrupt = corrupt\n",
    "        self.vector_size = vector_size\n",
    "\n",
    "        \n",
    "    def __len__(self) :\n",
    "        return self.len\n",
    "    def __getitem__(self,ix):\n",
    "        return get_1_1_dataset_embedded(self.graph[ix],self.entities,self.corrupt,self.vector_size)\n",
    "\n"
   ]
  },
  {
   "cell_type": "code",
   "execution_count": 22,
   "id": "7383975f-30c5-4468-8726-e29ed51403ce",
   "metadata": {},
   "outputs": [],
   "source": [
    "from tqdm import trange,tqdm\n",
    "from collections import defaultdict\n",
    "from torch.utils.data import DataLoader\n",
    "\n",
    "def fit_1_1(model,graph,word_vec_mapping,batch_size,entities,metrics=None,epochs=50,optimizer=None,lossF= torch.nn.BCEWithLogitsLoss(),graph_eval=None):\n",
    "    \"\"\"\n",
    "    metrics: dictionary of {name:torchmetric} to track for training and evaluation.\n",
    "    \"\"\"\n",
    "    \n",
    "    device = torch.device('cuda' if torch.cuda.is_available() else 'cpu')\n",
    "    \n",
    "    # move metrics to device \n",
    "    metrics = {name:metric.to(device) for (name,metric) in metrics.items()}\n",
    "    \n",
    "    # move model to device\n",
    "\n",
    "    model = model.to(device)\n",
    "    \n",
    "    if not optimizer:\n",
    "        optimizer = torch.optim.Adam(model.parameters())\n",
    "    \n",
    "    history = defaultdict(list)\n",
    "    loss_metric = torchmetrics.aggregation.MeanMetric().to(device)\n",
    "    \n",
    "    dataset = Dataset11(graph,word_vec_mapping,entities,'random')\n",
    "    dataloader = DataLoader(dataset,batch_size=batch_size,shuffle=True)\n",
    "    \n",
    "    if graph_eval:\n",
    "        dataset_eval = Dataset11(graph_eval,word_vec_mapping,entities,'random')\n",
    "        dataloader_eval = DataLoader(dataset_eval,batch_size=batch_size,shuffle=False)\n",
    "    \n",
    "    for ep in trange(epochs):\n",
    "        # train \n",
    "        for X,Y in dataloader:\n",
    "            model.train()\n",
    "            \n",
    "            # shape is (bs,2,3*VECTORSIZE) because of dataset implementation\n",
    "            # so I need to flatten the arrays\n",
    "            X = torch.flatten(X,0,1)\n",
    "            Y = torch.flatten(Y)\n",
    "\n",
    "            X = X.to(device)\n",
    "            Y = Y.to(device).double()\n",
    "            \n",
    "            predictions = model(X).squeeze()\n",
    "            loss = lossF(predictions,Y)\n",
    "            loss_metric(loss)          \n",
    "            \n",
    "            \n",
    "            loss.backward()\n",
    "            optimizer.step()\n",
    "            optimizer.zero_grad()\n",
    "            \n",
    "            for metric in metrics.values():\n",
    "                metric(predictions,Y.long())\n",
    "            \n",
    "            \n",
    "        for name, metric in metrics.items():\n",
    "            history[name].append(metric.compute())\n",
    "            metric.reset()\n",
    "        history['loss'].append(loss_metric.compute() )   \n",
    "        loss_metric.reset() \n",
    "            \n",
    "        # eval\n",
    "        if graph_eval:\n",
    "            with torch.no_grad():\n",
    "                for X,Y in dataloader:\n",
    "                    model.eval()\n",
    "\n",
    "                    # shape is (bs,2,3*VECTORSIZE) because of dataset implementation\n",
    "                    # so I need to flatten the arrays\n",
    "                    X = torch.flatten(X,0,1)\n",
    "                    Y = torch.flatten(Y)\n",
    "\n",
    "                    X = X.to(device)\n",
    "                    Y= Y.to(device).double()\n",
    "\n",
    "\n",
    "                    predictions = model(X).squeeze()\n",
    "                    loss = lossF(predictions,Y)\n",
    "                    loss_metric(loss)\n",
    "\n",
    "\n",
    "                    for metric in metrics.values():\n",
    "                        metric(predictions,Y.long())\n",
    "\n",
    "                for name, metric in metrics.items():\n",
    "                    history[name+'_val'].append(metric.compute())\n",
    "                    metric.reset()\n",
    "                history['loss_val'].append(loss_metric.compute())\n",
    "                loss_metric.reset() \n",
    "    # tensor - > float conversion\n",
    "    history = {k: [x.item() for x in v] for (k,v) in history.items()}\n",
    "    return model, history\n",
    "    "
   ]
  },
  {
   "cell_type": "code",
   "execution_count": 23,
   "id": "2b0a6e85-44a1-469d-ae05-1e9b56425bab",
   "metadata": {},
   "outputs": [
    {
     "name": "stderr",
     "output_type": "stream",
     "text": [
      "2022-11-07 13:52:58.075705: W tensorflow/stream_executor/platform/default/dso_loader.cc:64] Could not load dynamic library 'libcudart.so.11.0'; dlerror: libcudart.so.11.0: cannot open shared object file: No such file or directory\n",
      "2022-11-07 13:52:58.075738: I tensorflow/stream_executor/cuda/cudart_stub.cc:29] Ignore above cudart dlerror if you do not have a GPU set up on your machine.\n"
     ]
    }
   ],
   "source": [
    "# pytorch model\n",
    "import torchmetrics\n",
    "import torch\n",
    "from torch import nn \n",
    "\n",
    "\n",
    "class ClassifierSimple(torch.nn.Module):\n",
    "    def __init__(self,input_dim=300,hidden_size=64):\n",
    "        super(ClassifierSimple, self).__init__()\n",
    "        \n",
    "        \n",
    "        self.layers = nn.Sequential(\n",
    "                # flatten input if necessary\n",
    "                nn.Flatten(),\n",
    "                nn.Linear(input_dim,hidden_size),\n",
    "                nn.ReLU(),\n",
    "                nn.Linear(hidden_size,1)\n",
    "        )\n",
    "        \n",
    "        self.output_activation = nn.Sigmoid()\n",
    "                \n",
    "        self.device = torch.device('cuda' if torch.cuda.is_available() else 'cpu')\n",
    " \n",
    "        \n",
    "    \n",
    "    def forward(self,x):        \n",
    "        \n",
    "        return self.layers(x)\n",
    "    def predict(self,x):\n",
    "        x.to(self.device)\n",
    "        \n",
    "        return self.output_activation(self.layers(x))\n",
    "    def predict_numpy(self,x):\n",
    "        x = torch.tensor(x)\n",
    "        x.to(self.device)\n",
    "        return self.output_activation(self.layers(x)).detach().cpu().numpy()\n",
    "        \n",
    "    \n"
   ]
  },
  {
   "cell_type": "code",
   "execution_count": 24,
   "id": "24a95465-512e-4740-a058-b549e551e3e6",
   "metadata": {},
   "outputs": [
    {
     "data": {
      "text/plain": [
       "6"
      ]
     },
     "execution_count": 24,
     "metadata": {},
     "output_type": "execute_result"
    }
   ],
   "source": [
    "torch.get_num_threads()"
   ]
  },
  {
   "cell_type": "code",
   "execution_count": 25,
   "id": "0810bf13-53a4-4829-b1af-6137f2e2029e",
   "metadata": {},
   "outputs": [
    {
     "name": "stdout",
     "output_type": "stream",
     "text": [
      "found trained model! Loading :)\n"
     ]
    }
   ],
   "source": [
    "from pathlib import Path\n",
    "import pandas as pd\n",
    "model = ClassifierSimple()    \n",
    "\n",
    "device = torch.device('cuda' if torch.cuda.is_available() else 'cpu')\n",
    "if Path('rdf2vecClassfier.pth').is_file():\n",
    "    print('found trained model! Loading :)')\n",
    "    model.load_state_dict(torch.load('rdf2vecClassfier.pth'))\n",
    "    history = pd.read_csv('log.csv')\n",
    "    model = model.to(device)\n",
    "else:\n",
    "    model = model.to(device)\n",
    "    model,history = fit_1_1(model,g_train,lambda x: word_vectors[x],3000,entities,metrics = {'acc' :torchmetrics.classification.Accuracy()},graph_eval=g_val,epochs=300)\n",
    "    model.eval()\n",
    "    torch.save(model.state_dict(),'rdf2vecClassfier.pth')"
   ]
  },
  {
   "cell_type": "code",
   "execution_count": 26,
   "id": "82e1b879-0606-41d6-8d49-ac514a4be3f9",
   "metadata": {
    "tags": []
   },
   "outputs": [
    {
     "data": {
      "text/plain": [
       "<AxesSubplot:>"
      ]
     },
     "execution_count": 26,
     "metadata": {},
     "output_type": "execute_result"
    },
    {
     "data": {
      "image/png": "[encoded data removed]",
      "text/plain": [
       "<Figure size 432x288 with 1 Axes>"
      ]
     },
     "metadata": {
      "needs_background": "light"
     },
     "output_type": "display_data"
    }
   ],
   "source": [
    "pd.DataFrame(history)[['acc','acc_val']].plot()"
   ]
  },
  {
   "cell_type": "code",
   "execution_count": 27,
   "id": "e1dfa919-8f2e-4c67-a6bd-aa0b4e6f8ed6",
   "metadata": {},
   "outputs": [
    {
     "data": {
      "text/plain": [
       "<AxesSubplot:>"
      ]
     },
     "execution_count": 27,
     "metadata": {},
     "output_type": "execute_result"
    },
    {
     "data": {
      "image/png": "[encoded data removed]",
      "text/plain": [
       "<Figure size 432x288 with 1 Axes>"
      ]
     },
     "metadata": {
      "needs_background": "light"
     },
     "output_type": "display_data"
    }
   ],
   "source": [
    "pd.DataFrame(history)[['loss','loss_val']].plot()"
   ]
  },
  {
   "cell_type": "code",
   "execution_count": 28,
   "id": "f95ab1b2-1076-4550-9e28-71659f588af7",
   "metadata": {},
   "outputs": [],
   "source": [
    "import time\n",
    "from tqdm import tqdm\n",
    "from collections import defaultdict\n",
    "from itertools import chain\n",
    "import pickle\n",
    "\n",
    "\n",
    "\n",
    "def evaluate_link_pred(score_f,graph,entity_vec_mapping,entities,vector_size = 100, max_triples=100, plot = False):\n",
    "    print('start_evaluating ...')\n",
    "    \n",
    "    entities = np.array(entities)\n",
    "    \n",
    "    stats = {'generate_time' : [],\n",
    "        'convert_time:': [],\n",
    "        'score_time': [],\n",
    "        'sort_time': [],\n",
    "        'total_time': []}\n",
    "\n",
    "    ranks = []\n",
    "    \n",
    "    \n",
    "    # slightly complicated defaultdict trick. Uninitialised 2dim matrix. \n",
    "    # Only store what was seen. Return None for other values\n",
    "\n",
    "    embeddings_scores = defaultdict(lambda: defaultdict(lambda :None))\n",
    "\n",
    "    \n",
    "    graph = np.array(graph)\n",
    "    \n",
    "    if max_triples:\n",
    "        graph = choose_many(graph,max_triples)\n",
    "    \n",
    "    \n",
    "    for i,tp in enumerate(tqdm(np.array(graph))):\n",
    "                                   \n",
    "        s,p,o = tp\n",
    "        start_timer = time.perf_counter()\n",
    "        # construct corrupted triples\n",
    "\n",
    "        triples_to_test = np.array([tp]+get_all_corrupted_triples(tp,entities))\n",
    "        \n",
    "        \n",
    "        \n",
    "\n",
    "        generate_timer = time.perf_counter()\n",
    "        \n",
    "        if p in embeddings_scores.keys():\n",
    "            \n",
    "            # init\n",
    "            lookup = embeddings_scores[p]\n",
    "            lookup_scores = []\n",
    "            ix_to_score = []\n",
    "            \n",
    "            # find scores and triple not scored\n",
    "            for j,ttt in enumerate(triples_to_test):\n",
    "                s,p,o = ttt\n",
    "                \n",
    "                if (s,o) in lookup.keys():\n",
    "                    l = lookup[(s,o)]\n",
    "                    lookup_scores.append((l,j))\n",
    "                else:\n",
    "\n",
    "                    ix_to_score.append(j)\n",
    "            #print(pd.DataFrame(triples_to_test[ix_to_score]))\n",
    "            pd.DataFrame(triples_to_test[ix_to_score], columns = ['s','p','o']).to_feather(f'debug/not_found_{i}.feather')\n",
    "            pd.DataFrame(lookup.keys(), columns = ['s','o']).to_feather(f'debug/keys_{i}.feather')\n",
    "            pd.DataFrame([[len(lookup_scores),len(triples_to_test),len(lookup_scores)/len(triples_to_test)]], columns = ['n_looked_up','n','%']).to_feather(f'debug/stats_{i}.feather')\n",
    "            \n",
    "            print(f\"looked up {len(lookup_scores)} of {len(triples_to_test)} triples\")\n",
    "            # score unscored triples\n",
    "            triples_to_score = triples_to_test[ix_to_score]\n",
    "            if len(triples_to_score) > 0:\n",
    "                vectors_to_score = get_vectors_fast(triples_to_score,entity_vec_mapping,vector_size=vector_size)\n",
    "                convert_timer = time.perf_counter()\n",
    "                scores = score_f(vectors_to_score).numpy().squeeze()\n",
    "\n",
    "                # add scores to lookup\n",
    "                for ttt, score in zip(triples_to_score,scores):\n",
    "                    s, _ ,o = tp\n",
    "                    embeddings_scores[p][(s,o)] = score\n",
    "            else:\n",
    "                scores =[]\n",
    "                \n",
    "            score_timer = time.perf_counter()\n",
    "            \n",
    "            # combine scores\n",
    "\n",
    "            \n",
    "            scores =  lookup_scores + list(zip(scores,ix_to_score))\n",
    " \n",
    "            scores = np.array(scores)\n",
    "\n",
    "            # sort by score\n",
    "            scores = scores[np.argsort(scores[:,0])]\n",
    "            \n",
    "            # get rank\n",
    "            # look at col 1 (ix) and find original triple ix.\n",
    "            \n",
    "            rank = len(scores) - np.where(scores[:,1] == 0)[0][0]\n",
    "            sort_timer = time.perf_counter()\n",
    "            \n",
    "           \n",
    "            \n",
    "            \n",
    "            \n",
    "                \n",
    "        else:\n",
    "            vectors_to_test = get_vectors_fast(triples_to_test,entity_vec_mapping,vector_size=vector_size)\n",
    "            convert_timer = time.perf_counter()\n",
    "\n",
    "                # score them\n",
    "            scores = (score_f(vectors_to_test)).numpy().squeeze()\n",
    "            \n",
    "            for tp, score in zip(triples_to_test,scores):\n",
    "                    s,p,o = tp\n",
    "                    embeddings_scores[p][(s,o)] = score                        \n",
    "\n",
    "            if plot:\n",
    "                fig = plot_embeddings(vectors_to_test,scores)\n",
    "                fig.show()\n",
    "\n",
    "            score_timer = time.perf_counter()\n",
    "            # sort them \n",
    "            sort_ix = np.argsort(scores ,axis=0)\n",
    "            rank =  len(sort_ix) - np.where(sort_ix == 0)[0][0]\n",
    "         \n",
    "        \n",
    "            sort_timer = time.perf_counter()\n",
    "\n",
    "        \n",
    "\n",
    "        stats['generate_time'].append(generate_timer - start_timer)\n",
    "        stats['convert_time:'].append(convert_timer -  generate_timer)\n",
    "        stats['score_time'].append(score_timer-convert_timer)\n",
    "        stats['sort_time'].append(sort_timer-score_timer)\n",
    "        stats['total_time'].append(sort_timer-start_timer)\n",
    "        ranks.append(rank)\n",
    "        \n",
    "        if i % 100 == 0:\n",
    "            print(np.mean(rank),'\\n',{key: np.mean(value) for key,value in list(stats.items())[-100:]})\n",
    "            pass\n",
    "            \n",
    "        \n",
    "    stats =  {key: np.mean(value) for key,value in stats.items()}\n",
    "    \n",
    "    ranks = np.array(ranks)\n",
    "    \n",
    "    stats['MR'] = np.mean(ranks)\n",
    "    stats['MRR'] = np.mean(1/(ranks))\n",
    "    stats['HITS1'] = np.count_nonzero(ranks <= 1)\n",
    "    stats['HITS3'] = np.count_nonzero(ranks <= 3)\n",
    "    stats['HITS10'] = np.count_nonzero(ranks <= 10)\n",
    "        \n",
    "    return  ranks, stats, embeddings_scores\n",
    "    \n",
    "        \n",
    "        \n",
    "        \n"
   ]
  },
  {
   "cell_type": "code",
   "execution_count": 38,
   "id": "f117e933-8fc0-45b4-8ad0-32ab312e474d",
   "metadata": {},
   "outputs": [],
   "source": [
    "def fast_concat(se,pe,oe):\n",
    "    \n",
    "    assert se.shape == pe.shape, \"Error! fast_concat with differing shapes\"\n",
    "    assert se.shape == oe.shape, \"Error! fast_concat with differing shapes\"\n",
    "    \n",
    "    \n",
    "    x = np.empty((se.shape[0],se.shape[1]*3),dtype=np.float32)\n",
    "    x[:,0:100] =se\n",
    "    x[:,100:200] = pe\n",
    "    x[:,200:] = oe\n",
    "    \n",
    "    return x"
   ]
  },
  {
   "cell_type": "code",
   "execution_count": 39,
   "id": "aaff9a5d-fb1f-4882-8d62-f77d2603e441",
   "metadata": {},
   "outputs": [],
   "source": [
    "def get_all_s_o_tuples(entities):\n",
    "    return [(s,o) for s in entities for o in entities] + [(o,s) for s in entities for o in entities]\n",
    "    \n",
    "    "
   ]
  },
  {
   "cell_type": "code",
   "execution_count": 40,
   "id": "aea8294f-161a-4ec6-9335-46eeae2bee90",
   "metadata": {},
   "outputs": [],
   "source": [
    "def test_if_row_in_array(row,arr):\n",
    "    return np.any(np.sum(arr == row,axis=1) == 3)"
   ]
  },
  {
   "cell_type": "code",
   "execution_count": 41,
   "id": "e886ad23-0789-497f-9e0b-040423a16648",
   "metadata": {},
   "outputs": [],
   "source": [
    "def get_filter(triples,graphs):\n",
    "    # Too slow ... parallelize?! What else? Faster lookup? How?\n",
    "    graphs = [np.array(g) for g in graphs]\n",
    "\n",
    "    graphs = np.concatenate(graphs,axis=0)\n",
    "    \n",
    "    known_ix = []\n",
    "    \n",
    "    for i,tp in enumerate(triples):\n",
    "        if test_if_row_in_array(tp,graphs):\n",
    "            known_ix.append(i)\n",
    "    return known_ix\n",
    "    \n",
    "    "
   ]
  },
  {
   "cell_type": "code",
   "execution_count": 42,
   "id": "ba56b73e-b86d-40b1-84d1-9e5779922b90",
   "metadata": {},
   "outputs": [],
   "source": [
    "def map_keyed_vectors(word_vectors, iterable):\n",
    "    \"\"\"\n",
    "    for some reason faster than native call :O\n",
    "    \"\"\"\n",
    "    return np.array(list(word_vectors.get_vector(x) for x in iterable))"
   ]
  },
  {
   "cell_type": "code",
   "execution_count": 43,
   "id": "ac97b25b-2378-44a5-ba8a-40d13a74a0d1",
   "metadata": {},
   "outputs": [],
   "source": [
    "import time\n",
    "from sklearn.utils.extmath import cartesian\n",
    "def evaluate_link_pred_fast(score_f,graph,entity_vec_mapping,entities,vector_size = 100, max_triples=100, plot = False, filter_by=None,verbose = True):\n",
    "    \n",
    "    \n",
    "    \n",
    "    stats = {'preprocessing_time' : -1,\n",
    "        'embeddings_time': [],\n",
    "        'rank_time': [],\n",
    "        'find_rank_time':[],\n",
    "        'ranks':[]\n",
    "        }\n",
    "    \n",
    "    start_timer = time.perf_counter()\n",
    "    predicates = np.array(list(set(graph.predicates())))\n",
    "    \n",
    "    graph = np.array(graph)\n",
    "    \n",
    "    \n",
    "    print(f\"evaluate LP on graph with {len(graph)} triples, {len(entities)} entities and {len(predicates)} predicates!\")\n",
    "    \n",
    "    print(f\"Starting preprocessing\")\n",
    "    embeddings_scores = defaultdict(lambda: defaultdict(lambda :None))\n",
    "    \n",
    "    entity_array = np.array(entities)\n",
    "    entity_mapping = entity_vec_mapping(np.array(entity_array))\n",
    "    \n",
    "    no_entitites= len(entities)\n",
    "    ix = list(range(no_entitites))\n",
    "    \n",
    "    s_o_combinations = cartesian((ix,ix))   \n",
    "\n",
    "    subjects_ix = s_o_combinations[:,0] # sorted(s_o_combinations[:,0])\n",
    "    subject_embeddings = entity_mapping[subjects_ix]\n",
    "                                 \n",
    "\n",
    "    \n",
    "    objects_ix = s_o_combinations[:,1]  #sorted(s_o_combinations[:,1])\n",
    "    object_embeddings = entity_mapping[objects_ix]\n",
    "    \n",
    "                           \n",
    "    no_triples_per_predicate=len(subjects_ix)\n",
    "    \n",
    "    \n",
    "    \n",
    "    preprocessing_timer = time.perf_counter()\n",
    "    \n",
    "    stats['preprocessing_time'] = preprocessing_timer - start_timer\n",
    "    \n",
    "    print(f\"Finished preprocessing\")\n",
    "    \n",
    "    # del is very slow :(\n",
    "    # del s_o_combinations\n",
    "    s_o_combinations = None\n",
    "    #gc.collect()\n",
    "    \n",
    "    \n",
    "    for p in tqdm(predicates):\n",
    "        predicate_start_timer = time.perf_counter()\n",
    "        \n",
    "        \n",
    "             \n",
    "        predicate_embedding = entity_vec_mapping([p])\n",
    "        predicate_column = np.repeat(predicate_embedding,no_triples_per_predicate).reshape(no_triples_per_predicate,vector_size)\n",
    "        \n",
    "        #return subject_embeddings,predicate_column,object_embeddings\n",
    "\n",
    "        triple_embeddings = fast_concat(subject_embeddings,predicate_column,object_embeddings)\n",
    "        \n",
    "        \n",
    "        \n",
    "\n",
    "        predicate_embeddings_timer = time.perf_counter()\n",
    "        \n",
    "        #del predicate_column\n",
    "        predicate_column = None\n",
    "\n",
    "        \n",
    "\n",
    "        scores = np.squeeze(score_f(triple_embeddings))\n",
    "        \n",
    "        #del triple_embeddings\n",
    "        triple_embeddings = None\n",
    "        #gc.collect()\n",
    "        \n",
    "        \n",
    "        \n",
    "        sorted_ix = np.flip(np.argsort(scores))     \n",
    "        \n",
    "        subjects = entity_array[subjects_ix] \n",
    "        objects = entity_array[objects_ix]\n",
    "    \n",
    "        scored_triples = np.stack([subjects,np.repeat(p,no_triples_per_predicate),objects]).T   \n",
    "        scored_triples = scored_triples[sorted_ix]\n",
    "        \n",
    "        \n",
    "        predicate_rank_timer = time.perf_counter()\n",
    "        \n",
    "        ranks = []\n",
    "    \n",
    "\n",
    "        predicate_subgraph = graph[graph[:,1] == p]\n",
    "    \n",
    "    \n",
    "        \n",
    "        for triple in predicate_subgraph:\n",
    "            try:\n",
    "                rank = np.where(np.sum(scored_triples ==triple,axis=1) == 3)[0][0]\n",
    "                print(rank)\n",
    "                ranks.append(rank)\n",
    "            except:\n",
    "                print(triple)\n",
    "                print(np.where(np.sum(scored_triples ==triple,axis=1)))\n",
    "                print('unknown entity or relation!')\n",
    "                \n",
    "        \n",
    "        \n",
    "        predicate_find_rank = time.perf_counter()\n",
    "        \n",
    "            \n",
    "        stats['embeddings_time'].append(predicate_embeddings_timer-predicate_start_timer)\n",
    "        stats['rank_time'].append(predicate_rank_timer - predicate_embeddings_timer)\n",
    "        stats['find_rank_time'].append(predicate_find_rank - predicate_rank_timer)\n",
    "        stats['ranks'].extend(ranks)\n",
    "        \n",
    "       \n",
    "        \n",
    "\n",
    "    return  stats"
   ]
  },
  {
   "cell_type": "code",
   "execution_count": 48,
   "id": "b81ef830-ee02-4b97-93bd-9e6fe2ab7f3f",
   "metadata": {},
   "outputs": [
    {
     "name": "stdout",
     "output_type": "stream",
     "text": [
      "removed 0 triples from training set\n",
      "removed 0 triples from validation set\n",
      "removed 0 triples from test set\n"
     ]
    }
   ],
   "source": [
    "from rdflib import Graph, URIRef\n",
    "from rdflib.extras.external_graph_libs import rdflib_to_networkx_multidigraph\n",
    "import networkx as nx\n",
    "\n",
    "\n",
    "\n",
    "g_train = Graph()\n",
    "g_val = Graph()\n",
    "g_test = Graph()\n",
    "\n",
    "g_train = g_train.parse('FB15k-237/train_100.nt', format='nt')\n",
    "g_val   = g_val.parse('FB15k-237/valid_100.nt', format='nt')\n",
    "g_test  = g_test.parse('FB15k-237/test_100.nt', format='nt')\n",
    "\n",
    "\n",
    "# clean graphs \n",
    "# number of triples removed should be low, a few hundred\n",
    "print(f\"removed {clean_graph(g_train,word_vectors)} triples from training set\")\n",
    "print(f\"removed {clean_graph(g_val,word_vectors)} triples from validation set\")\n",
    "print(f\"removed {clean_graph(g_test,word_vectors)} triples from test set\")\n",
    "\n",
    "entities = get_entities((g_train,g_val,g_test))"
   ]
  },
  {
   "cell_type": "code",
   "execution_count": 49,
   "id": "7d10f66b-59b9-4826-8e28-9d8922a38c5f",
   "metadata": {
    "tags": []
   },
   "outputs": [
    {
     "name": "stdout",
     "output_type": "stream",
     "text": [
      "evaluate LP on graph with 100 triples, 529 entities and 45 predicates!\n",
      "Starting preprocessing\n",
      "Finished preprocessing\n"
     ]
    },
    {
     "name": "stderr",
     "output_type": "stream",
     "text": [
      "  0%|                                                                                                                                                                                                                                                  | 0/45 [00:00<?, ?it/s]"
     ]
    },
    {
     "name": "stdout",
     "output_type": "stream",
     "text": [
      "float32\n"
     ]
    },
    {
     "name": "stderr",
     "output_type": "stream",
     "text": [
      "  2%|█████▏                                                                                                                                                                                                                                    | 1/45 [00:00<00:28,  1.53it/s]"
     ]
    },
    {
     "name": "stdout",
     "output_type": "stream",
     "text": [
      "208636\n",
      "170872\n",
      "float32\n"
     ]
    },
    {
     "name": "stderr",
     "output_type": "stream",
     "text": [
      "  4%|██████████▍                                                                                                                                                                                                                               | 2/45 [00:01<00:26,  1.62it/s]"
     ]
    },
    {
     "name": "stdout",
     "output_type": "stream",
     "text": [
      "38844\n",
      "float32\n"
     ]
    },
    {
     "name": "stderr",
     "output_type": "stream",
     "text": [
      "  7%|███████████████▌                                                                                                                                                                                                                          | 3/45 [00:02<00:29,  1.42it/s]"
     ]
    },
    {
     "name": "stdout",
     "output_type": "stream",
     "text": [
      "10023\n",
      "22353\n",
      "207408\n",
      "float32\n",
      "44124\n",
      "110689\n",
      "86394\n",
      "49396\n",
      "9708\n",
      "226570\n",
      "240296\n",
      "32954\n"
     ]
    },
    {
     "name": "stderr",
     "output_type": "stream",
     "text": [
      "  9%|████████████████████▊                                                                                                                                                                                                                     | 4/45 [00:02<00:32,  1.27it/s]"
     ]
    },
    {
     "name": "stdout",
     "output_type": "stream",
     "text": [
      "5039\n",
      "83097\n",
      "58099\n",
      "124563\n",
      "float32\n"
     ]
    },
    {
     "name": "stderr",
     "output_type": "stream",
     "text": [
      " 11%|██████████████████████████                                                                                                                                                                                                                | 5/45 [00:03<00:29,  1.37it/s]"
     ]
    },
    {
     "name": "stdout",
     "output_type": "stream",
     "text": [
      "116876\n",
      "274909\n",
      "float32\n"
     ]
    },
    {
     "name": "stderr",
     "output_type": "stream",
     "text": [
      " 13%|███████████████████████████████▏                                                                                                                                                                                                          | 6/45 [00:04<00:26,  1.45it/s]"
     ]
    },
    {
     "name": "stdout",
     "output_type": "stream",
     "text": [
      "95445\n",
      "float32\n"
     ]
    },
    {
     "name": "stderr",
     "output_type": "stream",
     "text": [
      " 16%|████████████████████████████████████▍                                                                                                                                                                                                     | 7/45 [00:04<00:25,  1.51it/s]"
     ]
    },
    {
     "name": "stdout",
     "output_type": "stream",
     "text": [
      "49127\n",
      "float32\n"
     ]
    },
    {
     "name": "stderr",
     "output_type": "stream",
     "text": [
      " 18%|█████████████████████████████████████████▌                                                                                                                                                                                                | 8/45 [00:05<00:24,  1.51it/s]"
     ]
    },
    {
     "name": "stdout",
     "output_type": "stream",
     "text": [
      "19781\n",
      "18146\n",
      "float32\n"
     ]
    },
    {
     "name": "stderr",
     "output_type": "stream",
     "text": [
      " 20%|██████████████████████████████████████████████▊                                                                                                                                                                                           | 9/45 [00:06<00:25,  1.44it/s]"
     ]
    },
    {
     "name": "stdout",
     "output_type": "stream",
     "text": [
      "90220\n",
      "84912\n",
      "28422\n",
      "float32\n"
     ]
    },
    {
     "name": "stderr",
     "output_type": "stream",
     "text": [
      " 22%|███████████████████████████████████████████████████▊                                                                                                                                                                                     | 10/45 [00:06<00:23,  1.47it/s]"
     ]
    },
    {
     "name": "stdout",
     "output_type": "stream",
     "text": [
      "37\n",
      "9096\n",
      "float32\n"
     ]
    },
    {
     "name": "stderr",
     "output_type": "stream",
     "text": [
      " 24%|████████████████████████████████████████████████████████▉                                                                                                                                                                                | 11/45 [00:07<00:23,  1.48it/s]"
     ]
    },
    {
     "name": "stdout",
     "output_type": "stream",
     "text": [
      "40834\n",
      "float32\n"
     ]
    },
    {
     "name": "stderr",
     "output_type": "stream",
     "text": [
      " 27%|██████████████████████████████████████████████████████████████▏                                                                                                                                                                          | 12/45 [00:08<00:23,  1.41it/s]"
     ]
    },
    {
     "name": "stdout",
     "output_type": "stream",
     "text": [
      "12639\n",
      "65915\n",
      "86834\n",
      "12608\n",
      "float32\n"
     ]
    },
    {
     "name": "stderr",
     "output_type": "stream",
     "text": [
      " 29%|███████████████████████████████████████████████████████████████████▎                                                                                                                                                                     | 13/45 [00:09<00:22,  1.40it/s]"
     ]
    },
    {
     "name": "stdout",
     "output_type": "stream",
     "text": [
      "135487\n",
      "float32\n"
     ]
    },
    {
     "name": "stderr",
     "output_type": "stream",
     "text": [
      " 31%|████████████████████████████████████████████████████████████████████████▍                                                                                                                                                                | 14/45 [00:09<00:22,  1.38it/s]"
     ]
    },
    {
     "name": "stdout",
     "output_type": "stream",
     "text": [
      "105183\n",
      "104945\n",
      "float32\n"
     ]
    },
    {
     "name": "stderr",
     "output_type": "stream",
     "text": [
      " 33%|█████████████████████████████████████████████████████████████████████████████▋                                                                                                                                                           | 15/45 [00:10<00:23,  1.30it/s]"
     ]
    },
    {
     "name": "stdout",
     "output_type": "stream",
     "text": [
      "179183\n",
      "141589\n",
      "24678\n",
      "247578\n",
      "180009\n",
      "194630\n",
      "float32\n"
     ]
    },
    {
     "name": "stderr",
     "output_type": "stream",
     "text": [
      " 36%|██████████████████████████████████████████████████████████████████████████████████▊                                                                                                                                                      | 16/45 [00:11<00:21,  1.34it/s]"
     ]
    },
    {
     "name": "stdout",
     "output_type": "stream",
     "text": [
      "42479\n",
      "float32\n"
     ]
    },
    {
     "name": "stderr",
     "output_type": "stream",
     "text": [
      " 38%|████████████████████████████████████████████████████████████████████████████████████████                                                                                                                                                 | 17/45 [00:12<00:20,  1.36it/s]"
     ]
    },
    {
     "name": "stdout",
     "output_type": "stream",
     "text": [
      "36149\n",
      "float32\n"
     ]
    },
    {
     "name": "stderr",
     "output_type": "stream",
     "text": [
      " 40%|█████████████████████████████████████████████████████████████████████████████████████████████▏                                                                                                                                           | 18/45 [00:12<00:20,  1.33it/s]"
     ]
    },
    {
     "name": "stdout",
     "output_type": "stream",
     "text": [
      "43114\n",
      "float32\n"
     ]
    },
    {
     "name": "stderr",
     "output_type": "stream",
     "text": [
      " 42%|██████████████████████████████████████████████████████████████████████████████████████████████████▍                                                                                                                                      | 19/45 [00:13<00:20,  1.29it/s]"
     ]
    },
    {
     "name": "stdout",
     "output_type": "stream",
     "text": [
      "17728\n",
      "26867\n",
      "86874\n",
      "float32\n"
     ]
    },
    {
     "name": "stderr",
     "output_type": "stream",
     "text": [
      " 44%|███████████████████████████████████████████████████████████████████████████████████████████████████████▌                                                                                                                                 | 20/45 [00:14<00:18,  1.35it/s]"
     ]
    },
    {
     "name": "stdout",
     "output_type": "stream",
     "text": [
      "25941\n",
      "float32\n"
     ]
    },
    {
     "name": "stderr",
     "output_type": "stream",
     "text": [
      " 47%|████████████████████████████████████████████████████████████████████████████████████████████████████████████▋                                                                                                                            | 21/45 [00:15<00:18,  1.26it/s]"
     ]
    },
    {
     "name": "stdout",
     "output_type": "stream",
     "text": [
      "2430\n",
      "156361\n",
      "6371\n",
      "3807\n",
      "90172\n",
      "119875\n",
      "float32\n"
     ]
    },
    {
     "name": "stderr",
     "output_type": "stream",
     "text": [
      " 49%|█████████████████████████████████████████████████████████████████████████████████████████████████████████████████▉                                                                                                                       | 22/45 [00:15<00:17,  1.31it/s]"
     ]
    },
    {
     "name": "stdout",
     "output_type": "stream",
     "text": [
      "56054\n",
      "float32\n"
     ]
    },
    {
     "name": "stderr",
     "output_type": "stream",
     "text": [
      " 51%|███████████████████████████████████████████████████████████████████████████████████████████████████████████████████████                                                                                                                  | 23/45 [00:16<00:15,  1.40it/s]"
     ]
    },
    {
     "name": "stdout",
     "output_type": "stream",
     "text": [
      "141042\n",
      "float32\n"
     ]
    },
    {
     "name": "stderr",
     "output_type": "stream",
     "text": [
      " 53%|████████████████████████████████████████████████████████████████████████████████████████████████████████████████████████████▎                                                                                                            | 24/45 [00:17<00:14,  1.45it/s]"
     ]
    },
    {
     "name": "stdout",
     "output_type": "stream",
     "text": [
      "2315\n",
      "float32\n"
     ]
    },
    {
     "name": "stderr",
     "output_type": "stream",
     "text": [
      " 56%|█████████████████████████████████████████████████████████████████████████████████████████████████████████████████████████████████▍                                                                                                       | 25/45 [00:17<00:13,  1.45it/s]"
     ]
    },
    {
     "name": "stdout",
     "output_type": "stream",
     "text": [
      "31729\n",
      "float32\n"
     ]
    },
    {
     "name": "stderr",
     "output_type": "stream",
     "text": [
      " 58%|██████████████████████████████████████████████████████████████████████████████████████████████████████████████████████████████████████▌                                                                                                  | 26/45 [00:18<00:13,  1.45it/s]"
     ]
    },
    {
     "name": "stdout",
     "output_type": "stream",
     "text": [
      "4216\n",
      "float32\n"
     ]
    },
    {
     "name": "stderr",
     "output_type": "stream",
     "text": [
      " 60%|███████████████████████████████████████████████████████████████████████████████████████████████████████████████████████████████████████████▊                                                                                             | 27/45 [00:19<00:12,  1.43it/s]"
     ]
    },
    {
     "name": "stdout",
     "output_type": "stream",
     "text": [
      "69310\n",
      "23662\n",
      "float32\n"
     ]
    },
    {
     "name": "stderr",
     "output_type": "stream",
     "text": [
      " 62%|████████████████████████████████████████████████████████████████████████████████████████████████████████████████████████████████████████████████▉                                                                                        | 28/45 [00:20<00:12,  1.37it/s]"
     ]
    },
    {
     "name": "stdout",
     "output_type": "stream",
     "text": [
      "48921\n",
      "float32\n"
     ]
    },
    {
     "name": "stderr",
     "output_type": "stream",
     "text": [
      " 64%|██████████████████████████████████████████████████████████████████████████████████████████████████████████████████████████████████████████████████████▏                                                                                  | 29/45 [00:20<00:11,  1.40it/s]"
     ]
    },
    {
     "name": "stdout",
     "output_type": "stream",
     "text": [
      "125593\n",
      "82451\n",
      "float32\n"
     ]
    },
    {
     "name": "stderr",
     "output_type": "stream",
     "text": [
      " 67%|███████████████████████████████████████████████████████████████████████████████████████████████████████████████████████████████████████████████████████████▎                                                                             | 30/45 [00:21<00:11,  1.31it/s]"
     ]
    },
    {
     "name": "stdout",
     "output_type": "stream",
     "text": [
      "126827\n",
      "23290\n",
      "66087\n",
      "32247\n",
      "float32\n"
     ]
    },
    {
     "name": "stderr",
     "output_type": "stream",
     "text": [
      " 69%|████████████████████████████████████████████████████████████████████████████████████████████████████████████████████████████████████████████████████████████████▌                                                                        | 31/45 [00:22<00:10,  1.34it/s]"
     ]
    },
    {
     "name": "stdout",
     "output_type": "stream",
     "text": [
      "14526\n",
      "60485\n",
      "142915\n",
      "float32\n"
     ]
    },
    {
     "name": "stderr",
     "output_type": "stream",
     "text": [
      " 71%|█████████████████████████████████████████████████████████████████████████████████████████████████████████████████████████████████████████████████████████████████████▋                                                                   | 32/45 [00:22<00:09,  1.41it/s]"
     ]
    },
    {
     "name": "stdout",
     "output_type": "stream",
     "text": [
      "161586\n",
      "float32\n"
     ]
    },
    {
     "name": "stderr",
     "output_type": "stream",
     "text": [
      " 73%|██████████████████████████████████████████████████████████████████████████████████████████████████████████████████████████████████████████████████████████████████████████▊                                                              | 33/45 [00:23<00:08,  1.44it/s]"
     ]
    },
    {
     "name": "stdout",
     "output_type": "stream",
     "text": [
      "88310\n",
      "38202\n",
      "61963\n",
      "float32\n"
     ]
    },
    {
     "name": "stderr",
     "output_type": "stream",
     "text": [
      " 76%|████████████████████████████████████████████████████████████████████████████████████████████████████████████████████████████████████████████████████████████████████████████████                                                         | 34/45 [00:24<00:07,  1.51it/s]"
     ]
    },
    {
     "name": "stdout",
     "output_type": "stream",
     "text": [
      "125270\n",
      "float32\n"
     ]
    },
    {
     "name": "stderr",
     "output_type": "stream",
     "text": [
      " 78%|█████████████████████████████████████████████████████████████████████████████████████████████████████████████████████████████████████████████████████████████████████████████████████▏                                                   | 35/45 [00:24<00:06,  1.53it/s]"
     ]
    },
    {
     "name": "stdout",
     "output_type": "stream",
     "text": [
      "88596\n",
      "float32\n"
     ]
    },
    {
     "name": "stderr",
     "output_type": "stream",
     "text": [
      " 80%|██████████████████████████████████████████████████████████████████████████████████████████████████████████████████████████████████████████████████████████████████████████████████████████▍                                              | 36/45 [00:25<00:05,  1.57it/s]"
     ]
    },
    {
     "name": "stdout",
     "output_type": "stream",
     "text": [
      "17140\n",
      "float32\n"
     ]
    },
    {
     "name": "stderr",
     "output_type": "stream",
     "text": [
      " 82%|███████████████████████████████████████████████████████████████████████████████████████████████████████████████████████████████████████████████████████████████████████████████████████████████▌                                         | 37/45 [00:26<00:05,  1.55it/s]"
     ]
    },
    {
     "name": "stdout",
     "output_type": "stream",
     "text": [
      "56467\n",
      "34918\n",
      "float32\n"
     ]
    },
    {
     "name": "stderr",
     "output_type": "stream",
     "text": [
      " 84%|████████████████████████████████████████████████████████████████████████████████████████████████████████████████████████████████████████████████████████████████████████████████████████████████████▊                                    | 38/45 [00:26<00:04,  1.57it/s]"
     ]
    },
    {
     "name": "stdout",
     "output_type": "stream",
     "text": [
      "3048\n",
      "11139\n",
      "float32\n"
     ]
    },
    {
     "name": "stderr",
     "output_type": "stream",
     "text": [
      " 87%|█████████████████████████████████████████████████████████████████████████████████████████████████████████████████████████████████████████████████████████████████████████████████████████████████████████▉                               | 39/45 [00:27<00:03,  1.52it/s]"
     ]
    },
    {
     "name": "stdout",
     "output_type": "stream",
     "text": [
      "45020\n",
      "float32\n"
     ]
    },
    {
     "name": "stderr",
     "output_type": "stream",
     "text": [
      " 89%|███████████████████████████████████████████████████████████████████████████████████████████████████████████████████████████████████████████████████████████████████████████████████████████████████████████████                          | 40/45 [00:28<00:03,  1.50it/s]"
     ]
    },
    {
     "name": "stdout",
     "output_type": "stream",
     "text": [
      "194519\n",
      "float32\n"
     ]
    },
    {
     "name": "stderr",
     "output_type": "stream",
     "text": [
      " 91%|████████████████████████████████████████████████████████████████████████████████████████████████████████████████████████████████████████████████████████████████████████████████████████████████████████████████████▎                    | 41/45 [00:28<00:02,  1.49it/s]"
     ]
    },
    {
     "name": "stdout",
     "output_type": "stream",
     "text": [
      "79683\n",
      "float32\n"
     ]
    },
    {
     "name": "stderr",
     "output_type": "stream",
     "text": [
      " 93%|█████████████████████████████████████████████████████████████████████████████████████████████████████████████████████████████████████████████████████████████████████████████████████████████████████████████████████████▍               | 42/45 [00:29<00:02,  1.44it/s]"
     ]
    },
    {
     "name": "stdout",
     "output_type": "stream",
     "text": [
      "8041\n",
      "12079\n",
      "7524\n",
      "17268\n",
      "float32\n"
     ]
    },
    {
     "name": "stderr",
     "output_type": "stream",
     "text": [
      " 96%|██████████████████████████████████████████████████████████████████████████████████████████████████████████████████████████████████████████████████████████████████████████████████████████████████████████████████████████████▋          | 43/45 [00:30<00:01,  1.48it/s]"
     ]
    },
    {
     "name": "stdout",
     "output_type": "stream",
     "text": [
      "22025\n",
      "float32\n"
     ]
    },
    {
     "name": "stderr",
     "output_type": "stream",
     "text": [
      " 98%|███████████████████████████████████████████████████████████████████████████████████████████████████████████████████████████████████████████████████████████████████████████████████████████████████████████████████████████████████▊     | 44/45 [00:30<00:00,  1.58it/s]"
     ]
    },
    {
     "name": "stdout",
     "output_type": "stream",
     "text": [
      "95393\n",
      "float32\n",
      "34800\n",
      "30693\n",
      "167147\n",
      "46541\n",
      "79657\n",
      "44768\n"
     ]
    },
    {
     "name": "stderr",
     "output_type": "stream",
     "text": [
      "100%|█████████████████████████████████████████████████████████████████████████████████████████████████████████████████████████████████████████████████████████████████████████████████████████████████████████████████████████████████████████| 45/45 [00:31<00:00,  1.42it/s]"
     ]
    },
    {
     "name": "stdout",
     "output_type": "stream",
     "text": [
      "110731\n"
     ]
    },
    {
     "name": "stderr",
     "output_type": "stream",
     "text": [
      "\n"
     ]
    }
   ],
   "source": [
    "with torch.no_grad():\n",
    "    stats = evaluate_link_pred_fast(lambda x : model.predict_numpy(x), g_test, lambda x : word_vectors[x], entities, max_triples=None)   "
   ]
  },
  {
   "cell_type": "code",
   "execution_count": 47,
   "id": "23ed0746-d0ad-49fa-a7c4-befeda30e30c",
   "metadata": {},
   "outputs": [
    {
     "data": {
      "text/plain": [
       "{'preprocessing_time': 0.3915239309999379,\n",
       " 'embeddings_time': [0.20639814400055911,\n",
       "  0.23607996699956857,\n",
       "  0.22374415100057377,\n",
       "  0.23783353099952365,\n",
       "  0.2407699949999369,\n",
       "  0.2306806520000464,\n",
       "  0.2292977470006008,\n",
       "  0.21792739000011352,\n",
       "  0.22182541499932995,\n",
       "  0.21369218800009548,\n",
       "  0.2228932869993514,\n",
       "  0.22637793400008377,\n",
       "  0.2298450469997988,\n",
       "  0.20823175799978344,\n",
       "  0.24244681499931175,\n",
       "  0.2315835130002597,\n",
       "  0.22066964600071515,\n",
       "  0.22001945200008777,\n",
       "  0.22760090799965838,\n",
       "  0.22049717200025043,\n",
       "  0.22970370999973966,\n",
       "  0.2097314840002582,\n",
       "  0.21085833699999057,\n",
       "  0.234949594999307,\n",
       "  0.21202612799970666,\n",
       "  0.23135847899993678,\n",
       "  0.254472225000427,\n",
       "  0.22996747700017295,\n",
       "  0.24203365499943175,\n",
       "  0.2319092260004254,\n",
       "  0.24597672500021872,\n",
       "  0.24569368100037536,\n",
       "  0.2172973409997212,\n",
       "  0.24967206899964367,\n",
       "  0.21757178799998655,\n",
       "  0.2544928130000699,\n",
       "  0.26479125900004874,\n",
       "  0.23960597000041162,\n",
       "  0.22684666499935702,\n",
       "  0.24661034899963852,\n",
       "  0.21921536399986508,\n",
       "  0.20427709499927005,\n",
       "  0.22363198700077191,\n",
       "  0.2076304340007482,\n",
       "  0.22275155799979984],\n",
       " 'rank_time': [0.7022609050000028,\n",
       "  0.3026874940005655,\n",
       "  0.4132152269994549,\n",
       "  0.29023879600026703,\n",
       "  0.3208994630003872,\n",
       "  0.28242028200020286,\n",
       "  0.2909064129999024,\n",
       "  0.3461076060002597,\n",
       "  0.4600963100001536,\n",
       "  0.37936656000056246,\n",
       "  0.4112771440004508,\n",
       "  0.4622313829995619,\n",
       "  0.4066517580004074,\n",
       "  0.36606644699986646,\n",
       "  0.39485333300035563,\n",
       "  0.3604046379996362,\n",
       "  0.43906866399993305,\n",
       "  0.446666570999696,\n",
       "  0.4810141970001496,\n",
       "  0.3169410129994503,\n",
       "  0.42962412599990785,\n",
       "  0.33412701899942476,\n",
       "  0.30073043499942287,\n",
       "  0.35856763500032685,\n",
       "  0.4187830360006046,\n",
       "  0.452293723999901,\n",
       "  0.44182167100007064,\n",
       "  0.4870405319998099,\n",
       "  0.34722869699999137,\n",
       "  0.4620412619997296,\n",
       "  0.4752336319997994,\n",
       "  0.40916081399973336,\n",
       "  0.3014555609997842,\n",
       "  0.38659531000030256,\n",
       "  0.38185360500028764,\n",
       "  0.4067837430002328,\n",
       "  0.36688157099979435,\n",
       "  0.29220070999963355,\n",
       "  0.4614690240005075,\n",
       "  0.44191212999976415,\n",
       "  0.3925359340000796,\n",
       "  0.3680927519999386,\n",
       "  0.39035004499965,\n",
       "  0.28848150099929626,\n",
       "  0.34495020200029103],\n",
       " 'find_rank_time': [0.08171416400000453,\n",
       "  0.03133583099952375,\n",
       "  0.13906897700053378,\n",
       "  0.4084186680001949,\n",
       "  0.069593514999724,\n",
       "  0.0339259120000861,\n",
       "  0.0320491550000952,\n",
       "  0.06363512600000831,\n",
       "  0.10753313900022476,\n",
       "  0.06612269400011428,\n",
       "  0.035517770999831555,\n",
       "  0.13528885300002003,\n",
       "  0.039061047000359395,\n",
       "  0.0654570690003311,\n",
       "  0.2145308990002377,\n",
       "  0.032787335000648454,\n",
       "  0.03715640900009021,\n",
       "  0.03986082499977783,\n",
       "  0.11974881800051662,\n",
       "  0.032304334999935236,\n",
       "  0.22368951699991158,\n",
       "  0.03209484000035445,\n",
       "  0.03163746900008846,\n",
       "  0.03868465800042031,\n",
       "  0.03644053999960306,\n",
       "  0.04405571000006603,\n",
       "  0.07866101000035997,\n",
       "  0.04044278200035478,\n",
       "  0.06779664700025023,\n",
       "  0.140348606999396,\n",
       "  0.10737523100033286,\n",
       "  0.0356436179999946,\n",
       "  0.09608109700002387,\n",
       "  0.036577005999788526,\n",
       "  0.03653541800031235,\n",
       "  0.0400989039999331,\n",
       "  0.0669854990001113,\n",
       "  0.060829379000097106,\n",
       "  0.040415128999484295,\n",
       "  0.038014034000298125,\n",
       "  0.036158507999971334,\n",
       "  0.1456185570004891,\n",
       "  0.03777152699967701,\n",
       "  0.03484231700076634,\n",
       "  0.22752580499945907],\n",
       " 'ranks': [208636,\n",
       "  170872,\n",
       "  38844,\n",
       "  10023,\n",
       "  22353,\n",
       "  207408,\n",
       "  44124,\n",
       "  110689,\n",
       "  86394,\n",
       "  49396,\n",
       "  9708,\n",
       "  226570,\n",
       "  240296,\n",
       "  32954,\n",
       "  5039,\n",
       "  83097,\n",
       "  58099,\n",
       "  124563,\n",
       "  116876,\n",
       "  274909,\n",
       "  95445,\n",
       "  49127,\n",
       "  19781,\n",
       "  18146,\n",
       "  90220,\n",
       "  84912,\n",
       "  28422,\n",
       "  37,\n",
       "  9096,\n",
       "  40834,\n",
       "  12639,\n",
       "  65915,\n",
       "  86834,\n",
       "  12608,\n",
       "  135487,\n",
       "  105183,\n",
       "  104945,\n",
       "  179183,\n",
       "  141589,\n",
       "  24678,\n",
       "  247578,\n",
       "  180009,\n",
       "  194630,\n",
       "  42479,\n",
       "  36149,\n",
       "  43114,\n",
       "  17728,\n",
       "  26867,\n",
       "  86874,\n",
       "  25941,\n",
       "  2430,\n",
       "  156361,\n",
       "  6371,\n",
       "  3807,\n",
       "  90172,\n",
       "  119875,\n",
       "  56054,\n",
       "  141042,\n",
       "  2315,\n",
       "  31729,\n",
       "  4216,\n",
       "  69310,\n",
       "  23662,\n",
       "  48921,\n",
       "  125593,\n",
       "  82451,\n",
       "  126827,\n",
       "  23290,\n",
       "  66087,\n",
       "  32247,\n",
       "  14526,\n",
       "  60485,\n",
       "  142915,\n",
       "  161586,\n",
       "  88310,\n",
       "  38202,\n",
       "  61963,\n",
       "  125270,\n",
       "  88596,\n",
       "  17140,\n",
       "  56467,\n",
       "  34918,\n",
       "  3048,\n",
       "  11139,\n",
       "  45020,\n",
       "  194519,\n",
       "  79683,\n",
       "  8041,\n",
       "  12079,\n",
       "  7524,\n",
       "  17268,\n",
       "  22025,\n",
       "  95393,\n",
       "  34800,\n",
       "  30693,\n",
       "  167147,\n",
       "  46541,\n",
       "  79657,\n",
       "  44768,\n",
       "  110731]}"
      ]
     },
     "execution_count": 47,
     "metadata": {},
     "output_type": "execute_result"
    }
   ],
   "source": [
    "stats"
   ]
  },
  {
   "cell_type": "code",
   "execution_count": 50,
   "id": "048fd9c5-cfab-49ef-95bd-d218d39ec134",
   "metadata": {},
   "outputs": [
    {
     "data": {
      "text/plain": [
       "{'preprocessing_time': 0.09079478899911919,\n",
       " 'embeddings_time': [0.23523551099970064,\n",
       "  0.22306991799996467,\n",
       "  0.2322312279993639,\n",
       "  0.22891100900051242,\n",
       "  0.22998002399981488,\n",
       "  0.2228606030002993,\n",
       "  0.21684630699928675,\n",
       "  0.21581849900030647,\n",
       "  0.2569634159990528,\n",
       "  0.22167579000051774,\n",
       "  0.21810080099930929,\n",
       "  0.2192740420014161,\n",
       "  0.23322581100001116,\n",
       "  0.2555372280003212,\n",
       "  0.25351007700010086,\n",
       "  0.241171118001148,\n",
       "  0.24673984499895596,\n",
       "  0.22380571399844484,\n",
       "  0.24003818199889793,\n",
       "  0.24053561999971862,\n",
       "  0.2148435500002961,\n",
       "  0.24621053699956974,\n",
       "  0.22639134699966235,\n",
       "  0.23860421899917128,\n",
       "  0.21947452899985365,\n",
       "  0.22396439200019813,\n",
       "  0.22400814499997068,\n",
       "  0.2586738800000603,\n",
       "  0.24482621700008167,\n",
       "  0.2470673120005813,\n",
       "  0.2371750450001855,\n",
       "  0.21971925899924827,\n",
       "  0.22319369899923913,\n",
       "  0.22196234799957892,\n",
       "  0.24616114299897163,\n",
       "  0.23593494600027043,\n",
       "  0.25327154499973403,\n",
       "  0.2165255989984871,\n",
       "  0.23251246499967237,\n",
       "  0.22840844800157356,\n",
       "  0.23949754100067366,\n",
       "  0.21895949600002496,\n",
       "  0.22318684499987285,\n",
       "  0.20121569000002637,\n",
       "  0.22409038800105918],\n",
       " 'rank_time': [0.3549142350002512,\n",
       "  0.33491207199949713,\n",
       "  0.4378204740005458,\n",
       "  0.3045342890000029,\n",
       "  0.32400721500016516,\n",
       "  0.3563650300002337,\n",
       "  0.34941774400067516,\n",
       "  0.3832877789991471,\n",
       "  0.40614666900000884,\n",
       "  0.36201773499851697,\n",
       "  0.41617114399923594,\n",
       "  0.4138082499994198,\n",
       "  0.43958961800126417,\n",
       "  0.40140212400001474,\n",
       "  0.4002943759987829,\n",
       "  0.4113260909998644,\n",
       "  0.4406792400004633,\n",
       "  0.5142802290010877,\n",
       "  0.49267891900126415,\n",
       "  0.37598916000024474,\n",
       "  0.4622105569997075,\n",
       "  0.41081290200054355,\n",
       "  0.3463127989998611,\n",
       "  0.36226852599975246,\n",
       "  0.42981946899999457,\n",
       "  0.4232027969992487,\n",
       "  0.431941768998513,\n",
       "  0.4893223620001663,\n",
       "  0.3730659379998542,\n",
       "  0.463758511999913,\n",
       "  0.3741136819990061,\n",
       "  0.36187845899985405,\n",
       "  0.33215056200060644,\n",
       "  0.3419456160008849,\n",
       "  0.3395276270002796,\n",
       "  0.3309125279993168,\n",
       "  0.345455041000605,\n",
       "  0.32471961500050384,\n",
       "  0.4309492060001503,\n",
       "  0.4341740549989481,\n",
       "  0.3935659189992293,\n",
       "  0.39046022499860555,\n",
       "  0.3723108520007372,\n",
       "  0.30221813899879635,\n",
       "  0.38534785699994245],\n",
       " 'find_rank_time': [0.06454232299984142,\n",
       "  0.03367569800138881,\n",
       "  0.1323886339996534,\n",
       "  0.3803781850001542,\n",
       "  0.06905168299999787,\n",
       "  0.03711509200002183,\n",
       "  0.03173031200094556,\n",
       "  0.06781426100133103,\n",
       "  0.1011222560009628,\n",
       "  0.06381749600041076,\n",
       "  0.033553197999935946,\n",
       "  0.15798740699938207,\n",
       "  0.04606232799960708,\n",
       "  0.09033711600022798,\n",
       "  0.2101902379999956,\n",
       "  0.036637180999605334,\n",
       "  0.03473429500081693,\n",
       "  0.03903453000020818,\n",
       "  0.10702972199942451,\n",
       "  0.031719440999950166,\n",
       "  0.23693732699939574,\n",
       "  0.03448793899951852,\n",
       "  0.028904484999657143,\n",
       "  0.035793110000668094,\n",
       "  0.0363528950001637,\n",
       "  0.0369590270001936,\n",
       "  0.07205141700069362,\n",
       "  0.040708595000978676,\n",
       "  0.07006236699999135,\n",
       "  0.15441870900031063,\n",
       "  0.09877138400042895,\n",
       "  0.036110057999394485,\n",
       "  0.1013863530006347,\n",
       "  0.03299473500010208,\n",
       "  0.035099112001262256,\n",
       "  0.03488309400017897,\n",
       "  0.0684812259987666,\n",
       "  0.07187263900050311,\n",
       "  0.038740445001167245,\n",
       "  0.03374928700031887,\n",
       "  0.03613464400041266,\n",
       "  0.1457036200008588,\n",
       "  0.0371155529992393,\n",
       "  0.03051503000097,\n",
       "  0.23694427900045412],\n",
       " 'ranks': [208636,\n",
       "  170872,\n",
       "  38844,\n",
       "  10023,\n",
       "  22353,\n",
       "  207408,\n",
       "  44124,\n",
       "  110689,\n",
       "  86394,\n",
       "  49396,\n",
       "  9708,\n",
       "  226570,\n",
       "  240296,\n",
       "  32954,\n",
       "  5039,\n",
       "  83097,\n",
       "  58099,\n",
       "  124563,\n",
       "  116876,\n",
       "  274909,\n",
       "  95445,\n",
       "  49127,\n",
       "  19781,\n",
       "  18146,\n",
       "  90220,\n",
       "  84912,\n",
       "  28422,\n",
       "  37,\n",
       "  9096,\n",
       "  40834,\n",
       "  12639,\n",
       "  65915,\n",
       "  86834,\n",
       "  12608,\n",
       "  135487,\n",
       "  105183,\n",
       "  104945,\n",
       "  179183,\n",
       "  141589,\n",
       "  24678,\n",
       "  247578,\n",
       "  180009,\n",
       "  194630,\n",
       "  42479,\n",
       "  36149,\n",
       "  43114,\n",
       "  17728,\n",
       "  26867,\n",
       "  86874,\n",
       "  25941,\n",
       "  2430,\n",
       "  156361,\n",
       "  6371,\n",
       "  3807,\n",
       "  90172,\n",
       "  119875,\n",
       "  56054,\n",
       "  141042,\n",
       "  2315,\n",
       "  31729,\n",
       "  4216,\n",
       "  69310,\n",
       "  23662,\n",
       "  48921,\n",
       "  125593,\n",
       "  82451,\n",
       "  126827,\n",
       "  23290,\n",
       "  66087,\n",
       "  32247,\n",
       "  14526,\n",
       "  60485,\n",
       "  142915,\n",
       "  161586,\n",
       "  88310,\n",
       "  38202,\n",
       "  61963,\n",
       "  125270,\n",
       "  88596,\n",
       "  17140,\n",
       "  56467,\n",
       "  34918,\n",
       "  3048,\n",
       "  11139,\n",
       "  45020,\n",
       "  194519,\n",
       "  79683,\n",
       "  8041,\n",
       "  12079,\n",
       "  7524,\n",
       "  17268,\n",
       "  22025,\n",
       "  95393,\n",
       "  34800,\n",
       "  30693,\n",
       "  167147,\n",
       "  46541,\n",
       "  79657,\n",
       "  44768,\n",
       "  110731]}"
      ]
     },
     "execution_count": 50,
     "metadata": {},
     "output_type": "execute_result"
    }
   ],
   "source": [
    "stats"
   ]
  },
  {
   "cell_type": "code",
   "execution_count": null,
   "id": "71e9f305-1eac-4c6d-941e-3779427a4104",
   "metadata": {},
   "outputs": [],
   "source": [
    "len(stats['ranks'])"
   ]
  },
  {
   "cell_type": "markdown",
   "id": "fbc2f74b-8307-438b-936f-1f674e708afb",
   "metadata": {},
   "source": [
    "# Plot the embeddings "
   ]
  },
  {
   "cell_type": "code",
   "execution_count": null,
   "id": "ab8b1fb3-d088-4559-b050-5ac24734fb3c",
   "metadata": {},
   "outputs": [],
   "source": [
    "X, Y = get_1_1_dataset(g_train,entities,lambda x : word_vectors[x],corrupt='both')\n",
    "#x_val , y_val= get_1_1_dataset(g_val,entities,lambda x : word_vectors[x])\n",
    "#x_test , y_test= get_1_1_dataset(g_test,entities,lambda x : word_vectors[x])\n",
    "\n",
    "x,y = X, Y\n",
    "#for x,y in [(X,Y),(x_val,y_val),(x_test,y_test)]:\n",
    "    "
   ]
  },
  {
   "cell_type": "code",
   "execution_count": null,
   "id": "33bf0479-2467-40a5-b702-b8f960761751",
   "metadata": {},
   "outputs": [],
   "source": [
    "import sklearn.manifold\n",
    "import pandas as pd\n",
    "import plotly.express as px\n",
    "\n",
    "reduction_model = sklearn.manifold.TSNE(learning_rate='auto',init='pca').fit_transform"
   ]
  },
  {
   "cell_type": "code",
   "execution_count": null,
   "id": "080fde8b-19bf-42cd-ae51-3fa25b72032b",
   "metadata": {},
   "outputs": [],
   "source": [
    "def plot_embeddings(x,y,reduction_model=sklearn.manifold.TSNE(learning_rate='auto',init='pca').fit_transform,number_of_examples=10000):\n",
    "\"\"\"\n",
    "x = multi dim array (SAMPLES,EMBEDDING_DIM)\n",
    "y = one-dim array (SAMPLES,)\n",
    "\"\"\"\n",
    "    x,y = choose_many_multiple([x,y],number_of_examples)\n",
    "    x_reduced=reduction_model(x)\n",
    "\n",
    "    plot_data = np.concatenate((x_reduced,np.expand_dims(y,1)),1)\n",
    "\n",
    "    df = pd.DataFrame(plot_data,columns=list(range(x_tsne.shape[1]))+['label'])\n",
    "\n",
    "\n",
    "    fig = px.scatter(df, x=0, y=1, color=\"label\")\n",
    "    return fig"
   ]
  },
  {
   "cell_type": "code",
   "execution_count": null,
   "id": "e1d9d692-da51-49cf-aae2-ae5a1f9ce590",
   "metadata": {},
   "outputs": [],
   "source": [
    "Y.shape"
   ]
  },
  {
   "cell_type": "code",
   "execution_count": null,
   "id": "2c1e24f8-7a75-4214-a9f5-1f59b720ecf5",
   "metadata": {},
   "outputs": [],
   "source": [
    "X, Y = get_1_1_dataset(g_train,entities,lambda x : word_vectors[x],corrupt='both')\n",
    "\n",
    "plot_embeddings(X,Y)"
   ]
  },
  {
   "cell_type": "code",
   "execution_count": null,
   "id": "e275b55e-96cf-42f8-8ad9-c44d55b22bdb",
   "metadata": {},
   "outputs": [],
   "source": [
    "X, Y = get_1_1_dataset(g_train,entities,lambda x : word_vectors[x],corrupt='subject')\n",
    "plot_embeddings(X,Y)"
   ]
  },
  {
   "cell_type": "code",
   "execution_count": null,
   "id": "387298af-5a0e-4dcc-9b56-2cae808552e3",
   "metadata": {},
   "outputs": [],
   "source": [
    "X, Y = get_1_1_dataset(g_train,entities,lambda x : word_vectors[x],corrupt='object')\n",
    "plot_embeddings(X,Y)"
   ]
  },
  {
   "cell_type": "markdown",
   "id": "2055a362",
   "metadata": {},
   "source": [
    "## Get walks into ram :)"
   ]
  }
 ],
 "metadata": {
  "kernelspec": {
   "display_name": "Python 3",
   "language": "python",
   "name": "python3"
  },
  "language_info": {
   "codemirror_mode": {
    "name": "ipython",
    "version": 3
   },
   "file_extension": ".py",
   "mimetype": "text/x-python",
   "name": "python",
   "nbconvert_exporter": "python",
   "pygments_lexer": "ipython3",
   "version": "3.9.12"
  }
 },
 "nbformat": 4,
 "nbformat_minor": 5
}
