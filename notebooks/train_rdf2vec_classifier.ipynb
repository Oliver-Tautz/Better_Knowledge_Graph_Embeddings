{
 "cells": [
  {
   "cell_type": "markdown",
   "id": "b868c6eb",
   "metadata": {},
   "source": [
    "## Download and check rdf2vec"
   ]
  },
  {
   "cell_type": "code",
   "execution_count": 1,
   "id": "edae41f5-8379-478a-80b4-8703c94916fa",
   "metadata": {},
   "outputs": [],
   "source": [
    "import sys\n",
    "sys.path.append('../code')"
   ]
  },
  {
   "cell_type": "code",
   "execution_count": 2,
   "id": "0fc76250-32fe-4c2d-b7bb-055e51eb8517",
   "metadata": {},
   "outputs": [],
   "source": [
    "from settings import VECTOR_SIZE, CLASSIFIER_EPOCHS\n",
    "TRAIN_RDF2VEC = False"
   ]
  },
  {
   "cell_type": "markdown",
   "id": "03668c20-1e42-4e1a-9ad2-10a3ed35ab08",
   "metadata": {},
   "source": [
    "# Load Dataset and Train rdf2vec"
   ]
  },
  {
   "cell_type": "code",
   "execution_count": 3,
   "id": "cedde669-b1bd-47ea-a998-0cda25372b33",
   "metadata": {},
   "outputs": [],
   "source": [
    "if TRAIN_RDF2VEC:\n",
    "    import subprocess\n",
    "    subprocess.run(\"python code/train_jrdf2vec.py\".split())"
   ]
  },
  {
   "cell_type": "markdown",
   "id": "6d06e7fd",
   "metadata": {},
   "source": [
    "## Parse Graph"
   ]
  },
  {
   "cell_type": "code",
   "execution_count": 4,
   "id": "2e64f1c7",
   "metadata": {},
   "outputs": [],
   "source": [
    "from rdflib import Graph, URIRef\n",
    "from rdflib.extras.external_graph_libs import rdflib_to_networkx_multidigraph\n",
    "import networkx as nx\n",
    "\n",
    "\n",
    "\n",
    "g_train = Graph()\n",
    "g_val = Graph()\n",
    "g_test = Graph()\n",
    "\n",
    "g_train = g_train.parse('FB15k-237/train.nt', format='nt')\n",
    "g_val   = g_val.parse('FB15k-237/valid.nt', format='nt')\n",
    "g_test  = g_test.parse('FB15k-237/test.nt', format='nt')\n"
   ]
  },
  {
   "cell_type": "code",
   "execution_count": 7,
   "id": "6584c95a-e344-40e4-b11a-18a88c78c723",
   "metadata": {},
   "outputs": [],
   "source": [
    "from gensim.models import Word2Vec\n",
    "\n",
    "\n",
    "word_vectors = Word2Vec.load('walks/model').wv"
   ]
  },
  {
   "cell_type": "code",
   "execution_count": 8,
   "id": "f4329f3e-554b-44a2-95e4-786016a3fb7a",
   "metadata": {},
   "outputs": [
    {
     "name": "stdout",
     "output_type": "stream",
     "text": [
      "removed 259 triples from training set\n",
      "removed 37 triples from validation set\n",
      "removed 59 triples from test set\n"
     ]
    }
   ],
   "source": [
    "from utils_graph import clean_graph,get_entities\n",
    "# clean graphs \n",
    "# number of triples removed should be low, a few hundred\n",
    "print(f\"removed {clean_graph(g_train,word_vectors)} triples from training set\")\n",
    "print(f\"removed {clean_graph(g_val,word_vectors)} triples from validation set\")\n",
    "print(f\"removed {clean_graph(g_test,word_vectors)} triples from test set\")\n",
    "\n",
    "entities = get_entities((g_train,g_val,g_test))"
   ]
  },
  {
   "cell_type": "code",
   "execution_count": 9,
   "id": "0810bf13-53a4-4829-b1af-6137f2e2029e",
   "metadata": {},
   "outputs": [
    {
     "name": "stderr",
     "output_type": "stream",
     "text": [
      "2022-11-17 14:11:08.581143: W tensorflow/stream_executor/platform/default/dso_loader.cc:64] Could not load dynamic library 'libcudart.so.11.0'; dlerror: libcudart.so.11.0: cannot open shared object file: No such file or directory\n",
      "2022-11-17 14:11:08.581162: I tensorflow/stream_executor/cuda/cudart_stub.cc:29] Ignore above cudart dlerror if you do not have a GPU set up on your machine.\n",
      "100%|█████████████████████████████████████████████████████████████████████████████████████████████████| 5/5 [02:26<00:00, 29.38s/it]\n"
     ]
    }
   ],
   "source": [
    "from pathlib import Path\n",
    "import pandas as pd\n",
    "import torch\n",
    "import torchmetrics\n",
    "from models import ClassifierSimple\n",
    "from utils_train import fit_1_1\n",
    "model = ClassifierSimple()    \n",
    "\n",
    "device = torch.device('cuda' if torch.cuda.is_available() else 'cpu')\n",
    "if Path('rdf2vecClassfier.pth').is_file():\n",
    "    print('found trained model! Loading :)')\n",
    "    model.load_state_dict(torch.load('rdf2vecClassfier.pth'))\n",
    "    history = pd.read_csv('log.csv')\n",
    "    model = model.to(device)\n",
    "else:\n",
    "    model = model.to(device)\n",
    "    model,history = fit_1_1(model,g_train,lambda x: word_vectors[x],3000,entities,metrics = {'acc' :torchmetrics.classification.Accuracy()},graph_eval=g_val,epochs=5)\n",
    "    model.eval()\n",
    "    torch.save(model.state_dict(),'rdf2vecClassfier.pth')"
   ]
  },
  {
   "cell_type": "code",
   "execution_count": 10,
   "id": "82e1b879-0606-41d6-8d49-ac514a4be3f9",
   "metadata": {
    "tags": []
   },
   "outputs": [
    {
     "data": {
      "text/plain": [
       "<AxesSubplot:>"
      ]
     },
     "execution_count": 10,
     "metadata": {},
     "output_type": "execute_result"
    },
    {
     "data": {
      "image/png": "[encoded data removed]",
      "text/plain": [
       "<Figure size 432x288 with 1 Axes>"
      ]
     },
     "metadata": {
      "needs_background": "light"
     },
     "output_type": "display_data"
    }
   ],
   "source": [
    "pd.DataFrame(history)[['acc','acc_val']].plot()"
   ]
  },
  {
   "cell_type": "code",
   "execution_count": 11,
   "id": "e1dfa919-8f2e-4c67-a6bd-aa0b4e6f8ed6",
   "metadata": {},
   "outputs": [
    {
     "data": {
      "text/plain": [
       "<AxesSubplot:>"
      ]
     },
     "execution_count": 11,
     "metadata": {},
     "output_type": "execute_result"
    },
    {
     "data": {
      "image/png": "[encoded data removed]",
      "text/plain": [
       "<Figure size 432x288 with 1 Axes>"
      ]
     },
     "metadata": {
      "needs_background": "light"
     },
     "output_type": "display_data"
    }
   ],
   "source": [
    "pd.DataFrame(history)[['loss','loss_val']].plot()"
   ]
  }
 ],
 "metadata": {
  "jupytext": {
   "formats": "ipynb,auto:percent"
  },
  "kernelspec": {
   "display_name": "std-env",
   "language": "python",
   "name": "std-env"
  },
  "language_info": {
   "codemirror_mode": {
    "name": "ipython",
    "version": 3
   },
   "file_extension": ".py",
   "mimetype": "text/x-python",
   "name": "python",
   "nbconvert_exporter": "python",
   "pygments_lexer": "ipython3",
   "version": "3.10.8"
  }
 },
 "nbformat": 4,
 "nbformat_minor": 5
}
