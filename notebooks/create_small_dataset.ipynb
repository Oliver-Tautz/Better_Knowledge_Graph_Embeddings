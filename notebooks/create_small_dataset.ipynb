{
 "cells": [
  {
   "cell_type": "markdown",
   "id": "18c62aec-442c-46de-acce-f708305c6367",
   "metadata": {},
   "source": [
    "# Parse rdf file and save smaller Version "
   ]
  },
  {
   "cell_type": "code",
   "execution_count": 22,
   "id": "1f3ba0b3-ee08-41f3-a834-0d9619256cdb",
   "metadata": {},
   "outputs": [],
   "source": [
    "# Settings\n",
    "\n",
    "# List of Files to parse \n",
    "files = ['FB15k-237/train.nt','FB15k-237/valid.nt','FB15k-237/test.nt']\n",
    "\n",
    "\n",
    "\n",
    "# Source and Target Format of files\n",
    "source_format = 'nt'\n",
    "target_format = 'nt'\n",
    "\n",
    "# Size of new Graph\n",
    "size = 1001"
   ]
  },
  {
   "cell_type": "code",
   "execution_count": 23,
   "id": "bbdfa58a-959f-4d70-9b26-7ea1af1fd861",
   "metadata": {},
   "outputs": [],
   "source": [
    "from rdflib import Graph, URIRef\n",
    "import numpy as np\n",
    "from pathlib import Path\n",
    "\n",
    "def get_smaller_graph(graph,number_of_triples):\n",
    "    smaller = Graph()\n",
    "    ix = np.random.choice(range(len(graph)),number_of_triples,replace=False)\n",
    "    chosen = np.array(list(graph))[ix]\n",
    "\n",
    "    \n",
    "    for s,p,o in chosen:\n",
    "        smaller.add((URIRef(s),URIRef(p),URIRef(o)))\n",
    "        \n",
    "    return smaller"
   ]
  },
  {
   "cell_type": "code",
   "execution_count": 24,
   "id": "bb8f38e9-b7bf-4029-aafc-8c9d4d2ab6fd",
   "metadata": {},
   "outputs": [
    {
     "name": "stdout",
     "output_type": "stream",
     "text": [
      "FB15k-237/train_1001.nt\n"
     ]
    },
    {
     "name": "stderr",
     "output_type": "stream",
     "text": [
      "/home/olli/stdpy/std_env/lib/python3.10/site-packages/rdflib/plugins/serializers/nt.py:35: UserWarning: NTSerializer always uses UTF-8 encoding. Given encoding was: None\n",
      "  warnings.warn(\n"
     ]
    },
    {
     "name": "stdout",
     "output_type": "stream",
     "text": [
      "FB15k-237/valid_1001.nt\n",
      "FB15k-237/test_1001.nt\n"
     ]
    }
   ],
   "source": [
    "files = [Path(x) for x in files]\n",
    "\n",
    "for filename in files:\n",
    "\n",
    "    g= Graph()\n",
    "    g = g.parse(filename, format=source_format)\n",
    "    smaller = get_smaller_graph(g,size)\n",
    "    print(filename.parent / f\"{filename.stem}_{size}{filename.suffix}\")\n",
    "    outfile = filename.parent / f\"{filename.stem}_{size}{filename.suffix}\"\n",
    "    smaller.serialize(outfile,format=target_format)"
   ]
  }
 ],
 "metadata": {
  "kernelspec": {
   "display_name": "std-env",
   "language": "python",
   "name": "std-env"
  },
  "language_info": {
   "codemirror_mode": {
    "name": "ipython",
    "version": 3
   },
   "file_extension": ".py",
   "mimetype": "text/x-python",
   "name": "python",
   "nbconvert_exporter": "python",
   "pygments_lexer": "ipython3",
   "version": "3.10.8"
  }
 },
 "nbformat": 4,
 "nbformat_minor": 5
}
