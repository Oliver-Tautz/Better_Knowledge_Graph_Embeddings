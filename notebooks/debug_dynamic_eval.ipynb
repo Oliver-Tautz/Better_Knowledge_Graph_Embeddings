{
 "cells": [
  {
   "cell_type": "markdown",
   "id": "d2715863-cdb4-4070-b60f-c834eaf07405",
   "metadata": {},
   "source": [
    "# Test for dynamic programming function "
   ]
  },
  {
   "cell_type": "code",
   "execution_count": 1,
   "id": "579dd19d-9c19-4c11-904c-639fa77112fe",
   "metadata": {},
   "outputs": [],
   "source": [
    "import pandas as pd\n",
    "from os import listdir\n",
    "from tqdm.notebook import tqdm\n",
    "\n",
    "from pathlib import Path\n",
    "p = Path('debug')"
   ]
  },
  {
   "cell_type": "code",
   "execution_count": 2,
   "id": "6d286238-737c-4d05-acd3-f66276998b2d",
   "metadata": {},
   "outputs": [],
   "source": [
    "# find files\n",
    "\n",
    "keys_filenames = []\n",
    "stats_filenames = []\n",
    "not_found_filenames = []\n",
    "for filename in listdir('debug'):\n",
    "    if 'keys' in filename:\n",
    "        keys_filenames.append(filename)\n",
    "    elif 'stats' in filename:\n",
    "        stats_filenames.append(filename)\n",
    "    else:\n",
    "        not_found_filenames.append(filename)\n",
    "\n",
    "# sort  names\n",
    "keys_filenames = sorted(keys_filenames, key = lambda x: int(x.split('_')[1].split('.')[0]))\n",
    "stats_filenames = sorted(stats_filenames, key = lambda x: int(x.split('_')[1].split('.')[0]))\n",
    "not_found_filenames = sorted(not_found_filenames, key = lambda x: int(x.split('_')[2].split('.')[0]))"
   ]
  },
  {
   "cell_type": "code",
   "execution_count": null,
   "id": "89a7e44a-4e89-45b9-b7a2-568f62bfc285",
   "metadata": {},
   "outputs": [],
   "source": []
  },
  {
   "cell_type": "code",
   "execution_count": 34,
   "id": "19d0a6f6-2417-4ca8-96b1-6d54268cbc58",
   "metadata": {},
   "outputs": [
    {
     "data": {
      "application/vnd.jupyter.widget-view+json": {
       "model_id": "5e86d565feb041328b1af2a2b0536848",
       "version_major": 2,
       "version_minor": 0
      },
      "text/plain": [
       "  0%|          | 0/1553 [00:00<?, ?it/s]"
      ]
     },
     "metadata": {},
     "output_type": "display_data"
    },
    {
     "name": "stdout",
     "output_type": "stream",
     "text": [
      "no_errors\n"
     ]
    }
   ],
   "source": [
    "errors = 0\n",
    "for keys, stats, not_found in zip(tqdm(keys_filenames),stats_filenames,not_found_filenames):\n",
    "    keys_df = pd.read_feather(p / keys)\n",
    "    stats_df = pd.read_feather(p / stats)\n",
    "    not_found_df = pd.read_feather(p / not_found)\n",
    "    not_found_df = not_found_df[['s','o']]\n",
    "    \n",
    "    merged = pd.merge(keys_df,not_found_df,on=['s','o'])\n",
    "    if len(merged) > 0:\n",
    "        errors+=1\n",
    "        print('error!')\n",
    "print('no_errors')"
   ]
  }
 ],
 "metadata": {
  "kernelspec": {
   "display_name": "std-env",
   "language": "python",
   "name": "std-env"
  },
  "language_info": {
   "codemirror_mode": {
    "name": "ipython",
    "version": 3
   },
   "file_extension": ".py",
   "mimetype": "text/x-python",
   "name": "python",
   "nbconvert_exporter": "python",
   "pygments_lexer": "ipython3",
   "version": "3.10.8"
  }
 },
 "nbformat": 4,
 "nbformat_minor": 5
}
