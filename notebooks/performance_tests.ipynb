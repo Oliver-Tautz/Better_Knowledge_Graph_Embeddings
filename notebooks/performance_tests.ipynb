{
 "cells": [
  {
   "cell_type": "code",
   "execution_count": 1,
   "id": "c4a0de7d-d477-46a4-a932-876b3b7642f4",
   "metadata": {},
   "outputs": [],
   "source": [
    "import numpy as np\n",
    "import gc\n",
    "import timeit\n"
   ]
  },
  {
   "cell_type": "markdown",
   "id": "9ff41bb6-cf03-4f1d-bce5-1b192019a7b3",
   "metadata": {},
   "source": [
    "# Concat large arrays "
   ]
  },
  {
   "cell_type": "code",
   "execution_count": 2,
   "id": "7e2d3931-c6d0-4a6f-a0ab-d34b11140d99",
   "metadata": {},
   "outputs": [],
   "source": [
    "real_shape = (206928225, 100)\n",
    "testshape = (int(206928225/100), 100)\n",
    "testshape\n",
    "test = True\n",
    "\n"
   ]
  },
  {
   "cell_type": "code",
   "execution_count": 3,
   "id": "a12c5e89-166c-45bc-a2f5-667cd40347ad",
   "metadata": {},
   "outputs": [],
   "source": [
    "if test:\n",
    "    shape = testshape\n",
    "else:\n",
    "    shape = real_shape"
   ]
  },
  {
   "cell_type": "code",
   "execution_count": 4,
   "id": "ee8d1cc0-7d60-420c-b44e-9ace255d4541",
   "metadata": {},
   "outputs": [],
   "source": [
    "def fast_concat(se,pe,oe):\n",
    "    \n",
    "    assert se.shape == pe.shape, \"Error! fast_concat with differing shapes\"\n",
    "    assert se.shape == oe.shape, \"Error! fast_concat with differing shapes\"\n",
    "       \n",
    "    x = np.empty((se.shape[0],se.shape[1]*3),dtype=np.float32)\n",
    "    x[:,0:100] =se\n",
    "    x[:,100:200] = pe\n",
    "    x[:,200:] = oe\n",
    "    \n",
    "    return x"
   ]
  },
  {
   "cell_type": "code",
   "execution_count": null,
   "id": "8ea4de81-1fa1-4c2e-b226-cd1c96145250",
   "metadata": {},
   "outputs": [],
   "source": [
    "testarray0 = np.zeros(shape)\n",
    "testarray1= np.zeros(shape)\n",
    "testarray2 = np.zeros(shape)"
   ]
  },
  {
   "cell_type": "code",
   "execution_count": 5,
   "id": "f5076156-39ad-494a-a202-5d03cf69df41",
   "metadata": {},
   "outputs": [],
   "source": [
    "try_concat = f\"np.concatenate([testarray0 ,testarray1,testarray2],axis=1);gc.collect()\"\n",
    "try_empty = f\"fast_concat(testarray0,testarray1,testarray2 );gc.collect()\""
   ]
  },
  {
   "cell_type": "code",
   "execution_count": 6,
   "id": "685a2cf2-6a36-4e87-8b4a-3f4b643606ca",
   "metadata": {},
   "outputs": [
    {
     "data": {
      "text/plain": [
       "5.631752512003004"
      ]
     },
     "execution_count": 6,
     "metadata": {},
     "output_type": "execute_result"
    }
   ],
   "source": [
    "timeit.timeit(try_concat, number=3,globals=globals())"
   ]
  },
  {
   "cell_type": "code",
   "execution_count": 7,
   "id": "f3cd43a9-e92a-4b99-8fd6-6ca1304d7518",
   "metadata": {},
   "outputs": [
    {
     "data": {
      "text/plain": [
       "3.042917001002934"
      ]
     },
     "execution_count": 7,
     "metadata": {},
     "output_type": "execute_result"
    }
   ],
   "source": [
    "timeit.timeit(try_empty, number=3,globals=globals())"
   ]
  },
  {
   "cell_type": "code",
   "execution_count": null,
   "id": "8eb528e8-6f42-4772-918f-68475f10b9e1",
   "metadata": {},
   "outputs": [],
   "source": []
  },
  {
   "cell_type": "markdown",
   "id": "8d4f22a4-8992-43ec-9327-228349934d5a",
   "metadata": {},
   "source": [
    "Speedup of about 2x :/"
   ]
  },
  {
   "cell_type": "code",
   "execution_count": 8,
   "id": "5f463619-5448-4591-962f-0da6166cdab9",
   "metadata": {},
   "outputs": [
    {
     "name": "stderr",
     "output_type": "stream",
     "text": [
      "2022-11-07 18:40:26.724282: W tensorflow/stream_executor/platform/default/dso_loader.cc:64] Could not load dynamic library 'libcudart.so.11.0'; dlerror: libcudart.so.11.0: cannot open shared object file: No such file or directory\n",
      "2022-11-07 18:40:26.724315: I tensorflow/stream_executor/cuda/cudart_stub.cc:29] Ignore above cudart dlerror if you do not have a GPU set up on your machine.\n"
     ]
    }
   ],
   "source": [
    "# pytorch model\n",
    "import torchmetrics\n",
    "import torch\n",
    "from torch import nn \n",
    "\n",
    "\n",
    "class ClassifierSimple(torch.nn.Module):\n",
    "    def __init__(self,input_dim=300,hidden_size=64):\n",
    "        super(ClassifierSimple, self).__init__()\n",
    "        \n",
    "        \n",
    "        self.layers = nn.Sequential(\n",
    "                # flatten input if necessary\n",
    "                nn.Flatten(),\n",
    "                nn.Linear(input_dim,hidden_size),\n",
    "                nn.ReLU(),\n",
    "                nn.Linear(hidden_size,1)\n",
    "        )\n",
    "        \n",
    "        self.output_activation = nn.Sigmoid()\n",
    "                \n",
    "        self.device = torch.device('cuda' if torch.cuda.is_available() else 'cpu')\n",
    " \n",
    "        \n",
    "    \n",
    "    def forward(self,x):        \n",
    "        \n",
    "        return self.layers(x)\n",
    "    def predict(self,x):\n",
    "        x.to(self.device)\n",
    "        \n",
    "        return self.output_activation(self.layers(x))\n",
    "    def predict_numpy(self,x):\n",
    "        x = torch.tensor(x)\n",
    "        x.to(self.device)\n",
    "        return self.output_activation(self.layers(x)).detach().cpu().numpy()\n",
    "        \n",
    "    \n"
   ]
  },
  {
   "cell_type": "code",
   "execution_count": 9,
   "id": "5d225ebd-d39e-4b4a-89ae-b82d88df3171",
   "metadata": {},
   "outputs": [
    {
     "name": "stdout",
     "output_type": "stream",
     "text": [
      "found trained model! Loading :)\n"
     ]
    }
   ],
   "source": [
    "from pathlib import Path\n",
    "import pandas as pd\n",
    "model = ClassifierSimple()    \n",
    "\n",
    "device = torch.device('cuda' if torch.cuda.is_available() else 'cpu')\n",
    "if Path('rdf2vecClassfier.pth').is_file():\n",
    "    print('found trained model! Loading :)')\n",
    "    model.load_state_dict(torch.load('rdf2vecClassfier.pth'))\n",
    "    history = pd.read_csv('log.csv')\n",
    "    model = model.to(device)\n",
    "else:\n",
    "    model = model.to(device)\n",
    "    model,history = fit_1_1(model,g_train,lambda x: word_vectors[x],3000,entities,metrics = {'acc' :torchmetrics.classification.Accuracy()},graph_eval=g_val,epochs=300)\n",
    "    model.eval()\n",
    "    torch.save(model.state_dict(),'rdf2vecClassfier.pth')"
   ]
  },
  {
   "cell_type": "code",
   "execution_count": 10,
   "id": "220aee22-d133-405f-a794-f5279659a119",
   "metadata": {},
   "outputs": [],
   "source": [
    "test = fast_concat(testarray0,testarray1,testarray2 )"
   ]
  },
  {
   "cell_type": "markdown",
   "id": "0d42bde9-5a1c-41ca-80f7-4f87651f2291",
   "metadata": {},
   "source": [
    "# Test Prediction function"
   ]
  },
  {
   "cell_type": "code",
   "execution_count": 18,
   "id": "a5e5934e-ff8b-4c0c-9010-32968814a082",
   "metadata": {},
   "outputs": [
    {
     "data": {
      "text/plain": [
       "132.47281811899666"
      ]
     },
     "execution_count": 18,
     "metadata": {},
     "output_type": "execute_result"
    }
   ],
   "source": [
    "timeit.timeit(f\"model(torch.tensor(test));gc.collect()\", number=100,globals=globals())"
   ]
  },
  {
   "cell_type": "code",
   "execution_count": 19,
   "id": "223eef30-5ff4-4541-addf-0910a64eddd5",
   "metadata": {},
   "outputs": [
    {
     "data": {
      "text/plain": [
       "134.44374255100047"
      ]
     },
     "execution_count": 19,
     "metadata": {},
     "output_type": "execute_result"
    }
   ],
   "source": [
    "timeit.timeit(f\"model.predict_numpy(test);gc.collect()\", number=100,globals=globals())"
   ]
  },
  {
   "cell_type": "markdown",
   "id": "2c00a45d-3f16-4b30-aa98-2635421e5f5b",
   "metadata": {},
   "source": [
    "No Difference on cpu ... need to check on gpu"
   ]
  }
 ],
 "metadata": {
  "kernelspec": {
   "display_name": "std-env",
   "language": "python",
   "name": "std-env"
  },
  "language_info": {
   "codemirror_mode": {
    "name": "ipython",
    "version": 3
   },
   "file_extension": ".py",
   "mimetype": "text/x-python",
   "name": "python",
   "nbconvert_exporter": "python",
   "pygments_lexer": "ipython3",
   "version": "3.10.8"
  }
 },
 "nbformat": 4,
 "nbformat_minor": 5
}
