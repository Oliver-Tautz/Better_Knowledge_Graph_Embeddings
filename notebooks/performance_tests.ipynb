{
 "cells": [
  {
   "cell_type": "code",
   "execution_count": 1,
   "id": "c4a0de7d-d477-46a4-a932-876b3b7642f4",
   "metadata": {},
   "outputs": [],
   "source": [
    "import numpy as np\n",
    "import gc\n",
    "import timeit\n",
    "import torch "
   ]
  },
  {
   "cell_type": "markdown",
   "id": "9ff41bb6-cf03-4f1d-bce5-1b192019a7b3",
   "metadata": {},
   "source": [
    "# Concat large arrays "
   ]
  },
  {
   "cell_type": "code",
   "execution_count": 2,
   "id": "7e2d3931-c6d0-4a6f-a0ab-d34b11140d99",
   "metadata": {},
   "outputs": [],
   "source": [
    "real_shape = (206928225, 100)\n",
    "testshape = (int(206928225/100), 100)\n",
    "testshape\n",
    "test = True\n",
    "no_tries = 3"
   ]
  },
  {
   "cell_type": "code",
   "execution_count": 3,
   "id": "a12c5e89-166c-45bc-a2f5-667cd40347ad",
   "metadata": {},
   "outputs": [],
   "source": [
    "if test:\n",
    "    shape = testshape\n",
    "else:\n",
    "    shape = real_shape"
   ]
  },
  {
   "cell_type": "code",
   "execution_count": 4,
   "id": "ee8d1cc0-7d60-420c-b44e-9ace255d4541",
   "metadata": {},
   "outputs": [],
   "source": [
    "def fast_concat(se,pe,oe):\n",
    "    \n",
    "    assert se.shape == pe.shape, \"Error! fast_concat with differing shapes\"\n",
    "    assert se.shape == oe.shape, \"Error! fast_concat with differing shapes\"\n",
    "       \n",
    "    x = np.empty((se.shape[0],se.shape[1]*3),dtype=np.float32)\n",
    "    x[:,0:100] =se\n",
    "    x[:,100:200] = pe\n",
    "    x[:,200:] = oe\n",
    "    \n",
    "    return x\n",
    "\n",
    "def insert_row_into_array_np(arr,row,col_ix):\n",
    "    col = np.repeat(row,len(arr)).reshape((len(arr),col_ix[1]-col_ix[0]))\n",
    "    arr[:,col_ix[0]:col_ix[1]] = col\n",
    "    return arr\n",
    "\n",
    "def insert_row_into_array_zero_np(arr,row,col_ix):\n",
    "    col = np.repeat(row,len(arr)).reshape((len(arr),col_ix[1]-col_ix[0]))\n",
    "    arr[:,col_ix[0]:col_ix[1]] = 0\n",
    "    arr[:,col_ix[0]:col_ix[1]] += col\n",
    "    \n",
    "    return arr\n",
    "\n",
    "def insert_row_into_array_loop_np(arr,row,col_ix):\n",
    "    for i in range(len(arr)):\n",
    "        arr[:,col_ix[0]:col_ix[1]][i] = row\n",
    "    return arr\n",
    "\n",
    "def insert_row_into_array_loop_zero_np(arr,row,col_ix):\n",
    "    arr[:,col_ix[0]:col_ix[1]] = 0\n",
    "    for i in range(len(arr)):\n",
    "        arr[:,col_ix[0]:col_ix[1]][i] += row\n",
    "    return arr"
   ]
  },
  {
   "cell_type": "code",
   "execution_count": 5,
   "id": "b89d21e5-c769-45f1-aecb-8cacb26da677",
   "metadata": {},
   "outputs": [],
   "source": [
    "def insert_row_into_array_torch(arr,row,col_ix):\n",
    "    col = row.repeat(len(arr),1)\n",
    "    arr[:,col_ix[0]:col_ix[1]] = col\n",
    "    return arr\n",
    "\n",
    "def insert_row_into_array_zero_torch(arr,row,col_ix):\n",
    "    col = row.repeat(len(arr),1)\n",
    "    arr[:,col_ix[0]:col_ix[1]] = 0\n",
    "    arr[:,col_ix[0]:col_ix[1]] += col\n",
    "    return arr\n",
    "\n",
    "def insert_row_into_array_loop_torch(arr,row,col_ix):\n",
    "    for i in range(len(arr)):\n",
    "        arr[:,col_ix[0]:col_ix[1]][i] = row\n",
    "    return arr\n",
    "\n",
    "def insert_row_into_array_loop_zero_torch(arr,row,col_ix):\n",
    "    arr[:,col_ix[0]:col_ix[1]] = 0\n",
    "    for i in range(len(arr)):\n",
    "        arr[:,col_ix[0]:col_ix[1]][i] += row\n",
    "    return arr"
   ]
  },
  {
   "cell_type": "code",
   "execution_count": 6,
   "id": "f5076156-39ad-494a-a202-5d03cf69df41",
   "metadata": {},
   "outputs": [],
   "source": [
    "testrow = np.zeros(shape[1])\n",
    "testarray = np.empty((shape[0],shape[1]*3))\n",
    "\n",
    "try_np = f\"insert_row_into_array_np(testarray,testrow,(100,200));gc.collect()\"\n",
    "try_np_zero= f\"insert_row_into_array_zero_np(testarray,testrow,(100,200));gc.collect()\"\n",
    "try_np_loop= f\"insert_row_into_array_loop_np(testarray,testrow,(100,200));gc.collect()\"\n",
    "try_np_loop_zero = f\"insert_row_into_array_loop_zero_np(testarray,testrow,(100,200));gc.collect()\""
   ]
  },
  {
   "cell_type": "markdown",
   "id": "7471ea11-e156-4563-9a2e-780d9585cd15",
   "metadata": {},
   "source": [
    "## Time numpy functions"
   ]
  },
  {
   "cell_type": "code",
   "execution_count": 7,
   "id": "685a2cf2-6a36-4e87-8b4a-3f4b643606ca",
   "metadata": {},
   "outputs": [
    {
     "ename": "KeyboardInterrupt",
     "evalue": "",
     "output_type": "error",
     "traceback": [
      "\u001b[0;31m---------------------------------------------------------------------------\u001b[0m",
      "\u001b[0;31mKeyboardInterrupt\u001b[0m                         Traceback (most recent call last)",
      "\u001b[0;32m/tmp/ipykernel_23897/3699595197.py\u001b[0m in \u001b[0;36m<module>\u001b[0;34m\u001b[0m\n\u001b[0;32m----> 1\u001b[0;31m \u001b[0mtimeit\u001b[0m\u001b[0;34m.\u001b[0m\u001b[0mtimeit\u001b[0m\u001b[0;34m(\u001b[0m\u001b[0mtry_np\u001b[0m\u001b[0;34m,\u001b[0m \u001b[0mnumber\u001b[0m\u001b[0;34m=\u001b[0m\u001b[0mno_tries\u001b[0m\u001b[0;34m,\u001b[0m\u001b[0mglobals\u001b[0m\u001b[0;34m=\u001b[0m\u001b[0mglobals\u001b[0m\u001b[0;34m(\u001b[0m\u001b[0;34m)\u001b[0m\u001b[0;34m)\u001b[0m\u001b[0;34m\u001b[0m\u001b[0;34m\u001b[0m\u001b[0m\n\u001b[0m",
      "\u001b[0;32m/usr/lib/python3.10/timeit.py\u001b[0m in \u001b[0;36mtimeit\u001b[0;34m(stmt, setup, timer, number, globals)\u001b[0m\n\u001b[1;32m    232\u001b[0m            number=default_number, globals=None):\n\u001b[1;32m    233\u001b[0m     \u001b[0;34m\"\"\"Convenience function to create Timer object and call timeit method.\"\"\"\u001b[0m\u001b[0;34m\u001b[0m\u001b[0;34m\u001b[0m\u001b[0m\n\u001b[0;32m--> 234\u001b[0;31m     \u001b[0;32mreturn\u001b[0m \u001b[0mTimer\u001b[0m\u001b[0;34m(\u001b[0m\u001b[0mstmt\u001b[0m\u001b[0;34m,\u001b[0m \u001b[0msetup\u001b[0m\u001b[0;34m,\u001b[0m \u001b[0mtimer\u001b[0m\u001b[0;34m,\u001b[0m \u001b[0mglobals\u001b[0m\u001b[0;34m)\u001b[0m\u001b[0;34m.\u001b[0m\u001b[0mtimeit\u001b[0m\u001b[0;34m(\u001b[0m\u001b[0mnumber\u001b[0m\u001b[0;34m)\u001b[0m\u001b[0;34m\u001b[0m\u001b[0;34m\u001b[0m\u001b[0m\n\u001b[0m\u001b[1;32m    235\u001b[0m \u001b[0;34m\u001b[0m\u001b[0m\n\u001b[1;32m    236\u001b[0m def repeat(stmt=\"pass\", setup=\"pass\", timer=default_timer,\n",
      "\u001b[0;32m/usr/lib/python3.10/timeit.py\u001b[0m in \u001b[0;36mtimeit\u001b[0;34m(self, number)\u001b[0m\n\u001b[1;32m    176\u001b[0m         \u001b[0mgc\u001b[0m\u001b[0;34m.\u001b[0m\u001b[0mdisable\u001b[0m\u001b[0;34m(\u001b[0m\u001b[0;34m)\u001b[0m\u001b[0;34m\u001b[0m\u001b[0;34m\u001b[0m\u001b[0m\n\u001b[1;32m    177\u001b[0m         \u001b[0;32mtry\u001b[0m\u001b[0;34m:\u001b[0m\u001b[0;34m\u001b[0m\u001b[0;34m\u001b[0m\u001b[0m\n\u001b[0;32m--> 178\u001b[0;31m             \u001b[0mtiming\u001b[0m \u001b[0;34m=\u001b[0m \u001b[0mself\u001b[0m\u001b[0;34m.\u001b[0m\u001b[0minner\u001b[0m\u001b[0;34m(\u001b[0m\u001b[0mit\u001b[0m\u001b[0;34m,\u001b[0m \u001b[0mself\u001b[0m\u001b[0;34m.\u001b[0m\u001b[0mtimer\u001b[0m\u001b[0;34m)\u001b[0m\u001b[0;34m\u001b[0m\u001b[0;34m\u001b[0m\u001b[0m\n\u001b[0m\u001b[1;32m    179\u001b[0m         \u001b[0;32mfinally\u001b[0m\u001b[0;34m:\u001b[0m\u001b[0;34m\u001b[0m\u001b[0;34m\u001b[0m\u001b[0m\n\u001b[1;32m    180\u001b[0m             \u001b[0;32mif\u001b[0m \u001b[0mgcold\u001b[0m\u001b[0;34m:\u001b[0m\u001b[0;34m\u001b[0m\u001b[0;34m\u001b[0m\u001b[0m\n",
      "\u001b[0;32m<timeit-src>\u001b[0m in \u001b[0;36minner\u001b[0;34m(_it, _timer)\u001b[0m\n",
      "\u001b[0;31mKeyboardInterrupt\u001b[0m: "
     ]
    }
   ],
   "source": [
    "timeit.timeit(try_np, number=no_tries,globals=globals())"
   ]
  },
  {
   "cell_type": "code",
   "execution_count": null,
   "id": "f3cd43a9-e92a-4b99-8fd6-6ca1304d7518",
   "metadata": {},
   "outputs": [],
   "source": [
    "timeit.timeit(try_np_zero, number=no_tries,globals=globals())"
   ]
  },
  {
   "cell_type": "code",
   "execution_count": null,
   "id": "7322563d-f65f-4432-8d57-4df86a305e3b",
   "metadata": {},
   "outputs": [],
   "source": [
    "timeit.timeit(try_np_loop, number=no_tries,globals=globals())"
   ]
  },
  {
   "cell_type": "code",
   "execution_count": null,
   "id": "58a16536-689c-412d-b1b0-0f94c2cf0158",
   "metadata": {},
   "outputs": [],
   "source": [
    "timeit.timeit(try_np_loop_zero, number=no_tries,globals=globals())"
   ]
  },
  {
   "cell_type": "markdown",
   "id": "69f4b2aa-e9da-48ee-a0d3-f3f4dc70cf12",
   "metadata": {},
   "source": [
    "## Try torch functions"
   ]
  },
  {
   "cell_type": "code",
   "execution_count": null,
   "id": "dd6dd942-b745-4b5e-927f-03bf1ce4c977",
   "metadata": {},
   "outputs": [],
   "source": [
    "device = torch.device('cuda' if torch.cuda.is_available() else 'cpu')\n",
    "testrow = torch.tensor(testrow).to(device)\n",
    "testarray = torch.tensor(testarray).to(device)\n",
    "\n",
    "try_torch = f\"insert_row_into_array_torch(testarray,testrow,(100,200));gc.collect()\"\n",
    "try_torch_zero= f\"insert_row_into_array_zero_torch(testarray,testrow,(100,200));gc.collect()\"\n",
    "try_torch_loop= f\"insert_row_into_array_loop_torch(testarray,testrow,(100,200));gc.collect()\"\n",
    "try_torch_loop_zero= f\"insert_row_into_array_loop_zero_torch(testarray,testrow,(100,200));gc.collect()\""
   ]
  },
  {
   "cell_type": "code",
   "execution_count": null,
   "id": "575b3927-c19f-497c-b26c-91a30be801be",
   "metadata": {},
   "outputs": [],
   "source": [
    "timeit.timeit(try_torch, number=no_tries,globals=globals())"
   ]
  },
  {
   "cell_type": "code",
   "execution_count": null,
   "id": "02a81ce9-5457-4d6d-9850-3c7f73bcad92",
   "metadata": {},
   "outputs": [],
   "source": [
    "timeit.timeit(try_torch_zero, number=no_tries,globals=globals())"
   ]
  },
  {
   "cell_type": "code",
   "execution_count": null,
   "id": "f2b61995-dffa-4f3d-b7ff-6f594ee74221",
   "metadata": {},
   "outputs": [],
   "source": [
    "timeit.timeit(try_torch_loop, number=no_tries,globals=globals())"
   ]
  },
  {
   "cell_type": "code",
   "execution_count": null,
   "id": "e94be3a6-576b-4fb2-a9ee-1fcbca60b12e",
   "metadata": {},
   "outputs": [],
   "source": [
    "timeit.timeit(try_torch_loop_zero, number=no_tries,globals=globals())"
   ]
  },
  {
   "cell_type": "code",
   "execution_count": null,
   "id": "5f463619-5448-4591-962f-0da6166cdab9",
   "metadata": {},
   "outputs": [],
   "source": [
    "# pytorch model\n",
    "import torchmetrics\n",
    "import torch\n",
    "from torch import nn \n",
    "\n",
    "\n",
    "class ClassifierSimple(torch.nn.Module):\n",
    "    def __init__(self,input_dim=300,hidden_size=64):\n",
    "        super(ClassifierSimple, self).__init__()\n",
    "        \n",
    "        \n",
    "        self.layers = nn.Sequential(\n",
    "                # flatten input if necessary\n",
    "                nn.Flatten(),\n",
    "                nn.Linear(input_dim,hidden_size),\n",
    "                nn.ReLU(),\n",
    "                nn.Linear(hidden_size,1)\n",
    "        )\n",
    "        \n",
    "        self.output_activation = nn.Sigmoid()\n",
    "                \n",
    "        self.device = torch.device('cuda' if torch.cuda.is_available() else 'cpu')\n",
    " \n",
    "        \n",
    "    \n",
    "    def forward(self,x):        \n",
    "        \n",
    "        return self.layers(x)\n",
    "    def predict(self,x):\n",
    "        x.to(self.device)\n",
    "        \n",
    "        return self.output_activation(self.layers(x))\n",
    "    def predict_numpy(self,x):\n",
    "        x = torch.tensor(x)\n",
    "        x.to(self.device)\n",
    "        return self.output_activation(self.layers(x)).detach().cpu().numpy()\n",
    "        \n",
    "    \n"
   ]
  },
  {
   "cell_type": "markdown",
   "id": "0d42bde9-5a1c-41ca-80f7-4f87651f2291",
   "metadata": {},
   "source": [
    "# Test Prediction function"
   ]
  },
  {
   "cell_type": "code",
   "execution_count": null,
   "id": "01467ee7-f175-4d5b-8b4d-2de25efabdaf",
   "metadata": {},
   "outputs": [],
   "source": [
    "model = ClassifierSimple()\n",
    "model = model.to(device)"
   ]
  },
  {
   "cell_type": "code",
   "execution_count": null,
   "id": "2fb0dc62-41e4-43ad-9758-72a8cd843890",
   "metadata": {},
   "outputs": [],
   "source": [
    "test = torch.empty((shape[0],shape[1]*3)).to(device)"
   ]
  },
  {
   "cell_type": "code",
   "execution_count": null,
   "id": "a5e5934e-ff8b-4c0c-9010-32968814a082",
   "metadata": {},
   "outputs": [],
   "source": [
    "timeit.timeit(f\"model(test);gc.collect()\", number=10,globals=globals())"
   ]
  },
  {
   "cell_type": "code",
   "execution_count": null,
   "id": "223eef30-5ff4-4541-addf-0910a64eddd5",
   "metadata": {},
   "outputs": [],
   "source": [
    "timeit.timeit(f\"model.predict_numpy(test);gc.collect()\", number=10,globals=globals())"
   ]
  },
  {
   "cell_type": "markdown",
   "id": "2c00a45d-3f16-4b30-aa98-2635421e5f5b",
   "metadata": {},
   "source": [
    "No Difference on cpu ... need to check on gpu"
   ]
  },
  {
   "cell_type": "markdown",
   "id": "235317b6-70fb-4621-b675-f7ccc1d3a080",
   "metadata": {},
   "source": [
    "# Test to(device)"
   ]
  },
  {
   "cell_type": "code",
   "execution_count": 104,
   "id": "6961c918-6ea5-415e-8aba-4f90a8692a45",
   "metadata": {},
   "outputs": [],
   "source": [
    "device = torch.device('cuda' if torch.cuda.is_available() else 'cpu')"
   ]
  },
  {
   "cell_type": "code",
   "execution_count": 103,
   "id": "30993c32-8c55-43fe-a422-abccede68986",
   "metadata": {},
   "outputs": [],
   "source": [
    "x = torch.ones(10000,500)\n"
   ]
  }
 ],
 "metadata": {
  "kernelspec": {
   "display_name": "Python 3",
   "language": "python",
   "name": "python3"
  },
  "language_info": {
   "codemirror_mode": {
    "name": "ipython",
    "version": 3
   },
   "file_extension": ".py",
   "mimetype": "text/x-python",
   "name": "python",
   "nbconvert_exporter": "python",
   "pygments_lexer": "ipython3",
   "version": "3.9.12"
  }
 },
 "nbformat": 4,
 "nbformat_minor": 5
}
