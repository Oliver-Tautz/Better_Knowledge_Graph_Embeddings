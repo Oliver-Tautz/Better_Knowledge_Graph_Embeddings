{
 "cells": [
  {
   "cell_type": "code",
   "execution_count": 1,
   "id": "c4a0de7d-d477-46a4-a932-876b3b7642f4",
   "metadata": {},
   "outputs": [],
   "source": [
    "import numpy as np\n",
    "import gc\n",
    "import timeit\n",
    "import torch "
   ]
  },
  {
   "cell_type": "markdown",
   "id": "9ff41bb6-cf03-4f1d-bce5-1b192019a7b3",
   "metadata": {},
   "source": [
    "# Concat large arrays "
   ]
  },
  {
   "cell_type": "code",
   "execution_count": 2,
   "id": "7e2d3931-c6d0-4a6f-a0ab-d34b11140d99",
   "metadata": {},
   "outputs": [],
   "source": [
    "real_shape = (206928225, 100)\n",
    "testshape = (int(206928225/100), 100)\n",
    "testshape\n",
    "test = True\n",
    "no_tries = 3"
   ]
  },
  {
   "cell_type": "code",
   "execution_count": 3,
   "id": "a12c5e89-166c-45bc-a2f5-667cd40347ad",
   "metadata": {},
   "outputs": [],
   "source": [
    "if test:\n",
    "    shape = testshape\n",
    "else:\n",
    "    shape = real_shape"
   ]
  },
  {
   "cell_type": "code",
   "execution_count": 4,
   "id": "ee8d1cc0-7d60-420c-b44e-9ace255d4541",
   "metadata": {},
   "outputs": [],
   "source": [
    "def fast_concat(se,pe,oe):\n",
    "    \n",
    "    assert se.shape == pe.shape, \"Error! fast_concat with differing shapes\"\n",
    "    assert se.shape == oe.shape, \"Error! fast_concat with differing shapes\"\n",
    "       \n",
    "    x = np.empty((se.shape[0],se.shape[1]*3),dtype=np.float32)\n",
    "    x[:,0:100] =se\n",
    "    x[:,100:200] = pe\n",
    "    x[:,200:] = oe\n",
    "    \n",
    "    return x\n",
    "\n",
    "def insert_row_into_array_np(arr,row,col_ix):\n",
    "    col = np.repeat(row,len(arr)).reshape((len(arr),col_ix[1]-col_ix[0]))\n",
    "    arr[:,col_ix[0]:col_ix[1]] = col\n",
    "    return arr\n",
    "\n",
    "def insert_row_into_array_zero_np(arr,row,col_ix):\n",
    "    col = np.repeat(row,len(arr)).reshape((len(arr),col_ix[1]-col_ix[0]))\n",
    "    arr[:,col_ix[0]:col_ix[1]] = 0\n",
    "    arr[:,col_ix[0]:col_ix[1]] += col\n",
    "    \n",
    "    return arr\n",
    "\n",
    "def insert_row_into_array_loop_np(arr,row,col_ix):\n",
    "    for i in range(len(arr)):\n",
    "        arr[:,col_ix[0]:col_ix[1]][i] = row\n",
    "    return arr\n",
    "\n",
    "def insert_row_into_array_loop_zero_np(arr,row,col_ix):\n",
    "    arr[:,col_ix[0]:col_ix[1]] = 0\n",
    "    for i in range(len(arr)):\n",
    "        arr[:,col_ix[0]:col_ix[1]][i] += row\n",
    "    return arr"
   ]
  },
  {
   "cell_type": "code",
   "execution_count": 5,
   "id": "b89d21e5-c769-45f1-aecb-8cacb26da677",
   "metadata": {},
   "outputs": [],
   "source": [
    "def insert_row_into_array_torch(arr,row,col_ix):\n",
    "    col = row.repeat(len(arr),1)\n",
    "    arr[:,col_ix[0]:col_ix[1]] = col\n",
    "    return arr\n",
    "\n",
    "def insert_row_into_array_zero_torch(arr,row,col_ix):\n",
    "    col = row.repeat(len(arr),1)\n",
    "    arr[:,col_ix[0]:col_ix[1]] = 0\n",
    "    arr[:,col_ix[0]:col_ix[1]] += col\n",
    "    return arr\n",
    "\n",
    "def insert_row_into_array_loop_torch(arr,row,col_ix):\n",
    "    for i in range(len(arr)):\n",
    "        arr[:,col_ix[0]:col_ix[1]][i] = row\n",
    "    return arr\n",
    "\n",
    "def insert_row_into_array_loop_zero_torch(arr,row,col_ix):\n",
    "    arr[:,col_ix[0]:col_ix[1]] = 0\n",
    "    for i in range(len(arr)):\n",
    "        arr[:,col_ix[0]:col_ix[1]][i] += row\n",
    "    return arr"
   ]
  },
  {
   "cell_type": "code",
   "execution_count": 6,
   "id": "f5076156-39ad-494a-a202-5d03cf69df41",
   "metadata": {},
   "outputs": [],
   "source": [
    "testrow = np.zeros(shape[1])\n",
    "testarray = np.empty((shape[0],shape[1]*3))\n",
    "\n",
    "try_np = f\"insert_row_into_array_np(testarray,testrow,(100,200));gc.collect()\"\n",
    "try_np_zero= f\"insert_row_into_array_zero_np(testarray,testrow,(100,200));gc.collect()\"\n",
    "try_np_loop= f\"insert_row_into_array_loop_np(testarray,testrow,(100,200));gc.collect()\"\n",
    "try_np_loop_zero = f\"insert_row_into_array_loop_zero_np(testarray,testrow,(100,200));gc.collect()\""
   ]
  },
  {
   "cell_type": "markdown",
   "id": "7471ea11-e156-4563-9a2e-780d9585cd15",
   "metadata": {},
   "source": [
    "## Time numpy functions"
   ]
  },
  {
   "cell_type": "code",
   "execution_count": 7,
   "id": "685a2cf2-6a36-4e87-8b4a-3f4b643606ca",
   "metadata": {},
   "outputs": [
    {
     "ename": "KeyboardInterrupt",
     "evalue": "",
     "output_type": "error",
     "traceback": [
      "\u001b[0;31m---------------------------------------------------------------------------\u001b[0m",
      "\u001b[0;31mKeyboardInterrupt\u001b[0m                         Traceback (most recent call last)",
      "\u001b[0;32m/tmp/ipykernel_23897/3699595197.py\u001b[0m in \u001b[0;36m<module>\u001b[0;34m\u001b[0m\n\u001b[0;32m----> 1\u001b[0;31m \u001b[0mtimeit\u001b[0m\u001b[0;34m.\u001b[0m\u001b[0mtimeit\u001b[0m\u001b[0;34m(\u001b[0m\u001b[0mtry_np\u001b[0m\u001b[0;34m,\u001b[0m \u001b[0mnumber\u001b[0m\u001b[0;34m=\u001b[0m\u001b[0mno_tries\u001b[0m\u001b[0;34m,\u001b[0m\u001b[0mglobals\u001b[0m\u001b[0;34m=\u001b[0m\u001b[0mglobals\u001b[0m\u001b[0;34m(\u001b[0m\u001b[0;34m)\u001b[0m\u001b[0;34m)\u001b[0m\u001b[0;34m\u001b[0m\u001b[0;34m\u001b[0m\u001b[0m\n\u001b[0m",
      "\u001b[0;32m/usr/lib/python3.10/timeit.py\u001b[0m in \u001b[0;36mtimeit\u001b[0;34m(stmt, setup, timer, number, globals)\u001b[0m\n\u001b[1;32m    232\u001b[0m            number=default_number, globals=None):\n\u001b[1;32m    233\u001b[0m     \u001b[0;34m\"\"\"Convenience function to create Timer object and call timeit method.\"\"\"\u001b[0m\u001b[0;34m\u001b[0m\u001b[0;34m\u001b[0m\u001b[0m\n\u001b[0;32m--> 234\u001b[0;31m     \u001b[0;32mreturn\u001b[0m \u001b[0mTimer\u001b[0m\u001b[0;34m(\u001b[0m\u001b[0mstmt\u001b[0m\u001b[0;34m,\u001b[0m \u001b[0msetup\u001b[0m\u001b[0;34m,\u001b[0m \u001b[0mtimer\u001b[0m\u001b[0;34m,\u001b[0m \u001b[0mglobals\u001b[0m\u001b[0;34m)\u001b[0m\u001b[0;34m.\u001b[0m\u001b[0mtimeit\u001b[0m\u001b[0;34m(\u001b[0m\u001b[0mnumber\u001b[0m\u001b[0;34m)\u001b[0m\u001b[0;34m\u001b[0m\u001b[0;34m\u001b[0m\u001b[0m\n\u001b[0m\u001b[1;32m    235\u001b[0m \u001b[0;34m\u001b[0m\u001b[0m\n\u001b[1;32m    236\u001b[0m def repeat(stmt=\"pass\", setup=\"pass\", timer=default_timer,\n",
      "\u001b[0;32m/usr/lib/python3.10/timeit.py\u001b[0m in \u001b[0;36mtimeit\u001b[0;34m(self, number)\u001b[0m\n\u001b[1;32m    176\u001b[0m         \u001b[0mgc\u001b[0m\u001b[0;34m.\u001b[0m\u001b[0mdisable\u001b[0m\u001b[0;34m(\u001b[0m\u001b[0;34m)\u001b[0m\u001b[0;34m\u001b[0m\u001b[0;34m\u001b[0m\u001b[0m\n\u001b[1;32m    177\u001b[0m         \u001b[0;32mtry\u001b[0m\u001b[0;34m:\u001b[0m\u001b[0;34m\u001b[0m\u001b[0;34m\u001b[0m\u001b[0m\n\u001b[0;32m--> 178\u001b[0;31m             \u001b[0mtiming\u001b[0m \u001b[0;34m=\u001b[0m \u001b[0mself\u001b[0m\u001b[0;34m.\u001b[0m\u001b[0minner\u001b[0m\u001b[0;34m(\u001b[0m\u001b[0mit\u001b[0m\u001b[0;34m,\u001b[0m \u001b[0mself\u001b[0m\u001b[0;34m.\u001b[0m\u001b[0mtimer\u001b[0m\u001b[0;34m)\u001b[0m\u001b[0;34m\u001b[0m\u001b[0;34m\u001b[0m\u001b[0m\n\u001b[0m\u001b[1;32m    179\u001b[0m         \u001b[0;32mfinally\u001b[0m\u001b[0;34m:\u001b[0m\u001b[0;34m\u001b[0m\u001b[0;34m\u001b[0m\u001b[0m\n\u001b[1;32m    180\u001b[0m             \u001b[0;32mif\u001b[0m \u001b[0mgcold\u001b[0m\u001b[0;34m:\u001b[0m\u001b[0;34m\u001b[0m\u001b[0;34m\u001b[0m\u001b[0m\n",
      "\u001b[0;32m<timeit-src>\u001b[0m in \u001b[0;36minner\u001b[0;34m(_it, _timer)\u001b[0m\n",
      "\u001b[0;31mKeyboardInterrupt\u001b[0m: "
     ]
    }
   ],
   "source": [
    "timeit.timeit(try_np, number=no_tries,globals=globals())"
   ]
  },
  {
   "cell_type": "code",
   "execution_count": null,
   "id": "f3cd43a9-e92a-4b99-8fd6-6ca1304d7518",
   "metadata": {},
   "outputs": [],
   "source": [
    "timeit.timeit(try_np_zero, number=no_tries,globals=globals())"
   ]
  },
  {
   "cell_type": "code",
   "execution_count": null,
   "id": "7322563d-f65f-4432-8d57-4df86a305e3b",
   "metadata": {},
   "outputs": [],
   "source": [
    "timeit.timeit(try_np_loop, number=no_tries,globals=globals())"
   ]
  },
  {
   "cell_type": "code",
   "execution_count": null,
   "id": "58a16536-689c-412d-b1b0-0f94c2cf0158",
   "metadata": {},
   "outputs": [],
   "source": [
    "timeit.timeit(try_np_loop_zero, number=no_tries,globals=globals())"
   ]
  },
  {
   "cell_type": "markdown",
   "id": "69f4b2aa-e9da-48ee-a0d3-f3f4dc70cf12",
   "metadata": {},
   "source": [
    "## Try torch functions"
   ]
  },
  {
   "cell_type": "code",
   "execution_count": null,
   "id": "dd6dd942-b745-4b5e-927f-03bf1ce4c977",
   "metadata": {},
   "outputs": [],
   "source": [
    "device = torch.device('cuda' if torch.cuda.is_available() else 'cpu')\n",
    "testrow = torch.tensor(testrow).to(device)\n",
    "testarray = torch.tensor(testarray).to(device)\n",
    "\n",
    "try_torch = f\"insert_row_into_array_torch(testarray,testrow,(100,200));gc.collect()\"\n",
    "try_torch_zero= f\"insert_row_into_array_zero_torch(testarray,testrow,(100,200));gc.collect()\"\n",
    "try_torch_loop= f\"insert_row_into_array_loop_torch(testarray,testrow,(100,200));gc.collect()\"\n",
    "try_torch_loop_zero= f\"insert_row_into_array_loop_zero_torch(testarray,testrow,(100,200));gc.collect()\""
   ]
  },
  {
   "cell_type": "code",
   "execution_count": null,
   "id": "575b3927-c19f-497c-b26c-91a30be801be",
   "metadata": {},
   "outputs": [],
   "source": [
    "timeit.timeit(try_torch, number=no_tries,globals=globals())"
   ]
  },
  {
   "cell_type": "code",
   "execution_count": null,
   "id": "02a81ce9-5457-4d6d-9850-3c7f73bcad92",
   "metadata": {},
   "outputs": [],
   "source": [
    "timeit.timeit(try_torch_zero, number=no_tries,globals=globals())"
   ]
  },
  {
   "cell_type": "code",
   "execution_count": null,
   "id": "f2b61995-dffa-4f3d-b7ff-6f594ee74221",
   "metadata": {},
   "outputs": [],
   "source": [
    "timeit.timeit(try_torch_loop, number=no_tries,globals=globals())"
   ]
  },
  {
   "cell_type": "code",
   "execution_count": null,
   "id": "e94be3a6-576b-4fb2-a9ee-1fcbca60b12e",
   "metadata": {},
   "outputs": [],
   "source": [
    "timeit.timeit(try_torch_loop_zero, number=no_tries,globals=globals())"
   ]
  },
  {
   "cell_type": "code",
   "execution_count": null,
   "id": "5f463619-5448-4591-962f-0da6166cdab9",
   "metadata": {},
   "outputs": [],
   "source": [
    "# pytorch model\n",
    "import torchmetrics\n",
    "import torch\n",
    "from torch import nn \n",
    "\n",
    "\n",
    "class ClassifierSimple(torch.nn.Module):\n",
    "    def __init__(self,input_dim=300,hidden_size=64):\n",
    "        super(ClassifierSimple, self).__init__()\n",
    "        \n",
    "        \n",
    "        self.layers = nn.Sequential(\n",
    "                # flatten input if necessary\n",
    "                nn.Flatten(),\n",
    "                nn.Linear(input_dim,hidden_size),\n",
    "                nn.ReLU(),\n",
    "                nn.Linear(hidden_size,1)\n",
    "        )\n",
    "        \n",
    "        self.output_activation = nn.Sigmoid()\n",
    "                \n",
    "        self.device = torch.device('cuda' if torch.cuda.is_available() else 'cpu')\n",
    " \n",
    "        \n",
    "    \n",
    "    def forward(self,x):        \n",
    "        \n",
    "        return self.layers(x)\n",
    "    def predict(self,x):\n",
    "        x.to(self.device)\n",
    "        \n",
    "        return self.output_activation(self.layers(x))\n",
    "    def predict_numpy(self,x):\n",
    "        x = torch.tensor(x)\n",
    "        x.to(self.device)\n",
    "        return self.output_activation(self.layers(x)).detach().cpu().numpy()\n",
    "        \n",
    "    \n"
   ]
  },
  {
   "cell_type": "markdown",
   "id": "0d42bde9-5a1c-41ca-80f7-4f87651f2291",
   "metadata": {},
   "source": [
    "# Test Prediction function"
   ]
  },
  {
   "cell_type": "code",
   "execution_count": null,
   "id": "01467ee7-f175-4d5b-8b4d-2de25efabdaf",
   "metadata": {},
   "outputs": [],
   "source": [
    "model = ClassifierSimple()\n",
    "model = model.to(device)"
   ]
  },
  {
   "cell_type": "code",
   "execution_count": null,
   "id": "2fb0dc62-41e4-43ad-9758-72a8cd843890",
   "metadata": {},
   "outputs": [],
   "source": [
    "test = torch.empty((shape[0],shape[1]*3)).to(device)"
   ]
  },
  {
   "cell_type": "code",
   "execution_count": null,
   "id": "a5e5934e-ff8b-4c0c-9010-32968814a082",
   "metadata": {},
   "outputs": [],
   "source": [
    "timeit.timeit(f\"model(test);gc.collect()\", number=10,globals=globals())"
   ]
  },
  {
   "cell_type": "code",
   "execution_count": null,
   "id": "223eef30-5ff4-4541-addf-0910a64eddd5",
   "metadata": {},
   "outputs": [],
   "source": [
    "timeit.timeit(f\"model.predict_numpy(test);gc.collect()\", number=10,globals=globals())"
   ]
  },
  {
   "cell_type": "markdown",
   "id": "2c00a45d-3f16-4b30-aa98-2635421e5f5b",
   "metadata": {},
   "source": [
    "No Difference on cpu ... need to check on gpu"
   ]
  },
  {
   "cell_type": "code",
   "execution_count": 1,
   "id": "82be76ef-0ae2-4c38-b6af-d15ca7791afa",
   "metadata": {},
   "outputs": [],
   "source": [
    "import torch"
   ]
  },
  {
   "cell_type": "code",
   "execution_count": 2,
   "id": "926121a8-3d82-40df-90fe-962d7e980cbd",
   "metadata": {},
   "outputs": [],
   "source": [
    "x = torch.zeros(10000,300)"
   ]
  },
  {
   "cell_type": "code",
   "execution_count": 3,
   "id": "7d88c27c-2683-4221-b771-68daea2df8ba",
   "metadata": {},
   "outputs": [],
   "source": [
    "row = torch.ones(100).reshape(1,100)"
   ]
  },
  {
   "cell_type": "code",
   "execution_count": 9,
   "id": "8afff4da-14b2-41c4-9714-19a7740e315a",
   "metadata": {},
   "outputs": [
    {
     "data": {
      "text/plain": [
       "tensor([0, 1, 2, 3, 4, 5, 6, 7, 8, 9])"
      ]
     },
     "execution_count": 9,
     "metadata": {},
     "output_type": "execute_result"
    }
   ],
   "source": [
    "torch.arange(10)"
   ]
  },
  {
   "cell_type": "code",
   "execution_count": 10,
   "id": "13aeab1c-e653-474c-a955-65b1b1ad98b8",
   "metadata": {},
   "outputs": [
    {
     "ename": "RuntimeError",
     "evalue": "index_fill_ only supports a 0-dimensional value tensor, but got tensor with 2 dimension(s).",
     "output_type": "error",
     "traceback": [
      "\u001b[0;31m---------------------------------------------------------------------------\u001b[0m",
      "\u001b[0;31mRuntimeError\u001b[0m                              Traceback (most recent call last)",
      "\u001b[0;32m/tmp/ipykernel_48450/1502886551.py\u001b[0m in \u001b[0;36m<module>\u001b[0;34m\u001b[0m\n\u001b[0;32m----> 1\u001b[0;31m \u001b[0mx\u001b[0m\u001b[0;34m[\u001b[0m\u001b[0;34m:\u001b[0m\u001b[0;34m,\u001b[0m\u001b[0;36m100\u001b[0m\u001b[0;34m:\u001b[0m\u001b[0;36m200\u001b[0m\u001b[0;34m]\u001b[0m\u001b[0;34m.\u001b[0m\u001b[0mindex_fill\u001b[0m\u001b[0;34m(\u001b[0m\u001b[0;36m0\u001b[0m\u001b[0;34m,\u001b[0m\u001b[0mtorch\u001b[0m\u001b[0;34m.\u001b[0m\u001b[0marange\u001b[0m\u001b[0;34m(\u001b[0m\u001b[0mlen\u001b[0m\u001b[0;34m(\u001b[0m\u001b[0mx\u001b[0m\u001b[0;34m)\u001b[0m\u001b[0;34m)\u001b[0m\u001b[0;34m,\u001b[0m\u001b[0mrow\u001b[0m\u001b[0;34m)\u001b[0m\u001b[0;34m\u001b[0m\u001b[0;34m\u001b[0m\u001b[0m\n\u001b[0m",
      "\u001b[0;31mRuntimeError\u001b[0m: index_fill_ only supports a 0-dimensional value tensor, but got tensor with 2 dimension(s)."
     ]
    }
   ],
   "source": [
    "x[:,100:200].index_fill(0,torch.arange(len(x)),row)"
   ]
  },
  {
   "cell_type": "markdown",
   "id": "235317b6-70fb-4621-b675-f7ccc1d3a080",
   "metadata": {},
   "source": [
    "# Test to(device)"
   ]
  },
  {
   "cell_type": "code",
   "execution_count": 104,
   "id": "6961c918-6ea5-415e-8aba-4f90a8692a45",
   "metadata": {},
   "outputs": [],
   "source": [
    "device = torch.device('cuda' if torch.cuda.is_available() else 'cpu')"
   ]
  },
  {
   "cell_type": "code",
   "execution_count": 13,
   "id": "31461b08-07b3-49aa-9f49-fde186161193",
   "metadata": {},
   "outputs": [],
   "source": [
    "import torch"
   ]
  },
  {
   "cell_type": "code",
   "execution_count": 15,
   "id": "53246822-d347-4d85-b9ea-698aeb1db916",
   "metadata": {},
   "outputs": [],
   "source": [
    "edge_ix = [2,3,6,7]"
   ]
  },
  {
   "cell_type": "code",
   "execution_count": 14,
   "id": "cc7b533e-a5a5-4508-b760-f26b89cfb582",
   "metadata": {},
   "outputs": [],
   "source": [
    "x = torch.empty(10)"
   ]
  },
  {
   "cell_type": "code",
   "execution_count": 3,
   "id": "a7772426-c2bc-4f7b-8372-61ba3ecedd33",
   "metadata": {},
   "outputs": [],
   "source": [
    "x = torch.rand(15000**2)/10"
   ]
  },
  {
   "cell_type": "code",
   "execution_count": 4,
   "id": "705af23a-5ae9-428f-9e1a-892e99d180e9",
   "metadata": {},
   "outputs": [
    {
     "data": {
      "text/plain": [
       "225000000"
      ]
     },
     "execution_count": 4,
     "metadata": {},
     "output_type": "execute_result"
    }
   ],
   "source": [
    "len(x)"
   ]
  },
  {
   "cell_type": "code",
   "execution_count": 12,
   "id": "6a936756-fd68-495a-91aa-dc6347fee194",
   "metadata": {},
   "outputs": [],
   "source": [
    "def compute_rank(scores,ix,mask=None):\n",
    "    if mask == None:    \n",
    "        optimistic_rank =(scores > scores[ix]).sum()+1\n",
    "        pessimistic_rank = (scores >= scores[ix]).sum()\n",
    "\n",
    "        \n",
    "    else:\n",
    "        \n",
    "        optimistic_rank = ((scores > scores[ix]).index_fill(0,mask,False)).sum()+1\n",
    "        pessimistic_rank = ((scores >= scores[ix]).index_fill(0,mask,False)).sum()\n",
    "        \n",
    "    rank = (optimistic_rank+pessimistic_rank)*0.5\n",
    "        \n",
    "    return rank"
   ]
  },
  {
   "cell_type": "code",
   "execution_count": 6,
   "id": "745a0816-8e13-4c25-8283-5b627e30ed50",
   "metadata": {},
   "outputs": [],
   "source": [
    "def test_for_loop(no_nodes):\n",
    "    for ix in range(no_nodes):\n",
    "        compute_rank(x,ix)"
   ]
  },
  {
   "cell_type": "code",
   "execution_count": 31,
   "id": "41f65fc2-be62-4daf-bac7-af0d62a721fc",
   "metadata": {},
   "outputs": [],
   "source": [
    "from sklearn.utils.extmath import cartesian\n",
    "no_entities = 10"
   ]
  },
  {
   "cell_type": "code",
   "execution_count": 32,
   "id": "f5e76f30-ea17-48f9-9419-57b451b91107",
   "metadata": {},
   "outputs": [],
   "source": [
    "s_o_combs = torch.tensor(cartesian((range(no_entities),range(no_entities))))"
   ]
  },
  {
   "cell_type": "code",
   "execution_count": 42,
   "id": "8829f23b-9aae-402e-94d2-fc15e4bba4b2",
   "metadata": {},
   "outputs": [
    {
     "data": {
      "text/plain": [
       "tensor([[0, 4],\n",
       "        [1, 4],\n",
       "        [2, 4],\n",
       "        [3, 4],\n",
       "        [4, 4],\n",
       "        [5, 4],\n",
       "        [6, 4],\n",
       "        [7, 4],\n",
       "        [8, 4],\n",
       "        [9, 4]])"
      ]
     },
     "execution_count": 42,
     "metadata": {},
     "output_type": "execute_result"
    }
   ],
   "source": [
    "s_o_combs[s_o_combs[:,1] == 4]"
   ]
  },
  {
   "cell_type": "code",
   "execution_count": 37,
   "id": "41acab95-4ffb-4d41-a802-2fa983672b0c",
   "metadata": {},
   "outputs": [],
   "source": [
    "edge = torch.tensor((8,3))"
   ]
  },
  {
   "cell_type": "code",
   "execution_count": 24,
   "id": "c847ca83-97f6-4577-ada8-b62695f92fc6",
   "metadata": {},
   "outputs": [],
   "source": [
    "def get_head_ix(edge):\n",
    "    return edge[1]\n",
    "    "
   ]
  },
  {
   "cell_type": "code",
   "execution_count": 39,
   "id": "7183dd0e-9d3b-43ee-8a2c-08ae4435cc25",
   "metadata": {},
   "outputs": [
    {
     "data": {
      "text/plain": [
       "tensor([[ True, False],\n",
       "        [ True, False],\n",
       "        [ True, False],\n",
       "        [ True,  True],\n",
       "        [ True, False],\n",
       "        [ True, False],\n",
       "        [ True, False],\n",
       "        [ True, False],\n",
       "        [ True, False],\n",
       "        [ True, False]])"
      ]
     },
     "execution_count": 39,
     "metadata": {},
     "output_type": "execute_result"
    }
   ],
   "source": [
    "(s_o_combs[s_o_combs[:,0] == 8]) == edge"
   ]
  },
  {
   "cell_type": "code",
   "execution_count": 43,
   "id": "fdf3f53a-8f89-4434-9ef6-0e497ead8806",
   "metadata": {},
   "outputs": [],
   "source": [
    "import torch"
   ]
  },
  {
   "cell_type": "code",
   "execution_count": 55,
   "id": "0bc86d83-7de5-4ae4-b1b5-6d8ce1606cf3",
   "metadata": {},
   "outputs": [
    {
     "data": {
      "text/plain": [
       "tensor([0.0254, 0.0369, 0.0385, 0.0559, 0.0590, 0.0802, 0.0820, 0.0830, 0.1129,\n",
       "        0.1385, 0.1404, 0.1464, 0.1597, 0.1666, 0.1749, 0.1787, 0.1849, 0.1860,\n",
       "        0.1864, 0.1894, 0.1926, 0.1936, 0.2087, 0.2259, 0.2362, 0.2431, 0.2432,\n",
       "        0.2510, 0.2562, 0.2628, 0.2636, 0.2861, 0.3117, 0.3150, 0.3167, 0.3234,\n",
       "        0.3400, 0.3578, 0.3680, 0.3685, 0.3845, 0.4022, 0.4223, 0.4458, 0.4459,\n",
       "        0.4466, 0.4490, 0.4693, 0.4786, 0.4813, 0.4950, 0.5070, 0.5315, 0.5491,\n",
       "        0.5513, 0.5782, 0.5888, 0.5912, 0.5975, 0.6226, 0.6295, 0.6357, 0.6359,\n",
       "        0.6633, 0.6647, 0.6673, 0.6688, 0.6693, 0.6720, 0.6769, 0.6776, 0.6794,\n",
       "        0.6850, 0.6957, 0.7136, 0.7474, 0.7594, 0.7893, 0.7931, 0.7945, 0.7974,\n",
       "        0.8010, 0.8085, 0.8261, 0.8273, 0.8337, 0.8354, 0.8644, 0.8739, 0.8765,\n",
       "        0.8768, 0.8990, 0.9069, 0.9142, 0.9369, 0.9434, 0.9724, 0.9769, 0.9814,\n",
       "        0.9963])"
      ]
     },
     "execution_count": 55,
     "metadata": {},
     "output_type": "execute_result"
    }
   ],
   "source": [
    "x = torch.rand(100,2)\n",
    "x = torch.vstack((x,x))\n",
    "torch.unique(x[:,0])"
   ]
  },
  {
   "cell_type": "code",
   "execution_count": 12,
   "id": "30993c32-8c55-43fe-a422-abccede68986",
   "metadata": {},
   "outputs": [],
   "source": [
    "test_for_loop()"
   ]
  },
  {
   "cell_type": "code",
   "execution_count": 9,
   "id": "604e3be2-31c7-45e7-9555-ad127bf09198",
   "metadata": {},
   "outputs": [],
   "source": [
    "import timeit\n",
    "no_nodes = 2500"
   ]
  },
  {
   "cell_type": "code",
   "execution_count": 10,
   "id": "675754c6-e862-486e-ba5d-54d68613994d",
   "metadata": {},
   "outputs": [
    {
     "ename": "KeyboardInterrupt",
     "evalue": "",
     "output_type": "error",
     "traceback": [
      "\u001b[0;31m---------------------------------------------------------------------------\u001b[0m",
      "\u001b[0;31mKeyboardInterrupt\u001b[0m                         Traceback (most recent call last)",
      "\u001b[0;32m/tmp/ipykernel_8098/972235122.py\u001b[0m in \u001b[0;36m<module>\u001b[0;34m\u001b[0m\n\u001b[0;32m----> 1\u001b[0;31m \u001b[0mtimeit\u001b[0m\u001b[0;34m.\u001b[0m\u001b[0mtimeit\u001b[0m\u001b[0;34m(\u001b[0m\u001b[0;34mf'test_for_loop({no_nodes})'\u001b[0m\u001b[0;34m,\u001b[0m \u001b[0mnumber\u001b[0m\u001b[0;34m=\u001b[0m\u001b[0;36m1\u001b[0m\u001b[0;34m,\u001b[0m\u001b[0mglobals\u001b[0m\u001b[0;34m=\u001b[0m\u001b[0mglobals\u001b[0m\u001b[0;34m(\u001b[0m\u001b[0;34m)\u001b[0m\u001b[0;34m)\u001b[0m\u001b[0;34m\u001b[0m\u001b[0;34m\u001b[0m\u001b[0m\n\u001b[0m",
      "\u001b[0;32m/usr/lib/python3.10/timeit.py\u001b[0m in \u001b[0;36mtimeit\u001b[0;34m(stmt, setup, timer, number, globals)\u001b[0m\n\u001b[1;32m    232\u001b[0m            number=default_number, globals=None):\n\u001b[1;32m    233\u001b[0m     \u001b[0;34m\"\"\"Convenience function to create Timer object and call timeit method.\"\"\"\u001b[0m\u001b[0;34m\u001b[0m\u001b[0;34m\u001b[0m\u001b[0m\n\u001b[0;32m--> 234\u001b[0;31m     \u001b[0;32mreturn\u001b[0m \u001b[0mTimer\u001b[0m\u001b[0;34m(\u001b[0m\u001b[0mstmt\u001b[0m\u001b[0;34m,\u001b[0m \u001b[0msetup\u001b[0m\u001b[0;34m,\u001b[0m \u001b[0mtimer\u001b[0m\u001b[0;34m,\u001b[0m \u001b[0mglobals\u001b[0m\u001b[0;34m)\u001b[0m\u001b[0;34m.\u001b[0m\u001b[0mtimeit\u001b[0m\u001b[0;34m(\u001b[0m\u001b[0mnumber\u001b[0m\u001b[0;34m)\u001b[0m\u001b[0;34m\u001b[0m\u001b[0;34m\u001b[0m\u001b[0m\n\u001b[0m\u001b[1;32m    235\u001b[0m \u001b[0;34m\u001b[0m\u001b[0m\n\u001b[1;32m    236\u001b[0m def repeat(stmt=\"pass\", setup=\"pass\", timer=default_timer,\n",
      "\u001b[0;32m/usr/lib/python3.10/timeit.py\u001b[0m in \u001b[0;36mtimeit\u001b[0;34m(self, number)\u001b[0m\n\u001b[1;32m    176\u001b[0m         \u001b[0mgc\u001b[0m\u001b[0;34m.\u001b[0m\u001b[0mdisable\u001b[0m\u001b[0;34m(\u001b[0m\u001b[0;34m)\u001b[0m\u001b[0;34m\u001b[0m\u001b[0;34m\u001b[0m\u001b[0m\n\u001b[1;32m    177\u001b[0m         \u001b[0;32mtry\u001b[0m\u001b[0;34m:\u001b[0m\u001b[0;34m\u001b[0m\u001b[0;34m\u001b[0m\u001b[0m\n\u001b[0;32m--> 178\u001b[0;31m             \u001b[0mtiming\u001b[0m \u001b[0;34m=\u001b[0m \u001b[0mself\u001b[0m\u001b[0;34m.\u001b[0m\u001b[0minner\u001b[0m\u001b[0;34m(\u001b[0m\u001b[0mit\u001b[0m\u001b[0;34m,\u001b[0m \u001b[0mself\u001b[0m\u001b[0;34m.\u001b[0m\u001b[0mtimer\u001b[0m\u001b[0;34m)\u001b[0m\u001b[0;34m\u001b[0m\u001b[0;34m\u001b[0m\u001b[0m\n\u001b[0m\u001b[1;32m    179\u001b[0m         \u001b[0;32mfinally\u001b[0m\u001b[0;34m:\u001b[0m\u001b[0;34m\u001b[0m\u001b[0;34m\u001b[0m\u001b[0m\n\u001b[1;32m    180\u001b[0m             \u001b[0;32mif\u001b[0m \u001b[0mgcold\u001b[0m\u001b[0;34m:\u001b[0m\u001b[0;34m\u001b[0m\u001b[0;34m\u001b[0m\u001b[0m\n",
      "\u001b[0;32m<timeit-src>\u001b[0m in \u001b[0;36minner\u001b[0;34m(_it, _timer)\u001b[0m\n",
      "\u001b[0;32m/tmp/ipykernel_8098/2512627006.py\u001b[0m in \u001b[0;36mtest_for_loop\u001b[0;34m(no_nodes)\u001b[0m\n\u001b[1;32m      1\u001b[0m \u001b[0;32mdef\u001b[0m \u001b[0mtest_for_loop\u001b[0m\u001b[0;34m(\u001b[0m\u001b[0mno_nodes\u001b[0m\u001b[0;34m)\u001b[0m\u001b[0;34m:\u001b[0m\u001b[0;34m\u001b[0m\u001b[0;34m\u001b[0m\u001b[0m\n\u001b[1;32m      2\u001b[0m     \u001b[0;32mfor\u001b[0m \u001b[0mix\u001b[0m \u001b[0;32min\u001b[0m \u001b[0mrange\u001b[0m\u001b[0;34m(\u001b[0m\u001b[0mno_nodes\u001b[0m\u001b[0;34m)\u001b[0m\u001b[0;34m:\u001b[0m\u001b[0;34m\u001b[0m\u001b[0;34m\u001b[0m\u001b[0m\n\u001b[0;32m----> 3\u001b[0;31m         \u001b[0mcompute_rank\u001b[0m\u001b[0;34m(\u001b[0m\u001b[0mx\u001b[0m\u001b[0;34m,\u001b[0m\u001b[0mix\u001b[0m\u001b[0;34m)\u001b[0m\u001b[0;34m\u001b[0m\u001b[0;34m\u001b[0m\u001b[0m\n\u001b[0m",
      "\u001b[0;32m/tmp/ipykernel_8098/3265831538.py\u001b[0m in \u001b[0;36mcompute_rank\u001b[0;34m(scores, ix, mask)\u001b[0m\n\u001b[1;32m      2\u001b[0m     \u001b[0;32mif\u001b[0m \u001b[0mmask\u001b[0m \u001b[0;34m==\u001b[0m \u001b[0;32mNone\u001b[0m\u001b[0;34m:\u001b[0m\u001b[0;34m\u001b[0m\u001b[0;34m\u001b[0m\u001b[0m\n\u001b[1;32m      3\u001b[0m         \u001b[0moptimistic_rank\u001b[0m \u001b[0;34m=\u001b[0m\u001b[0;34m(\u001b[0m\u001b[0mscores\u001b[0m \u001b[0;34m>\u001b[0m \u001b[0mscores\u001b[0m\u001b[0;34m[\u001b[0m\u001b[0mix\u001b[0m\u001b[0;34m]\u001b[0m\u001b[0;34m)\u001b[0m\u001b[0;34m.\u001b[0m\u001b[0msum\u001b[0m\u001b[0;34m(\u001b[0m\u001b[0;34m)\u001b[0m\u001b[0;34m+\u001b[0m\u001b[0;36m1\u001b[0m\u001b[0;34m\u001b[0m\u001b[0;34m\u001b[0m\u001b[0m\n\u001b[0;32m----> 4\u001b[0;31m         \u001b[0mpessimistic_rank\u001b[0m \u001b[0;34m=\u001b[0m \u001b[0;34m(\u001b[0m\u001b[0mscores\u001b[0m \u001b[0;34m>=\u001b[0m \u001b[0mscores\u001b[0m\u001b[0;34m[\u001b[0m\u001b[0mix\u001b[0m\u001b[0;34m]\u001b[0m\u001b[0;34m)\u001b[0m\u001b[0;34m.\u001b[0m\u001b[0msum\u001b[0m\u001b[0;34m(\u001b[0m\u001b[0;34m)\u001b[0m\u001b[0;34m\u001b[0m\u001b[0;34m\u001b[0m\u001b[0m\n\u001b[0m\u001b[1;32m      5\u001b[0m \u001b[0;34m\u001b[0m\u001b[0m\n\u001b[1;32m      6\u001b[0m \u001b[0;34m\u001b[0m\u001b[0m\n",
      "\u001b[0;31mKeyboardInterrupt\u001b[0m: "
     ]
    }
   ],
   "source": [
    "timeit.timeit(f'test_for_loop({no_nodes})', number=1,globals=globals())"
   ]
  },
  {
   "cell_type": "code",
   "execution_count": 28,
   "id": "ee5ae9da-35ca-46e1-91dd-bb5ae6faada2",
   "metadata": {},
   "outputs": [],
   "source": [
    "from scipy.stats import rankdata"
   ]
  },
  {
   "cell_type": "code",
   "execution_count": null,
   "id": "752c7d73-38a0-4b25-836a-c3277f7c85b0",
   "metadata": {},
   "outputs": [],
   "source": [
    "timeit.timeit('rankdata(x)',number=1,globals=globals())"
   ]
  }
 ],
 "metadata": {
  "kernelspec": {
   "display_name": "Python 3 (ipykernel)",
   "language": "python",
   "name": "python3"
  },
  "language_info": {
   "codemirror_mode": {
    "name": "ipython",
    "version": 3
   },
   "file_extension": ".py",
   "mimetype": "text/x-python",
   "name": "python",
   "nbconvert_exporter": "python",
   "pygments_lexer": "ipython3",
   "version": "3.10.8"
  }
 },
 "nbformat": 4,
 "nbformat_minor": 5
}
