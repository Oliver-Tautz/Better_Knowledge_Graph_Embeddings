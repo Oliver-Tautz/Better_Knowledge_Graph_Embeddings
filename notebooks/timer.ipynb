{
 "cells": [
  {
   "cell_type": "code",
   "execution_count": 38,
   "id": "cdd4ad75-104c-449a-8122-47a1ed2b4dc5",
   "metadata": {},
   "outputs": [],
   "source": [
    "from time import perf_counter, sleep\n",
    "from collections import defaultdict\n",
    "import numpy as np\n",
    "import pickle"
   ]
  },
  {
   "cell_type": "code",
   "execution_count": 1,
   "id": "d79f6325-d794-4077-8e82-87ca64a8fd79",
   "metadata": {},
   "outputs": [],
   "source": [
    "def pickle_save(obj,filename):\n",
    "    file = open(filename,'wb') \n",
    "    pickle.dump(obj,file)\n",
    "    file.close()\n",
    "  \n"
   ]
  },
  {
   "cell_type": "code",
   "execution_count": 41,
   "id": "317df748-78c2-4fc8-882d-43e770b75b36",
   "metadata": {},
   "outputs": [],
   "source": [
    "class PerfTimer():\n",
    "    def __init__(self):\n",
    "        self.stats_to_track = defaultdict(list)\n",
    "\n",
    "    def start(self):\n",
    "        self.start_time = perf_counter()\n",
    "        self.current_time = self.start_time\n",
    "    def track(self,stat):\n",
    "\n",
    "            new_time = perf_counter()\n",
    "            self.stats_to_track[stat].append(new_time-self.current_time)\n",
    "            self.current_time = new_time\n",
    "    def stats(self):\n",
    "        return self.stats_to_track\n",
    "    def stats_sum(self):\n",
    "        return {key: sum(value) for key,value in  self.stats().items()}\n",
    "    def stats_mean(self):\n",
    "        return {key: np.mean(value) for key,value in  self.stats().items()}\n",
    "    def stats_f(self,f):\n",
    "        return {key: f(value) for key,value in  self.stats().items()}\n",
    "        \n",
    "    "
   ]
  },
  {
   "cell_type": "code",
   "execution_count": 42,
   "id": "b46ca19a-3608-43cf-a2d1-236e6a530fcc",
   "metadata": {
    "lines_to_next_cell": 3
   },
   "outputs": [
    {
     "name": "stdout",
     "output_type": "stream",
     "text": [
      "defaultdict(<class 'list'>, {'first_operation': [0.40045612399990205, 0.40043040399996244, 0.4004391389999, 0.40043138100008946, 0.40044612800011237, 0.40050819299995055, 0.400431215000026, 0.40043372799982535, 0.40042683299998316, 0.4004289859999517], 'second_operation': [1.2012589329997354, 1.201230833000409, 1.2012293449997742, 1.2001466709998567, 1.201240183000209, 1.201258252000116, 1.2012481679998928, 1.2010942420001811, 1.2012233390000802, 1.2012412469998708]})\n",
      "{'first_operation': 4.004432130999703, 'second_operation': 12.011171213000125}\n",
      "{'first_operation': 0.40044321309997033, 'second_operation': 1.2011171213000125}\n",
      "{'first_operation': 0.40050819299995055, 'second_operation': 1.2012589329997354}\n"
     ]
    }
   ],
   "source": [
    "if __name__ == \"__main__\":\n",
    "    pt = PerfTimer()\n",
    "    pt.start()\n",
    "    for i in range(10):\n",
    "        sleep(0.4)\n",
    "        pt.track('first_operation')\n",
    "        sleep(1.2)\n",
    "        pt.track('second_operation')\n",
    "    print(pt.stats())\n",
    "    print(pt.stats_sum())\n",
    "    print(pt.stats_mean())\n",
    "    print(pt.stats_f(max))"
   ]
  }
 ],
 "metadata": {
  "jupytext": {
   "formats": "ipynb,py:percent"
  },
  "kernelspec": {
   "display_name": "Python 3 (ipykernel)",
   "language": "python",
   "name": "python3"
  },
  "language_info": {
   "codemirror_mode": {
    "name": "ipython",
    "version": 3
   },
   "file_extension": ".py",
   "mimetype": "text/x-python",
   "name": "python",
   "nbconvert_exporter": "python",
   "pygments_lexer": "ipython3",
   "version": "3.10.8"
  }
 },
 "nbformat": 4,
 "nbformat_minor": 5
}
